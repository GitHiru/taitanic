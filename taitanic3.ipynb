{
 "cells": [
  {
   "cell_type": "markdown",
   "metadata": {},
   "source": [
    "## 🚢 環境準備"
   ]
  },
  {
   "cell_type": "code",
   "execution_count": 1,
   "metadata": {},
   "outputs": [],
   "source": [
    "import pandas as pd\n",
    "import numpy as np\n",
    "\n",
    "from sklearn.preprocessing import LabelEncoder\n",
    "\n",
    "import matplotlib.pyplot as plt\n",
    "import seaborn as sns\n",
    "sns.set()"
   ]
  },
  {
   "cell_type": "code",
   "execution_count": 2,
   "metadata": {},
   "outputs": [
    {
     "name": "stdout",
     "output_type": "stream",
     "text": [
      "The size of the train data : (891, 12)\n",
      "The size of the test data : (418, 11)\n",
      "The size of the alldata data: (1309, 13)\n"
     ]
    }
   ],
   "source": [
    "train_raw = pd.read_csv('csv/train.csv') # read:学習データ\n",
    "test_raw = pd.read_csv('csv/test.csv')   # read:テストデータ\n",
    "print('The size of the train data :', train_raw.shape)\n",
    "print('The size of the test data :', test_raw.shape)\n",
    "\n",
    "train_mid = train_raw.copy()\n",
    "test_mid = test_raw.copy()\n",
    "train_mid['train_or_test'] = 'train' # add:学習データフラグ\n",
    "test_mid['train_or_test'] = 'test'   # add:テストデータフラグ\n",
    "test_mid['Survived'] = 9             # add:テストにSurvivedカラムを仮置き\n",
    "\n",
    "alldata = pd.concat([train_mid, test_mid], sort=False, axis=0).reset_index(drop=True)\n",
    "print('The size of the alldata data:', alldata.shape)"
   ]
  },
  {
   "cell_type": "code",
   "execution_count": null,
   "metadata": {},
   "outputs": [],
   "source": [
    "train_mid.head()"
   ]
  },
  {
   "cell_type": "code",
   "execution_count": null,
   "metadata": {},
   "outputs": [],
   "source": [
    "test_mid.head()"
   ]
  },
  {
   "cell_type": "code",
   "execution_count": null,
   "metadata": {},
   "outputs": [],
   "source": [
    "alldata.head()"
   ]
  },
  {
   "cell_type": "markdown",
   "metadata": {},
   "source": [
    "## 🚢 前処理"
   ]
  },
  {
   "cell_type": "markdown",
   "metadata": {},
   "source": [
    "### - 欠損値補完"
   ]
  },
  {
   "cell_type": "code",
   "execution_count": 3,
   "metadata": {},
   "outputs": [
    {
     "data": {
      "text/plain": [
       "PassengerId         0\n",
       "Survived            0\n",
       "Pclass              0\n",
       "Name                0\n",
       "Sex                 0\n",
       "Age               263\n",
       "SibSp               0\n",
       "Parch               0\n",
       "Ticket              0\n",
       "Fare                1\n",
       "Cabin            1014\n",
       "Embarked            2\n",
       "train_or_test       0\n",
       "dtype: int64"
      ]
     },
     "execution_count": 3,
     "metadata": {},
     "output_type": "execute_result"
    }
   ],
   "source": [
    "alldata.isnull().sum()"
   ]
  },
  {
   "cell_type": "code",
   "execution_count": 4,
   "metadata": {},
   "outputs": [
    {
     "name": "stdout",
     "output_type": "stream",
     "text": [
      "PassengerId         0\n",
      "Survived            0\n",
      "Pclass              0\n",
      "Name                0\n",
      "Sex                 0\n",
      "Age               263\n",
      "SibSp               0\n",
      "Parch               0\n",
      "Ticket              0\n",
      "Fare                0\n",
      "Cabin            1014\n",
      "Embarked            0\n",
      "train_or_test       0\n",
      "dtype: int64\n"
     ]
    }
   ],
   "source": [
    "# Embarked(出港)には最頻値を代入\n",
    "alldata.Embarked.fillna(alldata.Embarked.mode()[0], inplace=True)\n",
    "# Fare(料金)には中央値を代入\n",
    "alldata.Fare.fillna(alldata.Fare.median(), inplace=True)\n",
    "# 欠損値補完がされたかを確認\n",
    "print(alldata.isnull().sum())"
   ]
  },
  {
   "cell_type": "markdown",
   "metadata": {},
   "source": [
    "### - 特徴量別加工"
   ]
  },
  {
   "cell_type": "markdown",
   "metadata": {},
   "source": [
    "#### ・ Parch / Sibsp\n",
    "（親,子供数 / 兄弟,配偶者数）"
   ]
  },
  {
   "cell_type": "code",
   "execution_count": 5,
   "metadata": {},
   "outputs": [],
   "source": [
    "# Familysize\n",
    "alldata['FamilySize'] = alldata['Parch'] + alldata['SibSp'] + 1\n",
    "# Familysize離散化：ビニング処理（ビン分割）\n",
    "alldata['FamilySize_bin'] = 'big' # add:8以上はbigとする\n",
    "alldata.loc[alldata['FamilySize']==1, 'FamilySize_bin'] = 'alone'\n",
    "alldata.loc[(alldata['FamilySize']>=2) & (alldata['FamilySize']<=4), 'FamilySize_bin'] = 'small'\n",
    "alldata.loc[(alldata['FamilySize']>=5) & (alldata['FamilySize']<=7), 'FamilySize_bin'] = 'mediam'"
   ]
  },
  {
   "cell_type": "markdown",
   "metadata": {},
   "source": [
    "#### ・ Ticket\n",
    "同じTicketを持っている乗客数(alldataにおけるTicketの出現頻度)"
   ]
  },
  {
   "cell_type": "code",
   "execution_count": 6,
   "metadata": {},
   "outputs": [],
   "source": [
    "alldata.loc[:, 'TicketFreq'] = alldata.groupby(['Ticket'])['PassengerId'].transform('count')"
   ]
  },
  {
   "cell_type": "markdown",
   "metadata": {},
   "source": [
    "#### ・ Name\n",
    "ミドルネーム（honorific）を特徴量とする"
   ]
  },
  {
   "cell_type": "code",
   "execution_count": 7,
   "metadata": {},
   "outputs": [],
   "source": [
    "# テストデータの敬称（honorific）抽出\n",
    "alldata['honorific'] = alldata['Name'].map(lambda x: x.split(', ')[1].split('. ')[0])\n",
    "# 敬称（honorific）格好\n",
    "alldata['honorific'].replace(['Col', 'Dr', 'Rev'], 'Rare', inplace=True) # 少数派の敬称をRare統合\n",
    "alldata['honorific'].replace(['Mlle', 'Ms'], 'Miss', inplace=True) # Missに統合"
   ]
  },
  {
   "cell_type": "markdown",
   "metadata": {},
   "source": [
    "#### ・ Fare\n",
    "    (運賃)外れ値が存在\n",
    "    ロバスト（頑健）なモデル構築を目的とするので、ビニング（分割）"
   ]
  },
  {
   "cell_type": "code",
   "execution_count": 8,
   "metadata": {},
   "outputs": [],
   "source": [
    "alldata.loc[:, 'Fare_bin'] = pd.qcut(alldata.Fare, 14) # 14分割（今回は任意設定）"
   ]
  },
  {
   "cell_type": "markdown",
   "metadata": {},
   "source": [
    "#### ・ Cabin\n",
    "客室番号"
   ]
  },
  {
   "cell_type": "code",
   "execution_count": 9,
   "metadata": {},
   "outputs": [],
   "source": [
    "# Cabinの頭文字\n",
    "alldata['Cabin_ini'] = alldata['Cabin'].map(lambda x:str(x)[0])\n",
    "alldata['Cabin_ini'].replace(['G','T'], 'Rare',inplace=True) #少数派のCabin_iniを統合"
   ]
  },
  {
   "cell_type": "markdown",
   "metadata": {},
   "source": [
    "#### ・ Encoding"
   ]
  },
  {
   "cell_type": "code",
   "execution_count": 10,
   "metadata": {},
   "outputs": [
    {
     "data": {
      "text/html": [
       "<div>\n",
       "<style scoped>\n",
       "    .dataframe tbody tr th:only-of-type {\n",
       "        vertical-align: middle;\n",
       "    }\n",
       "\n",
       "    .dataframe tbody tr th {\n",
       "        vertical-align: top;\n",
       "    }\n",
       "\n",
       "    .dataframe thead th {\n",
       "        text-align: right;\n",
       "    }\n",
       "</style>\n",
       "<table border=\"1\" class=\"dataframe\">\n",
       "  <thead>\n",
       "    <tr style=\"text-align: right;\">\n",
       "      <th></th>\n",
       "      <th>PassengerId</th>\n",
       "      <th>Survived</th>\n",
       "      <th>Pclass</th>\n",
       "      <th>Name</th>\n",
       "      <th>Sex</th>\n",
       "      <th>Age</th>\n",
       "      <th>SibSp</th>\n",
       "      <th>Parch</th>\n",
       "      <th>Ticket</th>\n",
       "      <th>Fare</th>\n",
       "      <th>Cabin</th>\n",
       "      <th>Embarked</th>\n",
       "      <th>train_or_test</th>\n",
       "      <th>FamilySize</th>\n",
       "      <th>FamilySize_bin</th>\n",
       "      <th>TicketFreq</th>\n",
       "      <th>honorific</th>\n",
       "      <th>Fare_bin</th>\n",
       "      <th>Cabin_ini</th>\n",
       "    </tr>\n",
       "  </thead>\n",
       "  <tbody>\n",
       "    <tr>\n",
       "      <th>0</th>\n",
       "      <td>1</td>\n",
       "      <td>0</td>\n",
       "      <td>3</td>\n",
       "      <td>Braund, Mr. Owen Harris</td>\n",
       "      <td>male</td>\n",
       "      <td>22.0</td>\n",
       "      <td>1</td>\n",
       "      <td>0</td>\n",
       "      <td>A/5 21171</td>\n",
       "      <td>7.2500</td>\n",
       "      <td>NaN</td>\n",
       "      <td>S</td>\n",
       "      <td>train</td>\n",
       "      <td>2</td>\n",
       "      <td>small</td>\n",
       "      <td>1</td>\n",
       "      <td>Mr</td>\n",
       "      <td>(7.229, 7.75]</td>\n",
       "      <td>n</td>\n",
       "    </tr>\n",
       "    <tr>\n",
       "      <th>1</th>\n",
       "      <td>2</td>\n",
       "      <td>1</td>\n",
       "      <td>1</td>\n",
       "      <td>Cumings, Mrs. John Bradley (Florence Briggs Th...</td>\n",
       "      <td>female</td>\n",
       "      <td>38.0</td>\n",
       "      <td>1</td>\n",
       "      <td>0</td>\n",
       "      <td>PC 17599</td>\n",
       "      <td>71.2833</td>\n",
       "      <td>C85</td>\n",
       "      <td>C</td>\n",
       "      <td>train</td>\n",
       "      <td>2</td>\n",
       "      <td>small</td>\n",
       "      <td>2</td>\n",
       "      <td>Mrs</td>\n",
       "      <td>(59.4, 90.0]</td>\n",
       "      <td>C</td>\n",
       "    </tr>\n",
       "    <tr>\n",
       "      <th>2</th>\n",
       "      <td>3</td>\n",
       "      <td>1</td>\n",
       "      <td>3</td>\n",
       "      <td>Heikkinen, Miss. Laina</td>\n",
       "      <td>female</td>\n",
       "      <td>26.0</td>\n",
       "      <td>0</td>\n",
       "      <td>0</td>\n",
       "      <td>STON/O2. 3101282</td>\n",
       "      <td>7.9250</td>\n",
       "      <td>NaN</td>\n",
       "      <td>S</td>\n",
       "      <td>train</td>\n",
       "      <td>1</td>\n",
       "      <td>alone</td>\n",
       "      <td>1</td>\n",
       "      <td>Miss</td>\n",
       "      <td>(7.879, 8.05]</td>\n",
       "      <td>n</td>\n",
       "    </tr>\n",
       "    <tr>\n",
       "      <th>3</th>\n",
       "      <td>4</td>\n",
       "      <td>1</td>\n",
       "      <td>1</td>\n",
       "      <td>Futrelle, Mrs. Jacques Heath (Lily May Peel)</td>\n",
       "      <td>female</td>\n",
       "      <td>35.0</td>\n",
       "      <td>1</td>\n",
       "      <td>0</td>\n",
       "      <td>113803</td>\n",
       "      <td>53.1000</td>\n",
       "      <td>C123</td>\n",
       "      <td>S</td>\n",
       "      <td>train</td>\n",
       "      <td>2</td>\n",
       "      <td>small</td>\n",
       "      <td>2</td>\n",
       "      <td>Mrs</td>\n",
       "      <td>(39.0, 59.4]</td>\n",
       "      <td>C</td>\n",
       "    </tr>\n",
       "    <tr>\n",
       "      <th>4</th>\n",
       "      <td>5</td>\n",
       "      <td>0</td>\n",
       "      <td>3</td>\n",
       "      <td>Allen, Mr. William Henry</td>\n",
       "      <td>male</td>\n",
       "      <td>35.0</td>\n",
       "      <td>0</td>\n",
       "      <td>0</td>\n",
       "      <td>373450</td>\n",
       "      <td>8.0500</td>\n",
       "      <td>NaN</td>\n",
       "      <td>S</td>\n",
       "      <td>train</td>\n",
       "      <td>1</td>\n",
       "      <td>alone</td>\n",
       "      <td>1</td>\n",
       "      <td>Mr</td>\n",
       "      <td>(7.879, 8.05]</td>\n",
       "      <td>n</td>\n",
       "    </tr>\n",
       "  </tbody>\n",
       "</table>\n",
       "</div>"
      ],
      "text/plain": [
       "   PassengerId  Survived  Pclass  \\\n",
       "0            1         0       3   \n",
       "1            2         1       1   \n",
       "2            3         1       3   \n",
       "3            4         1       1   \n",
       "4            5         0       3   \n",
       "\n",
       "                                                Name     Sex   Age  SibSp  \\\n",
       "0                            Braund, Mr. Owen Harris    male  22.0      1   \n",
       "1  Cumings, Mrs. John Bradley (Florence Briggs Th...  female  38.0      1   \n",
       "2                             Heikkinen, Miss. Laina  female  26.0      0   \n",
       "3       Futrelle, Mrs. Jacques Heath (Lily May Peel)  female  35.0      1   \n",
       "4                           Allen, Mr. William Henry    male  35.0      0   \n",
       "\n",
       "   Parch            Ticket     Fare Cabin Embarked train_or_test  FamilySize  \\\n",
       "0      0         A/5 21171   7.2500   NaN        S         train           2   \n",
       "1      0          PC 17599  71.2833   C85        C         train           2   \n",
       "2      0  STON/O2. 3101282   7.9250   NaN        S         train           1   \n",
       "3      0            113803  53.1000  C123        S         train           2   \n",
       "4      0            373450   8.0500   NaN        S         train           1   \n",
       "\n",
       "  FamilySize_bin  TicketFreq honorific       Fare_bin Cabin_ini  \n",
       "0          small           1        Mr  (7.229, 7.75]         n  \n",
       "1          small           2       Mrs   (59.4, 90.0]         C  \n",
       "2          alone           1      Miss  (7.879, 8.05]         n  \n",
       "3          small           2       Mrs   (39.0, 59.4]         C  \n",
       "4          alone           1        Mr  (7.879, 8.05]         n  "
      ]
     },
     "execution_count": 10,
     "metadata": {},
     "output_type": "execute_result"
    }
   ],
   "source": [
    "alldata.head()"
   ]
  },
  {
   "cell_type": "code",
   "execution_count": 11,
   "metadata": {},
   "outputs": [
    {
     "data": {
      "text/plain": [
       "PassengerId          int64\n",
       "Survived             int64\n",
       "Pclass               int64\n",
       "Name                object\n",
       "Sex                 object\n",
       "Age                float64\n",
       "SibSp                int64\n",
       "Parch                int64\n",
       "Ticket              object\n",
       "Fare               float64\n",
       "Cabin               object\n",
       "Embarked            object\n",
       "train_or_test       object\n",
       "FamilySize           int64\n",
       "FamilySize_bin      object\n",
       "TicketFreq           int64\n",
       "honorific           object\n",
       "Fare_bin          category\n",
       "Cabin_ini           object\n",
       "dtype: object"
      ]
     },
     "execution_count": 11,
     "metadata": {},
     "output_type": "execute_result"
    }
   ],
   "source": [
    "alldata.dtypes"
   ]
  },
  {
   "cell_type": "code",
   "execution_count": 12,
   "metadata": {},
   "outputs": [],
   "source": [
    "# PclassをObject型に変換 ∵カテゴリカル変数のPclassが整数型になっているので、文字列に変換\n",
    "alldata.Pclass = alldata.Pclass.astype('str')"
   ]
  },
  {
   "cell_type": "code",
   "execution_count": 13,
   "metadata": {},
   "outputs": [],
   "source": [
    "# カテゴリ特徴量について Label-Encoding を施す\n",
    "le_target_col = ['Sex', 'Fare_bin']\n",
    "le = LabelEncoder()\n",
    "for col in le_target_col:\n",
    "    alldata.loc[:, col] = le.fit_transform(alldata[col])"
   ]
  },
  {
   "cell_type": "code",
   "execution_count": 14,
   "metadata": {},
   "outputs": [],
   "source": [
    "# カテゴリカル変数 One-Hot-Encoding を施す\n",
    "cat_col = ['Pclass', 'Embarked','honorific','Cabin_ini', 'FamilySize_bin', 'Fare_bin']\n",
    "alldata = pd.get_dummies(alldata, drop_first=True, columns=cat_col)"
   ]
  },
  {
   "cell_type": "code",
   "execution_count": 15,
   "metadata": {},
   "outputs": [
    {
     "data": {
      "text/plain": [
       "Index(['PassengerId', 'Survived', 'Name', 'Sex', 'Age', 'SibSp', 'Parch',\n",
       "       'Ticket', 'Fare', 'Cabin', 'train_or_test', 'FamilySize', 'TicketFreq',\n",
       "       'Pclass_2', 'Pclass_3', 'Embarked_Q', 'Embarked_S', 'honorific_Don',\n",
       "       'honorific_Dona', 'honorific_Jonkheer', 'honorific_Lady',\n",
       "       'honorific_Major', 'honorific_Master', 'honorific_Miss',\n",
       "       'honorific_Mme', 'honorific_Mr', 'honorific_Mrs', 'honorific_Rare',\n",
       "       'honorific_Sir', 'honorific_the Countess', 'Cabin_ini_B', 'Cabin_ini_C',\n",
       "       'Cabin_ini_D', 'Cabin_ini_E', 'Cabin_ini_F', 'Cabin_ini_Rare',\n",
       "       'Cabin_ini_n', 'FamilySize_bin_big', 'FamilySize_bin_mediam',\n",
       "       'FamilySize_bin_small', 'Fare_bin_1', 'Fare_bin_2', 'Fare_bin_3',\n",
       "       'Fare_bin_4', 'Fare_bin_5', 'Fare_bin_6', 'Fare_bin_7', 'Fare_bin_8',\n",
       "       'Fare_bin_9', 'Fare_bin_10', 'Fare_bin_11', 'Fare_bin_12',\n",
       "       'Fare_bin_13'],\n",
       "      dtype='object')"
      ]
     },
     "execution_count": 15,
     "metadata": {},
     "output_type": "execute_result"
    }
   ],
   "source": [
    "alldata.columns"
   ]
  },
  {
   "cell_type": "markdown",
   "metadata": {},
   "source": [
    "## 🚢 モデル構築"
   ]
  },
  {
   "cell_type": "code",
   "execution_count": 16,
   "metadata": {},
   "outputs": [],
   "source": [
    "from sklearn.model_selection import train_test_split\n",
    "\n",
    "# 最初に統合したtrainとtestを分離\n",
    "train = alldata.query('train_or_test == \"train\"')\n",
    "test = alldata.query('train_or_test == \"test\"')\n",
    "# ターゲット変数と、学習に不要なカラムを定義\n",
    "target_col = 'Survived'\n",
    "drop_col = ['PassengerId','Survived', 'Name', 'Fare', 'Ticket', 'Cabin', 'train_or_test', 'Age', 'Parch', 'FamilySize', 'SibSp']\n",
    "# 学習に必要な特徴量のみを保持\n",
    "train_feature = train.drop(columns=drop_col)\n",
    "test_feature = test.drop(columns=drop_col)\n",
    "train_tagert = train[target_col]\n",
    "# trainデータを分割\n",
    "X_train, X_test, y_train, y_test = train_test_split(\n",
    "    train_feature, train_tagert, test_size=0.2, random_state=0, stratify=train_tagert)"
   ]
  },
  {
   "cell_type": "markdown",
   "metadata": {},
   "source": [
    "### - ベースライン"
   ]
  },
  {
   "cell_type": "code",
   "execution_count": 17,
   "metadata": {},
   "outputs": [
    {
     "name": "stdout",
     "output_type": "stream",
     "text": [
      "survive rate:0.38342696629213485\n",
      "base line accuracy: 0.6165730337078652\n"
     ]
    }
   ],
   "source": [
    "# trainから頻度に応じて単純なモデルを作る場合\n",
    "survive_rate = y_train.sum()/len(y_train)\n",
    "print(f'survive rate:{survive_rate}')\n",
    "print(f'base line accuracy: {1 - survive_rate}')"
   ]
  },
  {
   "cell_type": "markdown",
   "metadata": {},
   "source": [
    "機械学習モデルによる予測では、少なくともこのAccuracy62%を超えていないと話になりません。\n",
    "以下ではRandamForest、XGBoost、LightGBM、LogisticRegression、SVCの5つの機械学習モデルで学習データへの当てはめとテストデータへの汎化性能を確認。"
   ]
  },
  {
   "cell_type": "code",
   "execution_count": 19,
   "metadata": {
    "collapsed": true,
    "jupyter": {
     "outputs_hidden": true
    }
   },
   "outputs": [
    {
     "name": "stdout",
     "output_type": "stream",
     "text": [
      "Collecting lightgbm\n",
      "  Downloading lightgbm-3.1.1-py2.py3-none-macosx_10_13_x86_64.macosx_10_14_x86_64.macosx_10_15_x86_64.whl (1.0 MB)\n",
      "\u001b[K     |████████████████████████████████| 1.0 MB 1.1 MB/s eta 0:00:01\n",
      "\u001b[?25hRequirement already satisfied: scikit-learn!=0.22.0 in /Users/t/.pyenv/versions/3.8.5/lib/python3.8/site-packages (from lightgbm) (0.23.2)\n",
      "Requirement already satisfied: scipy in /Users/t/.pyenv/versions/3.8.5/lib/python3.8/site-packages (from lightgbm) (1.5.4)\n",
      "Requirement already satisfied: numpy in /Users/t/.pyenv/versions/3.8.5/lib/python3.8/site-packages (from lightgbm) (1.19.4)\n",
      "Requirement already satisfied: threadpoolctl>=2.0.0 in /Users/t/.pyenv/versions/3.8.5/lib/python3.8/site-packages (from scikit-learn!=0.22.0->lightgbm) (2.1.0)\n",
      "Requirement already satisfied: joblib>=0.11 in /Users/t/.pyenv/versions/3.8.5/lib/python3.8/site-packages (from scikit-learn!=0.22.0->lightgbm) (0.17.0)\n",
      "Collecting wheel\n",
      "  Downloading wheel-0.36.2-py2.py3-none-any.whl (35 kB)\n",
      "Installing collected packages: wheel, lightgbm\n",
      "Successfully installed lightgbm-3.1.1 wheel-0.36.2\n"
     ]
    }
   ],
   "source": [
    "!pip install lightgbm"
   ]
  },
  {
   "cell_type": "code",
   "execution_count": 20,
   "metadata": {
    "collapsed": true,
    "jupyter": {
     "outputs_hidden": true
    }
   },
   "outputs": [
    {
     "name": "stdout",
     "output_type": "stream",
     "text": [
      "====================\n",
      "RandomForestClassifier\n",
      "accuracy of train set: 0.9199438202247191\n",
      "accuracy of test set: 0.7821229050279329\n",
      "[11:30:12] WARNING: /Users/travis/build/dmlc/xgboost/src/learner.cc:1061: Starting in XGBoost 1.3.0, the default evaluation metric used with the objective 'binary:logistic' was changed from 'error' to 'logloss'. Explicitly set eval_metric if you'd like to restore the old behavior.\n",
      "====================\n",
      "XGBClassifier\n",
      "accuracy of train set: 0.9030898876404494\n",
      "accuracy of train set: 0.7877094972067039\n",
      "====================\n",
      "LGBMClassifier\n",
      "accuracy of train set: 0.8932584269662921\n"
     ]
    },
    {
     "name": "stderr",
     "output_type": "stream",
     "text": [
      "/Users/t/.pyenv/versions/3.8.5/lib/python3.8/site-packages/xgboost/sklearn.py:888: UserWarning: The use of label encoder in XGBClassifier is deprecated and will be removed in a future release. To remove this warning, do the following: 1) Pass option use_label_encoder=False when constructing XGBClassifier object; and 2) Encode your labels (y) as integers starting with 0, i.e. 0, 1, 2, ..., [num_class - 1].\n",
      "  warnings.warn(label_encoder_deprecation_msg, UserWarning)\n"
     ]
    },
    {
     "name": "stdout",
     "output_type": "stream",
     "text": [
      "accuracy of train set: 0.7988826815642458\n",
      "====================\n",
      "LogisticRegression\n",
      "accuracy of train set: 0.8426966292134831\n",
      "accuracy of train set: 0.8156424581005587\n",
      "====================\n",
      "SVC\n",
      "accuracy of train set: 0.8426966292134831\n",
      "accuracy of train set: 0.8156424581005587\n"
     ]
    }
   ],
   "source": [
    "from sklearn.ensemble import RandomForestClassifier\n",
    "from xgboost import XGBClassifier\n",
    "from lightgbm import LGBMClassifier\n",
    "from sklearn.svm import SVC\n",
    "from sklearn.linear_model import LogisticRegression\n",
    "\n",
    "rfc = RandomForestClassifier(random_state=0)\n",
    "rfc.fit(X_train, y_train)\n",
    "print('='*20)\n",
    "print('RandomForestClassifier')\n",
    "print(f'accuracy of train set: {rfc.score(X_train, y_train)}')\n",
    "print(f'accuracy of test set: {rfc.score(X_test, y_test)}')\n",
    "\n",
    "xgb = XGBClassifier(random_state=0)\n",
    "xgb.fit(X_train, y_train)\n",
    "print('='*20)\n",
    "print('XGBClassifier')\n",
    "print(f'accuracy of train set: {xgb.score(X_train, y_train)}')\n",
    "print(f'accuracy of train set: {xgb.score(X_test, y_test)}')\n",
    "\n",
    "lgb = LGBMClassifier(random_state=0)\n",
    "lgb.fit(X_train, y_train)\n",
    "print('='*20)\n",
    "print('LGBMClassifier')\n",
    "print(f'accuracy of train set: {lgb.score(X_train, y_train)}')\n",
    "print(f'accuracy of train set: {lgb.score(X_test, y_test)}')\n",
    "\n",
    "lr = LogisticRegression(random_state=0)\n",
    "lr.fit(X_train, y_train)\n",
    "print('='*20)\n",
    "print('LogisticRegression')\n",
    "print(f'accuracy of train set: {lr.score(X_train, y_train)}')\n",
    "print(f'accuracy of train set: {lr.score(X_test, y_test)}')\n",
    "\n",
    "svc = SVC(random_state=0)\n",
    "svc.fit(X_train, y_train)\n",
    "print('='*20)\n",
    "print('SVC')\n",
    "print(f'accuracy of train set: {svc.score(X_train, y_train)}')\n",
    "print(f'accuracy of train set: {svc.score(X_test, y_test)}')"
   ]
  },
  {
   "cell_type": "code",
   "execution_count": 21,
   "metadata": {},
   "outputs": [
    {
     "data": {
      "text/plain": [
       "Text(0.5, 1.0, 'RandomForestClassifier feature importance')"
      ]
     },
     "execution_count": 21,
     "metadata": {},
     "output_type": "execute_result"
    },
    {
     "data": {
      "image/png": "[encoded data removed]",
      "text/plain": [
       "<Figure size 1440x720 with 1 Axes>"
      ]
     },
     "metadata": {},
     "output_type": "display_data"
    }
   ],
   "source": [
    "# 試しにRandamForestClassifierの重要度を可視化する\n",
    "plt.figure(figsize=(20,10))\n",
    "plt.barh(\n",
    "    X_train.columns[np.argsort(rfc.feature_importances_)],\n",
    "    rfc.feature_importances_[np.argsort(rfc.feature_importances_)],\n",
    "    label='RandomForestClassifier'\n",
    ")\n",
    "plt.title('RandomForestClassifier feature importance')"
   ]
  },
  {
   "cell_type": "markdown",
   "metadata": {},
   "source": [
    "### - パラメーターチューニング\n",
    "今回はscikit-learnのGridSearchCVではなく、Preferred Networks社が出しているハイパーパラメータ自動化ツールOptunaを使用"
   ]
  },
  {
   "cell_type": "code",
   "execution_count": 23,
   "metadata": {
    "collapsed": true,
    "jupyter": {
     "outputs_hidden": true
    }
   },
   "outputs": [
    {
     "name": "stdout",
     "output_type": "stream",
     "text": [
      "Collecting optuna\n",
      "  Downloading optuna-2.3.0.tar.gz (258 kB)\n",
      "\u001b[K     |████████████████████████████████| 258 kB 766 kB/s eta 0:00:01\n",
      "\u001b[?25h  Installing build dependencies ... \u001b[?25ldone\n",
      "\u001b[?25h  Getting requirements to build wheel ... \u001b[?25ldone\n",
      "\u001b[?25h    Preparing wheel metadata ... \u001b[?25ldone\n",
      "\u001b[?25hRequirement already satisfied: packaging>=20.0 in /Users/t/.pyenv/versions/3.8.5/lib/python3.8/site-packages (from optuna) (20.4)\n",
      "Requirement already satisfied: joblib in /Users/t/.pyenv/versions/3.8.5/lib/python3.8/site-packages (from optuna) (0.17.0)\n",
      "Requirement already satisfied: scipy!=1.4.0 in /Users/t/.pyenv/versions/3.8.5/lib/python3.8/site-packages (from optuna) (1.5.4)\n",
      "Requirement already satisfied: tqdm in /Users/t/.pyenv/versions/3.8.5/lib/python3.8/site-packages (from optuna) (4.54.1)\n",
      "Requirement already satisfied: numpy in /Users/t/.pyenv/versions/3.8.5/lib/python3.8/site-packages (from optuna) (1.19.4)\n",
      "Collecting cmaes>=0.6.0\n",
      "  Downloading cmaes-0.7.0-py3-none-any.whl (13 kB)\n",
      "Requirement already satisfied: pyparsing>=2.0.2 in /Users/t/.pyenv/versions/3.8.5/lib/python3.8/site-packages (from packaging>=20.0->optuna) (2.4.7)\n",
      "Requirement already satisfied: six in /Users/t/.pyenv/versions/3.8.5/lib/python3.8/site-packages (from packaging>=20.0->optuna) (1.15.0)\n",
      "Collecting sqlalchemy>=1.1.0\n",
      "  Downloading SQLAlchemy-1.3.22-cp38-cp38-macosx_10_14_x86_64.whl (1.2 MB)\n",
      "\u001b[K     |████████████████████████████████| 1.2 MB 611 kB/s eta 0:00:01\n",
      "\u001b[?25hCollecting alembic\n",
      "  Downloading alembic-1.4.3-py2.py3-none-any.whl (159 kB)\n",
      "\u001b[K     |████████████████████████████████| 159 kB 11.9 MB/s eta 0:00:01\n",
      "\u001b[?25hRequirement already satisfied: python-dateutil in /Users/t/.pyenv/versions/3.8.5/lib/python3.8/site-packages (from alembic->optuna) (2.8.1)\n",
      "Collecting python-editor>=0.3\n",
      "  Downloading python_editor-1.0.4-py3-none-any.whl (4.9 kB)\n",
      "Collecting cliff\n",
      "  Downloading cliff-3.5.0-py3-none-any.whl (81 kB)\n",
      "\u001b[K     |████████████████████████████████| 81 kB 561 kB/s eta 0:00:01\n",
      "\u001b[?25hCollecting cmd2!=0.8.3,>=0.8.0\n",
      "  Downloading cmd2-1.4.0-py3-none-any.whl (133 kB)\n",
      "\u001b[K     |████████████████████████████████| 133 kB 546 kB/s eta 0:00:01\n",
      "\u001b[?25hRequirement already satisfied: attrs>=16.3.0 in /Users/t/.pyenv/versions/3.8.5/lib/python3.8/site-packages (from cmd2!=0.8.3,>=0.8.0->cliff->optuna) (20.2.0)\n",
      "Requirement already satisfied: colorama>=0.3.7 in /Users/t/.pyenv/versions/3.8.5/lib/python3.8/site-packages (from cmd2!=0.8.3,>=0.8.0->cliff->optuna) (0.4.4)\n",
      "Requirement already satisfied: wcwidth>=0.1.7 in /Users/t/.pyenv/versions/3.8.5/lib/python3.8/site-packages (from cmd2!=0.8.3,>=0.8.0->cliff->optuna) (0.2.5)\n",
      "Collecting pbr!=2.1.0,>=2.0.0\n",
      "  Downloading pbr-5.5.1-py2.py3-none-any.whl (106 kB)\n",
      "\u001b[K     |████████████████████████████████| 106 kB 1.0 MB/s eta 0:00:01\n",
      "\u001b[?25hCollecting PrettyTable<0.8,>=0.7.2\n",
      "  Downloading prettytable-0.7.2.zip (28 kB)\n",
      "Collecting pyperclip>=1.6\n",
      "  Downloading pyperclip-1.8.1.tar.gz (20 kB)\n",
      "Collecting PyYAML>=3.12\n",
      "  Downloading PyYAML-5.3.1.tar.gz (269 kB)\n",
      "\u001b[K     |████████████████████████████████| 269 kB 588 kB/s eta 0:00:01\n",
      "\u001b[?25hCollecting stevedore>=2.0.1\n",
      "  Downloading stevedore-3.3.0-py3-none-any.whl (49 kB)\n",
      "\u001b[K     |████████████████████████████████| 49 kB 352 kB/s eta 0:00:01\n",
      "\u001b[?25hCollecting colorlog\n",
      "  Downloading colorlog-4.6.2-py2.py3-none-any.whl (10.0 kB)\n",
      "Collecting Mako\n",
      "  Downloading Mako-1.1.3-py2.py3-none-any.whl (75 kB)\n",
      "\u001b[K     |████████████████████████████████| 75 kB 1.0 MB/s eta 0:00:011\n",
      "\u001b[?25hRequirement already satisfied: MarkupSafe>=0.9.2 in /Users/t/.pyenv/versions/3.8.5/lib/python3.8/site-packages (from Mako->alembic->optuna) (1.1.1)\n",
      "Building wheels for collected packages: optuna, PrettyTable, pyperclip, PyYAML\n",
      "  Building wheel for optuna (PEP 517) ... \u001b[?25ldone\n",
      "\u001b[?25h  Created wheel for optuna: filename=optuna-2.3.0-py3-none-any.whl size=359701 sha256=67f671a1bfff88890b0e4d1b19e3409d7017f61f79391557b2a3637b84aeee28\n",
      "  Stored in directory: /Users/t/Library/Caches/pip/wheels/90/cf/2a/6326fab045ea048eba2ebf4ffeb477b74e1c37639435ba0d0d\n",
      "  Building wheel for PrettyTable (setup.py) ... \u001b[?25ldone\n",
      "\u001b[?25h  Created wheel for PrettyTable: filename=prettytable-0.7.2-py3-none-any.whl size=13699 sha256=0c7b48a8e656e7fdd84152939141ea8447132b0f6dd78008b493e00ab003ea68\n",
      "  Stored in directory: /Users/t/Library/Caches/pip/wheels/48/6d/77/9517cb933af254f51a446f1a5ec9c2be3e45f17384940bce68\n",
      "  Building wheel for pyperclip (setup.py) ... \u001b[?25ldone\n",
      "\u001b[?25h  Created wheel for pyperclip: filename=pyperclip-1.8.1-py3-none-any.whl size=11117 sha256=70091bea762f203b4ac355442e6fa5b310dd76845b2db970b4356823c88c597c\n",
      "  Stored in directory: /Users/t/Library/Caches/pip/wheels/67/0c/ba/1468f38115898442e13f99a19a8dcf1e0ca73488053ef7b388\n",
      "  Building wheel for PyYAML (setup.py) ... \u001b[?25ldone\n",
      "\u001b[?25h  Created wheel for PyYAML: filename=PyYAML-5.3.1-cp38-cp38-macosx_10_15_x86_64.whl size=44624 sha256=0e26f6fc7db308c0bf4dbad45caf94162471d85969e6fb58f1ae897db74a48fc\n",
      "  Stored in directory: /Users/t/Library/Caches/pip/wheels/13/90/db/290ab3a34f2ef0b5a0f89235dc2d40fea83e77de84ed2dc05c\n",
      "Successfully built optuna PrettyTable pyperclip PyYAML\n",
      "Installing collected packages: pyperclip, pbr, stevedore, sqlalchemy, PyYAML, python-editor, PrettyTable, Mako, cmd2, colorlog, cmaes, cliff, alembic, optuna\n",
      "Successfully installed Mako-1.1.3 PrettyTable-0.7.2 PyYAML-5.3.1 alembic-1.4.3 cliff-3.5.0 cmaes-0.7.0 cmd2-1.4.0 colorlog-4.6.2 optuna-2.3.0 pbr-5.5.1 pyperclip-1.8.1 python-editor-1.0.4 sqlalchemy-1.3.22 stevedore-3.3.0\n"
     ]
    }
   ],
   "source": [
    "!pip install optuna"
   ]
  },
  {
   "cell_type": "code",
   "execution_count": 24,
   "metadata": {},
   "outputs": [],
   "source": [
    "from sklearn.model_selection import StratifiedKFold, cross_validate\n",
    "import optuna\n",
    "\n",
    "# CV分割数(クロスバリデーション)\n",
    "cv = 5"
   ]
  },
  {
   "cell_type": "markdown",
   "metadata": {},
   "source": [
    "#### ・ RandomForest"
   ]
  },
  {
   "cell_type": "code",
   "execution_count": 25,
   "metadata": {},
   "outputs": [
    {
     "name": "stderr",
     "output_type": "stream",
     "text": [
      "\u001b[32m[I 2021-01-03 21:38:58,257]\u001b[0m A new study created in memory with name: no-name-fbd9bb04-fc7e-47d2-a53c-c9b3fcff04e2\u001b[0m\n",
      "\u001b[32m[I 2021-01-03 21:38:59,128]\u001b[0m Trial 0 finished with value: 0.8356741849699596 and parameters: {'max_depth': 10, 'min_samples_leaf': 2, 'min_samples_split': 10, 'criterion': 'entropy', 'max_features': 6}. Best is trial 0 with value: 0.8356741849699596.\u001b[0m\n",
      "\u001b[32m[I 2021-01-03 21:38:59,813]\u001b[0m Trial 1 finished with value: 0.8314586821629074 and parameters: {'max_depth': 8, 'min_samples_leaf': 3, 'min_samples_split': 9, 'criterion': 'gini', 'max_features': 5}. Best is trial 0 with value: 0.8356741849699596.\u001b[0m\n",
      "\u001b[32m[I 2021-01-03 21:39:00,454]\u001b[0m Trial 2 finished with value: 0.8328671328671329 and parameters: {'max_depth': 11, 'min_samples_leaf': 3, 'min_samples_split': 10, 'criterion': 'gini', 'max_features': 4}. Best is trial 0 with value: 0.8356741849699596.\u001b[0m\n",
      "\u001b[32m[I 2021-01-03 21:39:01,118]\u001b[0m Trial 3 finished with value: 0.8300600807643062 and parameters: {'max_depth': 7, 'min_samples_leaf': 4, 'min_samples_split': 7, 'criterion': 'gini', 'max_features': 6}. Best is trial 0 with value: 0.8356741849699596.\u001b[0m\n",
      "\u001b[32m[I 2021-01-03 21:39:01,822]\u001b[0m Trial 4 finished with value: 0.8300502314586822 and parameters: {'max_depth': 13, 'min_samples_leaf': 3, 'min_samples_split': 15, 'criterion': 'entropy', 'max_features': 8}. Best is trial 0 with value: 0.8356741849699596.\u001b[0m\n",
      "\u001b[32m[I 2021-01-03 21:39:02,479]\u001b[0m Trial 5 finished with value: 0.8399093863882596 and parameters: {'max_depth': 14, 'min_samples_leaf': 1, 'min_samples_split': 15, 'criterion': 'entropy', 'max_features': 6}. Best is trial 5 with value: 0.8399093863882596.\u001b[0m\n",
      "\u001b[32m[I 2021-01-03 21:39:03,101]\u001b[0m Trial 6 finished with value: 0.825844577957254 and parameters: {'max_depth': 8, 'min_samples_leaf': 2, 'min_samples_split': 13, 'criterion': 'gini', 'max_features': 3}. Best is trial 5 with value: 0.8399093863882596.\u001b[0m\n",
      "\u001b[32m[I 2021-01-03 21:39:03,741]\u001b[0m Trial 7 finished with value: 0.8356643356643356 and parameters: {'max_depth': 8, 'min_samples_leaf': 2, 'min_samples_split': 15, 'criterion': 'entropy', 'max_features': 7}. Best is trial 5 with value: 0.8399093863882596.\u001b[0m\n",
      "\u001b[32m[I 2021-01-03 21:39:04,391]\u001b[0m Trial 8 finished with value: 0.8384615384615384 and parameters: {'max_depth': 10, 'min_samples_leaf': 3, 'min_samples_split': 10, 'criterion': 'gini', 'max_features': 8}. Best is trial 5 with value: 0.8399093863882596.\u001b[0m\n",
      "\u001b[32m[I 2021-01-03 21:39:05,126]\u001b[0m Trial 9 finished with value: 0.8384812370727864 and parameters: {'max_depth': 9, 'min_samples_leaf': 1, 'min_samples_split': 15, 'criterion': 'gini', 'max_features': 6}. Best is trial 5 with value: 0.8399093863882596.\u001b[0m\n",
      "\u001b[32m[I 2021-01-03 21:39:05,866]\u001b[0m Trial 10 finished with value: 0.8272530286614792 and parameters: {'max_depth': 15, 'min_samples_leaf': 5, 'min_samples_split': 13, 'criterion': 'entropy', 'max_features': 9}. Best is trial 5 with value: 0.8399093863882596.\u001b[0m\n",
      "\u001b[32m[I 2021-01-03 21:39:06,498]\u001b[0m Trial 11 finished with value: 0.8342854328769821 and parameters: {'max_depth': 5, 'min_samples_leaf': 1, 'min_samples_split': 13, 'criterion': 'entropy', 'max_features': 4}. Best is trial 5 with value: 0.8399093863882596.\u001b[0m\n",
      "\u001b[32m[I 2021-01-03 21:39:07,175]\u001b[0m Trial 12 finished with value: 0.841317837092485 and parameters: {'max_depth': 15, 'min_samples_leaf': 1, 'min_samples_split': 15, 'criterion': 'entropy', 'max_features': 7}. Best is trial 12 with value: 0.841317837092485.\u001b[0m\n",
      "\u001b[32m[I 2021-01-03 21:39:07,858]\u001b[0m Trial 13 finished with value: 0.8398995370826355 and parameters: {'max_depth': 15, 'min_samples_leaf': 1, 'min_samples_split': 14, 'criterion': 'entropy', 'max_features': 8}. Best is trial 12 with value: 0.841317837092485.\u001b[0m\n",
      "\u001b[32m[I 2021-01-03 21:39:08,542]\u001b[0m Trial 14 finished with value: 0.8385009356840343 and parameters: {'max_depth': 13, 'min_samples_leaf': 1, 'min_samples_split': 12, 'criterion': 'entropy', 'max_features': 7}. Best is trial 12 with value: 0.841317837092485.\u001b[0m\n",
      "\u001b[32m[I 2021-01-03 21:39:09,223]\u001b[0m Trial 15 finished with value: 0.841307987786861 and parameters: {'max_depth': 13, 'min_samples_leaf': 2, 'min_samples_split': 14, 'criterion': 'entropy', 'max_features': 10}. Best is trial 12 with value: 0.841317837092485.\u001b[0m\n",
      "\u001b[32m[I 2021-01-03 21:39:09,939]\u001b[0m Trial 16 finished with value: 0.8384910863784102 and parameters: {'max_depth': 12, 'min_samples_leaf': 2, 'min_samples_split': 14, 'criterion': 'entropy', 'max_features': 10}. Best is trial 12 with value: 0.841317837092485.\u001b[0m\n",
      "\u001b[32m[I 2021-01-03 21:39:10,631]\u001b[0m Trial 17 finished with value: 0.841317837092485 and parameters: {'max_depth': 15, 'min_samples_leaf': 2, 'min_samples_split': 12, 'criterion': 'entropy', 'max_features': 10}. Best is trial 12 with value: 0.841317837092485.\u001b[0m\n",
      "\u001b[32m[I 2021-01-03 21:39:11,304]\u001b[0m Trial 18 finished with value: 0.8286516300600809 and parameters: {'max_depth': 15, 'min_samples_leaf': 4, 'min_samples_split': 7, 'criterion': 'entropy', 'max_features': 9}. Best is trial 12 with value: 0.841317837092485.\u001b[0m\n",
      "\u001b[32m[I 2021-01-03 21:39:12,111]\u001b[0m Trial 19 finished with value: 0.8370924849798088 and parameters: {'max_depth': 14, 'min_samples_leaf': 2, 'min_samples_split': 11, 'criterion': 'entropy', 'max_features': 9}. Best is trial 12 with value: 0.841317837092485.\u001b[0m\n",
      "\u001b[32m[I 2021-01-03 21:39:13,015]\u001b[0m Trial 20 finished with value: 0.8342854328769821 and parameters: {'max_depth': 12, 'min_samples_leaf': 4, 'min_samples_split': 8, 'criterion': 'entropy', 'max_features': 10}. Best is trial 12 with value: 0.841317837092485.\u001b[0m\n",
      "\u001b[32m[I 2021-01-03 21:39:13,733]\u001b[0m Trial 21 finished with value: 0.8427164384910864 and parameters: {'max_depth': 14, 'min_samples_leaf': 2, 'min_samples_split': 12, 'criterion': 'entropy', 'max_features': 10}. Best is trial 21 with value: 0.8427164384910864.\u001b[0m\n",
      "\u001b[32m[I 2021-01-03 21:39:14,492]\u001b[0m Trial 22 finished with value: 0.8427164384910864 and parameters: {'max_depth': 14, 'min_samples_leaf': 2, 'min_samples_split': 12, 'criterion': 'entropy', 'max_features': 10}. Best is trial 21 with value: 0.8427164384910864.\u001b[0m\n",
      "\u001b[32m[I 2021-01-03 21:39:15,223]\u001b[0m Trial 23 finished with value: 0.8427164384910864 and parameters: {'max_depth': 14, 'min_samples_leaf': 2, 'min_samples_split': 12, 'criterion': 'entropy', 'max_features': 10}. Best is trial 21 with value: 0.8427164384910864.\u001b[0m\n",
      "\u001b[32m[I 2021-01-03 21:39:15,944]\u001b[0m Trial 24 finished with value: 0.8398995370826355 and parameters: {'max_depth': 14, 'min_samples_leaf': 2, 'min_samples_split': 12, 'criterion': 'entropy', 'max_features': 9}. Best is trial 21 with value: 0.8427164384910864.\u001b[0m\n",
      "\u001b[32m[I 2021-01-03 21:39:16,674]\u001b[0m Trial 25 finished with value: 0.8328966807840047 and parameters: {'max_depth': 12, 'min_samples_leaf': 3, 'min_samples_split': 11, 'criterion': 'entropy', 'max_features': 10}. Best is trial 21 with value: 0.8427164384910864.\u001b[0m\n",
      "\u001b[32m[I 2021-01-03 21:39:17,398]\u001b[0m Trial 26 finished with value: 0.8398995370826355 and parameters: {'max_depth': 14, 'min_samples_leaf': 2, 'min_samples_split': 12, 'criterion': 'entropy', 'max_features': 9}. Best is trial 21 with value: 0.8427164384910864.\u001b[0m\n",
      "\u001b[32m[I 2021-01-03 21:39:18,072]\u001b[0m Trial 27 finished with value: 0.8384910863784103 and parameters: {'max_depth': 11, 'min_samples_leaf': 2, 'min_samples_split': 11, 'criterion': 'entropy', 'max_features': 10}. Best is trial 21 with value: 0.8427164384910864.\u001b[0m\n",
      "\u001b[32m[I 2021-01-03 21:39:18,740]\u001b[0m Trial 28 finished with value: 0.8328671328671329 and parameters: {'max_depth': 13, 'min_samples_leaf': 3, 'min_samples_split': 13, 'criterion': 'entropy', 'max_features': 8}. Best is trial 21 with value: 0.8427164384910864.\u001b[0m\n",
      "\u001b[32m[I 2021-01-03 21:39:19,516]\u001b[0m Trial 29 finished with value: 0.8384812370727863 and parameters: {'max_depth': 11, 'min_samples_leaf': 2, 'min_samples_split': 9, 'criterion': 'entropy', 'max_features': 9}. Best is trial 21 with value: 0.8427164384910864.\u001b[0m\n",
      "\u001b[32m[I 2021-01-03 21:39:20,355]\u001b[0m Trial 30 finished with value: 0.8342657342657344 and parameters: {'max_depth': 14, 'min_samples_leaf': 1, 'min_samples_split': 10, 'criterion': 'entropy', 'max_features': 10}. Best is trial 21 with value: 0.8427164384910864.\u001b[0m\n",
      "\u001b[32m[I 2021-01-03 21:39:21,114]\u001b[0m Trial 31 finished with value: 0.837082635674185 and parameters: {'max_depth': 15, 'min_samples_leaf': 1, 'min_samples_split': 12, 'criterion': 'entropy', 'max_features': 7}. Best is trial 21 with value: 0.8427164384910864.\u001b[0m\n",
      "\u001b[32m[I 2021-01-03 21:39:21,850]\u001b[0m Trial 32 finished with value: 0.8427164384910864 and parameters: {'max_depth': 14, 'min_samples_leaf': 2, 'min_samples_split': 12, 'criterion': 'entropy', 'max_features': 10}. Best is trial 21 with value: 0.8427164384910864.\u001b[0m\n",
      "\u001b[32m[I 2021-01-03 21:39:22,608]\u001b[0m Trial 33 finished with value: 0.8328966807840047 and parameters: {'max_depth': 13, 'min_samples_leaf': 3, 'min_samples_split': 11, 'criterion': 'entropy', 'max_features': 10}. Best is trial 21 with value: 0.8427164384910864.\u001b[0m\n",
      "\u001b[32m[I 2021-01-03 21:39:23,316]\u001b[0m Trial 34 finished with value: 0.8398995370826355 and parameters: {'max_depth': 14, 'min_samples_leaf': 2, 'min_samples_split': 12, 'criterion': 'entropy', 'max_features': 9}. Best is trial 21 with value: 0.8427164384910864.\u001b[0m\n",
      "\u001b[32m[I 2021-01-03 21:39:24,051]\u001b[0m Trial 35 finished with value: 0.8398995370826355 and parameters: {'max_depth': 12, 'min_samples_leaf': 3, 'min_samples_split': 13, 'criterion': 'entropy', 'max_features': 10}. Best is trial 21 with value: 0.8427164384910864.\u001b[0m\n",
      "\u001b[32m[I 2021-01-03 21:39:24,730]\u001b[0m Trial 36 finished with value: 0.8384713877671623 and parameters: {'max_depth': 13, 'min_samples_leaf': 2, 'min_samples_split': 11, 'criterion': 'gini', 'max_features': 8}. Best is trial 21 with value: 0.8427164384910864.\u001b[0m\n",
      "\u001b[32m[I 2021-01-03 21:39:25,459]\u001b[0m Trial 37 finished with value: 0.8342952821826062 and parameters: {'max_depth': 14, 'min_samples_leaf': 3, 'min_samples_split': 10, 'criterion': 'entropy', 'max_features': 9}. Best is trial 21 with value: 0.8427164384910864.\u001b[0m\n",
      "\u001b[32m[I 2021-01-03 21:39:26,098]\u001b[0m Trial 38 finished with value: 0.8356741849699596 and parameters: {'max_depth': 5, 'min_samples_leaf': 2, 'min_samples_split': 9, 'criterion': 'entropy', 'max_features': 5}. Best is trial 21 with value: 0.8427164384910864.\u001b[0m\n",
      "\u001b[32m[I 2021-01-03 21:39:26,773]\u001b[0m Trial 39 finished with value: 0.8356643356643356 and parameters: {'max_depth': 12, 'min_samples_leaf': 3, 'min_samples_split': 12, 'criterion': 'gini', 'max_features': 10}. Best is trial 21 with value: 0.8427164384910864.\u001b[0m\n",
      "\u001b[32m[I 2021-01-03 21:39:27,446]\u001b[0m Trial 40 finished with value: 0.8399093863882596 and parameters: {'max_depth': 10, 'min_samples_leaf': 2, 'min_samples_split': 13, 'criterion': 'entropy', 'max_features': 9}. Best is trial 21 with value: 0.8427164384910864.\u001b[0m\n",
      "\u001b[32m[I 2021-01-03 21:39:28,129]\u001b[0m Trial 41 finished with value: 0.841317837092485 and parameters: {'max_depth': 15, 'min_samples_leaf': 2, 'min_samples_split': 12, 'criterion': 'entropy', 'max_features': 10}. Best is trial 21 with value: 0.8427164384910864.\u001b[0m\n",
      "\u001b[32m[I 2021-01-03 21:39:28,812]\u001b[0m Trial 42 finished with value: 0.8427164384910864 and parameters: {'max_depth': 14, 'min_samples_leaf': 2, 'min_samples_split': 12, 'criterion': 'entropy', 'max_features': 10}. Best is trial 21 with value: 0.8427164384910864.\u001b[0m\n",
      "\u001b[32m[I 2021-01-03 21:39:29,500]\u001b[0m Trial 43 finished with value: 0.8469220919925146 and parameters: {'max_depth': 14, 'min_samples_leaf': 2, 'min_samples_split': 13, 'criterion': 'entropy', 'max_features': 10}. Best is trial 43 with value: 0.8469220919925146.\u001b[0m\n",
      "\u001b[32m[I 2021-01-03 21:39:30,195]\u001b[0m Trial 44 finished with value: 0.8314783807741556 and parameters: {'max_depth': 13, 'min_samples_leaf': 1, 'min_samples_split': 14, 'criterion': 'entropy', 'max_features': 9}. Best is trial 43 with value: 0.8469220919925146.\u001b[0m\n",
      "\u001b[32m[I 2021-01-03 21:39:30,932]\u001b[0m Trial 45 finished with value: 0.8426868905742145 and parameters: {'max_depth': 6, 'min_samples_leaf': 2, 'min_samples_split': 13, 'criterion': 'entropy', 'max_features': 10}. Best is trial 43 with value: 0.8469220919925146.\u001b[0m\n",
      "\u001b[32m[I 2021-01-03 21:39:31,707]\u001b[0m Trial 46 finished with value: 0.8328671328671329 and parameters: {'max_depth': 14, 'min_samples_leaf': 3, 'min_samples_split': 13, 'criterion': 'entropy', 'max_features': 8}. Best is trial 43 with value: 0.8469220919925146.\u001b[0m\n",
      "\u001b[32m[I 2021-01-03 21:39:32,411]\u001b[0m Trial 47 finished with value: 0.8272431793558553 and parameters: {'max_depth': 13, 'min_samples_leaf': 2, 'min_samples_split': 14, 'criterion': 'gini', 'max_features': 3}. Best is trial 43 with value: 0.8469220919925146.\u001b[0m\n",
      "\u001b[32m[I 2021-01-03 21:39:33,187]\u001b[0m Trial 48 finished with value: 0.8384812370727864 and parameters: {'max_depth': 15, 'min_samples_leaf': 1, 'min_samples_split': 11, 'criterion': 'entropy', 'max_features': 9}. Best is trial 43 with value: 0.8469220919925146.\u001b[0m\n",
      "\u001b[32m[I 2021-01-03 21:39:33,897]\u001b[0m Trial 49 finished with value: 0.841298138481237 and parameters: {'max_depth': 13, 'min_samples_leaf': 1, 'min_samples_split': 13, 'criterion': 'entropy', 'max_features': 10}. Best is trial 43 with value: 0.8469220919925146.\u001b[0m\n",
      "\u001b[32m[I 2021-01-03 21:39:34,599]\u001b[0m Trial 50 finished with value: 0.8398995370826355 and parameters: {'max_depth': 11, 'min_samples_leaf': 2, 'min_samples_split': 12, 'criterion': 'entropy', 'max_features': 8}. Best is trial 43 with value: 0.8469220919925146.\u001b[0m\n",
      "\u001b[32m[I 2021-01-03 21:39:35,290]\u001b[0m Trial 51 finished with value: 0.8427164384910864 and parameters: {'max_depth': 14, 'min_samples_leaf': 2, 'min_samples_split': 12, 'criterion': 'entropy', 'max_features': 10}. Best is trial 43 with value: 0.8469220919925146.\u001b[0m\n",
      "\u001b[32m[I 2021-01-03 21:39:35,991]\u001b[0m Trial 52 finished with value: 0.8469220919925146 and parameters: {'max_depth': 14, 'min_samples_leaf': 2, 'min_samples_split': 13, 'criterion': 'entropy', 'max_features': 10}. Best is trial 43 with value: 0.8469220919925146.\u001b[0m\n",
      "\u001b[32m[I 2021-01-03 21:39:36,691]\u001b[0m Trial 53 finished with value: 0.8441248891953116 and parameters: {'max_depth': 15, 'min_samples_leaf': 2, 'min_samples_split': 13, 'criterion': 'entropy', 'max_features': 10}. Best is trial 43 with value: 0.8469220919925146.\u001b[0m\n",
      "\u001b[32m[I 2021-01-03 21:39:37,365]\u001b[0m Trial 54 finished with value: 0.8356840342755836 and parameters: {'max_depth': 15, 'min_samples_leaf': 2, 'min_samples_split': 14, 'criterion': 'entropy', 'max_features': 9}. Best is trial 43 with value: 0.8469220919925146.\u001b[0m\n",
      "\u001b[32m[I 2021-01-03 21:39:38,050]\u001b[0m Trial 55 finished with value: 0.8441248891953116 and parameters: {'max_depth': 15, 'min_samples_leaf': 2, 'min_samples_split': 13, 'criterion': 'entropy', 'max_features': 10}. Best is trial 43 with value: 0.8469220919925146.\u001b[0m\n",
      "\u001b[32m[I 2021-01-03 21:39:38,731]\u001b[0m Trial 56 finished with value: 0.8441248891953116 and parameters: {'max_depth': 15, 'min_samples_leaf': 2, 'min_samples_split': 13, 'criterion': 'entropy', 'max_features': 10}. Best is trial 43 with value: 0.8469220919925146.\u001b[0m\n",
      "\u001b[32m[I 2021-01-03 21:39:39,403]\u001b[0m Trial 57 finished with value: 0.8342755835713582 and parameters: {'max_depth': 15, 'min_samples_leaf': 3, 'min_samples_split': 14, 'criterion': 'entropy', 'max_features': 9}. Best is trial 43 with value: 0.8469220919925146.\u001b[0m\n",
      "\u001b[32m[I 2021-01-03 21:39:40,097]\u001b[0m Trial 58 finished with value: 0.8384910863784103 and parameters: {'max_depth': 15, 'min_samples_leaf': 1, 'min_samples_split': 13, 'criterion': 'entropy', 'max_features': 10}. Best is trial 43 with value: 0.8469220919925146.\u001b[0m\n",
      "\u001b[32m[I 2021-01-03 21:39:40,780]\u001b[0m Trial 59 finished with value: 0.8427164384910864 and parameters: {'max_depth': 9, 'min_samples_leaf': 2, 'min_samples_split': 13, 'criterion': 'entropy', 'max_features': 10}. Best is trial 43 with value: 0.8469220919925146.\u001b[0m\n",
      "\u001b[32m[I 2021-01-03 21:39:41,426]\u001b[0m Trial 60 finished with value: 0.8356741849699596 and parameters: {'max_depth': 9, 'min_samples_leaf': 2, 'min_samples_split': 15, 'criterion': 'gini', 'max_features': 5}. Best is trial 43 with value: 0.8469220919925146.\u001b[0m\n",
      "\u001b[32m[I 2021-01-03 21:39:42,106]\u001b[0m Trial 61 finished with value: 0.8441248891953116 and parameters: {'max_depth': 15, 'min_samples_leaf': 2, 'min_samples_split': 13, 'criterion': 'entropy', 'max_features': 10}. Best is trial 43 with value: 0.8469220919925146.\u001b[0m\n",
      "\u001b[32m[I 2021-01-03 21:39:42,793]\u001b[0m Trial 62 finished with value: 0.8398995370826355 and parameters: {'max_depth': 15, 'min_samples_leaf': 2, 'min_samples_split': 14, 'criterion': 'entropy', 'max_features': 10}. Best is trial 43 with value: 0.8469220919925146.\u001b[0m\n",
      "\u001b[32m[I 2021-01-03 21:39:43,468]\u001b[0m Trial 63 finished with value: 0.8356938835812077 and parameters: {'max_depth': 15, 'min_samples_leaf': 2, 'min_samples_split': 13, 'criterion': 'entropy', 'max_features': 9}. Best is trial 43 with value: 0.8469220919925146.\u001b[0m\n",
      "\u001b[32m[I 2021-01-03 21:39:44,212]\u001b[0m Trial 64 finished with value: 0.8398995370826355 and parameters: {'max_depth': 15, 'min_samples_leaf': 2, 'min_samples_split': 14, 'criterion': 'entropy', 'max_features': 10}. Best is trial 43 with value: 0.8469220919925146.\u001b[0m\n",
      "\u001b[32m[I 2021-01-03 21:39:44,922]\u001b[0m Trial 65 finished with value: 0.8469220919925146 and parameters: {'max_depth': 14, 'min_samples_leaf': 2, 'min_samples_split': 13, 'criterion': 'entropy', 'max_features': 10}. Best is trial 43 with value: 0.8469220919925146.\u001b[0m\n",
      "\u001b[32m[I 2021-01-03 21:39:45,632]\u001b[0m Trial 66 finished with value: 0.8314685314685315 and parameters: {'max_depth': 15, 'min_samples_leaf': 1, 'min_samples_split': 13, 'criterion': 'entropy', 'max_features': 9}. Best is trial 43 with value: 0.8469220919925146.\u001b[0m\n",
      "\u001b[32m[I 2021-01-03 21:39:46,398]\u001b[0m Trial 67 finished with value: 0.8398995370826355 and parameters: {'max_depth': 15, 'min_samples_leaf': 2, 'min_samples_split': 14, 'criterion': 'entropy', 'max_features': 10}. Best is trial 43 with value: 0.8469220919925146.\u001b[0m\n",
      "\u001b[32m[I 2021-01-03 21:39:47,151]\u001b[0m Trial 68 finished with value: 0.841298138481237 and parameters: {'max_depth': 14, 'min_samples_leaf': 3, 'min_samples_split': 13, 'criterion': 'entropy', 'max_features': 10}. Best is trial 43 with value: 0.8469220919925146.\u001b[0m\n",
      "\u001b[32m[I 2021-01-03 21:39:47,898]\u001b[0m Trial 69 finished with value: 0.8342854328769823 and parameters: {'max_depth': 13, 'min_samples_leaf': 2, 'min_samples_split': 14, 'criterion': 'entropy', 'max_features': 9}. Best is trial 43 with value: 0.8469220919925146.\u001b[0m\n",
      "\u001b[32m[I 2021-01-03 21:39:48,615]\u001b[0m Trial 70 finished with value: 0.8258544272628778 and parameters: {'max_depth': 14, 'min_samples_leaf': 5, 'min_samples_split': 13, 'criterion': 'entropy', 'max_features': 10}. Best is trial 43 with value: 0.8469220919925146.\u001b[0m\n",
      "\u001b[32m[I 2021-01-03 21:39:49,317]\u001b[0m Trial 71 finished with value: 0.8469220919925146 and parameters: {'max_depth': 14, 'min_samples_leaf': 2, 'min_samples_split': 13, 'criterion': 'entropy', 'max_features': 10}. Best is trial 43 with value: 0.8469220919925146.\u001b[0m\n",
      "\u001b[32m[I 2021-01-03 21:39:50,069]\u001b[0m Trial 72 finished with value: 0.8469220919925146 and parameters: {'max_depth': 14, 'min_samples_leaf': 2, 'min_samples_split': 13, 'criterion': 'entropy', 'max_features': 10}. Best is trial 43 with value: 0.8469220919925146.\u001b[0m\n",
      "\u001b[32m[I 2021-01-03 21:39:50,798]\u001b[0m Trial 73 finished with value: 0.8469220919925146 and parameters: {'max_depth': 14, 'min_samples_leaf': 2, 'min_samples_split': 13, 'criterion': 'entropy', 'max_features': 10}. Best is trial 43 with value: 0.8469220919925146.\u001b[0m\n",
      "\u001b[32m[I 2021-01-03 21:39:51,503]\u001b[0m Trial 74 finished with value: 0.8357037328868314 and parameters: {'max_depth': 13, 'min_samples_leaf': 2, 'min_samples_split': 15, 'criterion': 'entropy', 'max_features': 10}. Best is trial 43 with value: 0.8469220919925146.\u001b[0m\n",
      "\u001b[32m[I 2021-01-03 21:39:52,279]\u001b[0m Trial 75 finished with value: 0.8398995370826355 and parameters: {'max_depth': 14, 'min_samples_leaf': 2, 'min_samples_split': 14, 'criterion': 'entropy', 'max_features': 10}. Best is trial 43 with value: 0.8469220919925146.\u001b[0m\n",
      "\u001b[32m[I 2021-01-03 21:39:53,040]\u001b[0m Trial 76 finished with value: 0.8328769821727569 and parameters: {'max_depth': 14, 'min_samples_leaf': 2, 'min_samples_split': 13, 'criterion': 'entropy', 'max_features': 9}. Best is trial 43 with value: 0.8469220919925146.\u001b[0m\n",
      "\u001b[32m[I 2021-01-03 21:39:53,811]\u001b[0m Trial 77 finished with value: 0.8441150398896878 and parameters: {'max_depth': 13, 'min_samples_leaf': 2, 'min_samples_split': 13, 'criterion': 'entropy', 'max_features': 10}. Best is trial 43 with value: 0.8469220919925146.\u001b[0m\n",
      "\u001b[32m[I 2021-01-03 21:39:54,532]\u001b[0m Trial 78 finished with value: 0.8356938835812077 and parameters: {'max_depth': 14, 'min_samples_leaf': 1, 'min_samples_split': 13, 'criterion': 'entropy', 'max_features': 9}. Best is trial 43 with value: 0.8469220919925146.\u001b[0m\n",
      "\u001b[32m[I 2021-01-03 21:39:55,331]\u001b[0m Trial 79 finished with value: 0.841307987786861 and parameters: {'max_depth': 13, 'min_samples_leaf': 2, 'min_samples_split': 14, 'criterion': 'entropy', 'max_features': 10}. Best is trial 43 with value: 0.8469220919925146.\u001b[0m\n",
      "\u001b[32m[I 2021-01-03 21:39:56,152]\u001b[0m Trial 80 finished with value: 0.841298138481237 and parameters: {'max_depth': 14, 'min_samples_leaf': 3, 'min_samples_split': 12, 'criterion': 'entropy', 'max_features': 10}. Best is trial 43 with value: 0.8469220919925146.\u001b[0m\n",
      "\u001b[32m[I 2021-01-03 21:39:56,979]\u001b[0m Trial 81 finished with value: 0.8469220919925146 and parameters: {'max_depth': 14, 'min_samples_leaf': 2, 'min_samples_split': 13, 'criterion': 'entropy', 'max_features': 10}. Best is trial 43 with value: 0.8469220919925146.\u001b[0m\n",
      "\u001b[32m[I 2021-01-03 21:39:57,742]\u001b[0m Trial 82 finished with value: 0.8469220919925146 and parameters: {'max_depth': 14, 'min_samples_leaf': 2, 'min_samples_split': 13, 'criterion': 'entropy', 'max_features': 10}. Best is trial 43 with value: 0.8469220919925146.\u001b[0m\n",
      "\u001b[32m[I 2021-01-03 21:39:58,542]\u001b[0m Trial 83 finished with value: 0.8469220919925146 and parameters: {'max_depth': 14, 'min_samples_leaf': 2, 'min_samples_split': 13, 'criterion': 'entropy', 'max_features': 10}. Best is trial 43 with value: 0.8469220919925146.\u001b[0m\n",
      "\u001b[32m[I 2021-01-03 21:39:59,241]\u001b[0m Trial 84 finished with value: 0.8441150398896878 and parameters: {'max_depth': 13, 'min_samples_leaf': 2, 'min_samples_split': 13, 'criterion': 'entropy', 'max_features': 10}. Best is trial 43 with value: 0.8469220919925146.\u001b[0m\n",
      "\u001b[32m[I 2021-01-03 21:39:59,943]\u001b[0m Trial 85 finished with value: 0.8328769821727569 and parameters: {'max_depth': 12, 'min_samples_leaf': 2, 'min_samples_split': 14, 'criterion': 'entropy', 'max_features': 9}. Best is trial 43 with value: 0.8469220919925146.\u001b[0m\n",
      "\u001b[32m[I 2021-01-03 21:40:00,767]\u001b[0m Trial 86 finished with value: 0.8427164384910864 and parameters: {'max_depth': 14, 'min_samples_leaf': 2, 'min_samples_split': 12, 'criterion': 'entropy', 'max_features': 10}. Best is trial 43 with value: 0.8469220919925146.\u001b[0m\n",
      "\u001b[32m[I 2021-01-03 21:40:01,478]\u001b[0m Trial 87 finished with value: 0.8469220919925146 and parameters: {'max_depth': 14, 'min_samples_leaf': 2, 'min_samples_split': 13, 'criterion': 'entropy', 'max_features': 10}. Best is trial 43 with value: 0.8469220919925146.\u001b[0m\n",
      "\u001b[32m[I 2021-01-03 21:40:02,290]\u001b[0m Trial 88 finished with value: 0.841307987786861 and parameters: {'max_depth': 14, 'min_samples_leaf': 2, 'min_samples_split': 13, 'criterion': 'gini', 'max_features': 10}. Best is trial 43 with value: 0.8469220919925146.\u001b[0m\n",
      "\u001b[32m[I 2021-01-03 21:40:02,971]\u001b[0m Trial 89 finished with value: 0.8384812370727863 and parameters: {'max_depth': 13, 'min_samples_leaf': 2, 'min_samples_split': 12, 'criterion': 'entropy', 'max_features': 9}. Best is trial 43 with value: 0.8469220919925146.\u001b[0m\n",
      "\u001b[32m[I 2021-01-03 21:40:03,667]\u001b[0m Trial 90 finished with value: 0.841307987786861 and parameters: {'max_depth': 14, 'min_samples_leaf': 1, 'min_samples_split': 14, 'criterion': 'entropy', 'max_features': 10}. Best is trial 43 with value: 0.8469220919925146.\u001b[0m\n",
      "\u001b[32m[I 2021-01-03 21:40:04,347]\u001b[0m Trial 91 finished with value: 0.8469220919925146 and parameters: {'max_depth': 14, 'min_samples_leaf': 2, 'min_samples_split': 13, 'criterion': 'entropy', 'max_features': 10}. Best is trial 43 with value: 0.8469220919925146.\u001b[0m\n",
      "\u001b[32m[I 2021-01-03 21:40:04,992]\u001b[0m Trial 92 finished with value: 0.8385009356840343 and parameters: {'max_depth': 14, 'min_samples_leaf': 2, 'min_samples_split': 13, 'criterion': 'entropy', 'max_features': 4}. Best is trial 43 with value: 0.8469220919925146.\u001b[0m\n",
      "\u001b[32m[I 2021-01-03 21:40:05,675]\u001b[0m Trial 93 finished with value: 0.8469220919925146 and parameters: {'max_depth': 14, 'min_samples_leaf': 2, 'min_samples_split': 13, 'criterion': 'entropy', 'max_features': 10}. Best is trial 43 with value: 0.8469220919925146.\u001b[0m\n",
      "\u001b[32m[I 2021-01-03 21:40:06,444]\u001b[0m Trial 94 finished with value: 0.8441150398896878 and parameters: {'max_depth': 13, 'min_samples_leaf': 2, 'min_samples_split': 13, 'criterion': 'entropy', 'max_features': 10}. Best is trial 43 with value: 0.8469220919925146.\u001b[0m\n",
      "\u001b[32m[I 2021-01-03 21:40:07,182]\u001b[0m Trial 95 finished with value: 0.8427164384910864 and parameters: {'max_depth': 14, 'min_samples_leaf': 2, 'min_samples_split': 12, 'criterion': 'entropy', 'max_features': 10}. Best is trial 43 with value: 0.8469220919925146.\u001b[0m\n",
      "\u001b[32m[I 2021-01-03 21:40:07,929]\u001b[0m Trial 96 finished with value: 0.8441150398896878 and parameters: {'max_depth': 13, 'min_samples_leaf': 2, 'min_samples_split': 13, 'criterion': 'entropy', 'max_features': 10}. Best is trial 43 with value: 0.8469220919925146.\u001b[0m\n",
      "\u001b[32m[I 2021-01-03 21:40:08,655]\u001b[0m Trial 97 finished with value: 0.8398995370826355 and parameters: {'max_depth': 14, 'min_samples_leaf': 2, 'min_samples_split': 12, 'criterion': 'entropy', 'max_features': 9}. Best is trial 43 with value: 0.8469220919925146.\u001b[0m\n",
      "\u001b[32m[I 2021-01-03 21:40:09,379]\u001b[0m Trial 98 finished with value: 0.8384713877671626 and parameters: {'max_depth': 14, 'min_samples_leaf': 3, 'min_samples_split': 14, 'criterion': 'entropy', 'max_features': 10}. Best is trial 43 with value: 0.8469220919925146.\u001b[0m\n",
      "\u001b[32m[I 2021-01-03 21:40:10,204]\u001b[0m Trial 99 finished with value: 0.8441150398896878 and parameters: {'max_depth': 13, 'min_samples_leaf': 2, 'min_samples_split': 13, 'criterion': 'entropy', 'max_features': 10}. Best is trial 43 with value: 0.8469220919925146.\u001b[0m\n"
     ]
    },
    {
     "name": "stdout",
     "output_type": "stream",
     "text": [
      "{'max_depth': 14, 'min_samples_leaf': 2, 'min_samples_split': 13, 'criterion': 'entropy', 'max_features': 10}\n",
      "0.8469220919925146\n"
     ]
    }
   ],
   "source": [
    "def objective(trial):\n",
    "    \n",
    "    param_grid_rfc = {\n",
    "        \"max_depth\": trial.suggest_int(\"max_depth\", 5, 15),\n",
    "        \"min_samples_leaf\": trial.suggest_int(\"min_samples_leaf\", 1, 5),\n",
    "        'min_samples_split': trial.suggest_int(\"min_samples_split\", 7, 15),\n",
    "        \"criterion\": trial.suggest_categorical(\"criterion\", [\"gini\", \"entropy\"]),\n",
    "        'max_features': trial.suggest_int(\"max_features\", 3, 10),\n",
    "        \"random_state\": 0\n",
    "    }\n",
    "\n",
    "    model = RandomForestClassifier(**param_grid_rfc)\n",
    "    \n",
    "    # 5-Fold CV / Accuracy でモデルを評価する\n",
    "    kf = StratifiedKFold(n_splits=5, shuffle=True, random_state=0)\n",
    "    scores = cross_validate(model, X=X_train, y=y_train, cv=kf)\n",
    "    # 最小化なので 1.0 からスコアを引く\n",
    "    return scores['test_score'].mean()\n",
    "\n",
    "study = optuna.create_study(direction='maximize')\n",
    "study.optimize(objective, n_trials=100)\n",
    "print(study.best_params)\n",
    "print(study.best_value)\n",
    "rfc_best_param = study.best_params"
   ]
  },
  {
   "cell_type": "markdown",
   "metadata": {},
   "source": [
    "#### ・ XGBoost"
   ]
  },
  {
   "cell_type": "code",
   "execution_count": 26,
   "metadata": {},
   "outputs": [
    {
     "name": "stderr",
     "output_type": "stream",
     "text": [
      "\u001b[32m[I 2021-01-03 21:40:33,752]\u001b[0m A new study created in memory with name: no-name-4b14031f-e7ed-417d-b06f-644d8e672330\u001b[0m\n",
      "/Users/t/.pyenv/versions/3.8.5/lib/python3.8/site-packages/xgboost/sklearn.py:888: UserWarning: The use of label encoder in XGBClassifier is deprecated and will be removed in a future release. To remove this warning, do the following: 1) Pass option use_label_encoder=False when constructing XGBClassifier object; and 2) Encode your labels (y) as integers starting with 0, i.e. 0, 1, 2, ..., [num_class - 1].\n",
      "  warnings.warn(label_encoder_deprecation_msg, UserWarning)\n"
     ]
    },
    {
     "name": "stdout",
     "output_type": "stream",
     "text": [
      "[21:40:33] WARNING: /Users/travis/build/dmlc/xgboost/src/learner.cc:1061: Starting in XGBoost 1.3.0, the default evaluation metric used with the objective 'binary:logistic' was changed from 'error' to 'logloss'. Explicitly set eval_metric if you'd like to restore the old behavior.\n",
      "[21:40:33] WARNING: /Users/travis/build/dmlc/xgboost/src/learner.cc:1061: Starting in XGBoost 1.3.0, the default evaluation metric used with the objective 'binary:logistic' was changed from 'error' to 'logloss'. Explicitly set eval_metric if you'd like to restore the old behavior.\n"
     ]
    },
    {
     "name": "stderr",
     "output_type": "stream",
     "text": [
      "\u001b[32m[I 2021-01-03 21:40:34,248]\u001b[0m Trial 0 finished with value: 0.8160445188614203 and parameters: {'min_child_weight': 3, 'gamma': 1.0, 'subsample': 1.0, 'colsample_bytree': 0.5, 'max_depth': 4}. Best is trial 0 with value: 0.8160445188614203.\u001b[0m\n"
     ]
    },
    {
     "name": "stdout",
     "output_type": "stream",
     "text": [
      "[21:40:34] WARNING: /Users/travis/build/dmlc/xgboost/src/learner.cc:1061: Starting in XGBoost 1.3.0, the default evaluation metric used with the objective 'binary:logistic' was changed from 'error' to 'logloss'. Explicitly set eval_metric if you'd like to restore the old behavior.\n",
      "[21:40:34] WARNING: /Users/travis/build/dmlc/xgboost/src/learner.cc:1061: Starting in XGBoost 1.3.0, the default evaluation metric used with the objective 'binary:logistic' was changed from 'error' to 'logloss'. Explicitly set eval_metric if you'd like to restore the old behavior.\n",
      "[21:40:34] WARNING: /Users/travis/build/dmlc/xgboost/src/learner.cc:1061: Starting in XGBoost 1.3.0, the default evaluation metric used with the objective 'binary:logistic' was changed from 'error' to 'logloss'. Explicitly set eval_metric if you'd like to restore the old behavior.\n",
      "[21:40:34] WARNING: /Users/travis/build/dmlc/xgboost/src/learner.cc:1061: Starting in XGBoost 1.3.0, the default evaluation metric used with the objective 'binary:logistic' was changed from 'error' to 'logloss'. Explicitly set eval_metric if you'd like to restore the old behavior.\n"
     ]
    },
    {
     "name": "stderr",
     "output_type": "stream",
     "text": [
      "/Users/t/.pyenv/versions/3.8.5/lib/python3.8/site-packages/xgboost/sklearn.py:888: UserWarning: The use of label encoder in XGBClassifier is deprecated and will be removed in a future release. To remove this warning, do the following: 1) Pass option use_label_encoder=False when constructing XGBClassifier object; and 2) Encode your labels (y) as integers starting with 0, i.e. 0, 1, 2, ..., [num_class - 1].\n",
      "  warnings.warn(label_encoder_deprecation_msg, UserWarning)\n"
     ]
    },
    {
     "name": "stdout",
     "output_type": "stream",
     "text": [
      "[21:40:34] WARNING: /Users/travis/build/dmlc/xgboost/src/learner.cc:1061: Starting in XGBoost 1.3.0, the default evaluation metric used with the objective 'binary:logistic' was changed from 'error' to 'logloss'. Explicitly set eval_metric if you'd like to restore the old behavior.\n",
      "[21:40:34] WARNING: /Users/travis/build/dmlc/xgboost/src/learner.cc:1061: Starting in XGBoost 1.3.0, the default evaluation metric used with the objective 'binary:logistic' was changed from 'error' to 'logloss'. Explicitly set eval_metric if you'd like to restore the old behavior.\n",
      "[21:40:34] WARNING: /Users/travis/build/dmlc/xgboost/src/learner.cc:1061: Starting in XGBoost 1.3.0, the default evaluation metric used with the objective 'binary:logistic' was changed from 'error' to 'logloss'. Explicitly set eval_metric if you'd like to restore the old behavior.\n"
     ]
    },
    {
     "name": "stderr",
     "output_type": "stream",
     "text": [
      "\u001b[32m[I 2021-01-03 21:40:34,663]\u001b[0m Trial 1 finished with value: 0.8076627597754358 and parameters: {'min_child_weight': 4, 'gamma': 0.8, 'subsample': 0.8, 'colsample_bytree': 0.6, 'max_depth': 4}. Best is trial 0 with value: 0.8160445188614203.\u001b[0m\n"
     ]
    },
    {
     "name": "stdout",
     "output_type": "stream",
     "text": [
      "[21:40:34] WARNING: /Users/travis/build/dmlc/xgboost/src/learner.cc:1061: Starting in XGBoost 1.3.0, the default evaluation metric used with the objective 'binary:logistic' was changed from 'error' to 'logloss'. Explicitly set eval_metric if you'd like to restore the old behavior.\n",
      "[21:40:34] WARNING: /Users/travis/build/dmlc/xgboost/src/learner.cc:1061: Starting in XGBoost 1.3.0, the default evaluation metric used with the objective 'binary:logistic' was changed from 'error' to 'logloss'. Explicitly set eval_metric if you'd like to restore the old behavior.\n",
      "[21:40:34] WARNING: /Users/travis/build/dmlc/xgboost/src/learner.cc:1061: Starting in XGBoost 1.3.0, the default evaluation metric used with the objective 'binary:logistic' was changed from 'error' to 'logloss'. Explicitly set eval_metric if you'd like to restore the old behavior.\n"
     ]
    },
    {
     "name": "stderr",
     "output_type": "stream",
     "text": [
      "/Users/t/.pyenv/versions/3.8.5/lib/python3.8/site-packages/xgboost/sklearn.py:888: UserWarning: The use of label encoder in XGBClassifier is deprecated and will be removed in a future release. To remove this warning, do the following: 1) Pass option use_label_encoder=False when constructing XGBClassifier object; and 2) Encode your labels (y) as integers starting with 0, i.e. 0, 1, 2, ..., [num_class - 1].\n",
      "  warnings.warn(label_encoder_deprecation_msg, UserWarning)\n"
     ]
    },
    {
     "name": "stdout",
     "output_type": "stream",
     "text": [
      "[21:40:34] WARNING: /Users/travis/build/dmlc/xgboost/src/learner.cc:1061: Starting in XGBoost 1.3.0, the default evaluation metric used with the objective 'binary:logistic' was changed from 'error' to 'logloss'. Explicitly set eval_metric if you'd like to restore the old behavior.\n",
      "[21:40:34] WARNING: /Users/travis/build/dmlc/xgboost/src/learner.cc:1061: Starting in XGBoost 1.3.0, the default evaluation metric used with the objective 'binary:logistic' was changed from 'error' to 'logloss'. Explicitly set eval_metric if you'd like to restore the old behavior.\n",
      "[21:40:35] WARNING: /Users/travis/build/dmlc/xgboost/src/learner.cc:1061: Starting in XGBoost 1.3.0, the default evaluation metric used with the objective 'binary:logistic' was changed from 'error' to 'logloss'. Explicitly set eval_metric if you'd like to restore the old behavior.\n"
     ]
    },
    {
     "name": "stderr",
     "output_type": "stream",
     "text": [
      "\u001b[32m[I 2021-01-03 21:40:35,100]\u001b[0m Trial 2 finished with value: 0.8188318723529993 and parameters: {'min_child_weight': 2, 'gamma': 0.8, 'subsample': 0.7, 'colsample_bytree': 1.0, 'max_depth': 5}. Best is trial 2 with value: 0.8188318723529993.\u001b[0m\n",
      "/Users/t/.pyenv/versions/3.8.5/lib/python3.8/site-packages/xgboost/sklearn.py:888: UserWarning: The use of label encoder in XGBClassifier is deprecated and will be removed in a future release. To remove this warning, do the following: 1) Pass option use_label_encoder=False when constructing XGBClassifier object; and 2) Encode your labels (y) as integers starting with 0, i.e. 0, 1, 2, ..., [num_class - 1].\n",
      "  warnings.warn(label_encoder_deprecation_msg, UserWarning)\n"
     ]
    },
    {
     "name": "stdout",
     "output_type": "stream",
     "text": [
      "[21:40:35] WARNING: /Users/travis/build/dmlc/xgboost/src/learner.cc:1061: Starting in XGBoost 1.3.0, the default evaluation metric used with the objective 'binary:logistic' was changed from 'error' to 'logloss'. Explicitly set eval_metric if you'd like to restore the old behavior.\n",
      "[21:40:35] WARNING: /Users/travis/build/dmlc/xgboost/src/learner.cc:1061: Starting in XGBoost 1.3.0, the default evaluation metric used with the objective 'binary:logistic' was changed from 'error' to 'logloss'. Explicitly set eval_metric if you'd like to restore the old behavior.\n",
      "[21:40:35] WARNING: /Users/travis/build/dmlc/xgboost/src/learner.cc:1061: Starting in XGBoost 1.3.0, the default evaluation metric used with the objective 'binary:logistic' was changed from 'error' to 'logloss'. Explicitly set eval_metric if you'd like to restore the old behavior.\n",
      "[21:40:35] WARNING: /Users/travis/build/dmlc/xgboost/src/learner.cc:1061: Starting in XGBoost 1.3.0, the default evaluation metric used with the objective 'binary:logistic' was changed from 'error' to 'logloss'. Explicitly set eval_metric if you'd like to restore the old behavior.\n"
     ]
    },
    {
     "name": "stderr",
     "output_type": "stream",
     "text": [
      "\u001b[32m[I 2021-01-03 21:40:35,468]\u001b[0m Trial 3 finished with value: 0.8244656751699004 and parameters: {'min_child_weight': 5, 'gamma': 0.9, 'subsample': 1.0, 'colsample_bytree': 0.6, 'max_depth': 3}. Best is trial 3 with value: 0.8244656751699004.\u001b[0m\n"
     ]
    },
    {
     "name": "stdout",
     "output_type": "stream",
     "text": [
      "[21:40:35] WARNING: /Users/travis/build/dmlc/xgboost/src/learner.cc:1061: Starting in XGBoost 1.3.0, the default evaluation metric used with the objective 'binary:logistic' was changed from 'error' to 'logloss'. Explicitly set eval_metric if you'd like to restore the old behavior.\n",
      "[21:40:35] WARNING: /Users/travis/build/dmlc/xgboost/src/learner.cc:1061: Starting in XGBoost 1.3.0, the default evaluation metric used with the objective 'binary:logistic' was changed from 'error' to 'logloss'. Explicitly set eval_metric if you'd like to restore the old behavior.\n"
     ]
    },
    {
     "name": "stderr",
     "output_type": "stream",
     "text": [
      "/Users/t/.pyenv/versions/3.8.5/lib/python3.8/site-packages/xgboost/sklearn.py:888: UserWarning: The use of label encoder in XGBClassifier is deprecated and will be removed in a future release. To remove this warning, do the following: 1) Pass option use_label_encoder=False when constructing XGBClassifier object; and 2) Encode your labels (y) as integers starting with 0, i.e. 0, 1, 2, ..., [num_class - 1].\n",
      "  warnings.warn(label_encoder_deprecation_msg, UserWarning)\n"
     ]
    },
    {
     "name": "stdout",
     "output_type": "stream",
     "text": [
      "[21:40:35] WARNING: /Users/travis/build/dmlc/xgboost/src/learner.cc:1061: Starting in XGBoost 1.3.0, the default evaluation metric used with the objective 'binary:logistic' was changed from 'error' to 'logloss'. Explicitly set eval_metric if you'd like to restore the old behavior.\n",
      "[21:40:35] WARNING: /Users/travis/build/dmlc/xgboost/src/learner.cc:1061: Starting in XGBoost 1.3.0, the default evaluation metric used with the objective 'binary:logistic' was changed from 'error' to 'logloss'. Explicitly set eval_metric if you'd like to restore the old behavior.\n",
      "[21:40:35] WARNING: /Users/travis/build/dmlc/xgboost/src/learner.cc:1061: Starting in XGBoost 1.3.0, the default evaluation metric used with the objective 'binary:logistic' was changed from 'error' to 'logloss'. Explicitly set eval_metric if you'd like to restore the old behavior.\n",
      "[21:40:35] WARNING: /Users/travis/build/dmlc/xgboost/src/learner.cc:1061: Starting in XGBoost 1.3.0, the default evaluation metric used with the objective 'binary:logistic' was changed from 'error' to 'logloss'. Explicitly set eval_metric if you'd like to restore the old behavior.\n"
     ]
    },
    {
     "name": "stderr",
     "output_type": "stream",
     "text": [
      "\u001b[32m[I 2021-01-03 21:40:36,114]\u001b[0m Trial 4 finished with value: 0.8104501132670145 and parameters: {'min_child_weight': 5, 'gamma': 0.1, 'subsample': 0.5, 'colsample_bytree': 0.9, 'max_depth': 7}. Best is trial 3 with value: 0.8244656751699004.\u001b[0m\n",
      "/Users/t/.pyenv/versions/3.8.5/lib/python3.8/site-packages/xgboost/sklearn.py:888: UserWarning: The use of label encoder in XGBClassifier is deprecated and will be removed in a future release. To remove this warning, do the following: 1) Pass option use_label_encoder=False when constructing XGBClassifier object; and 2) Encode your labels (y) as integers starting with 0, i.e. 0, 1, 2, ..., [num_class - 1].\n",
      "  warnings.warn(label_encoder_deprecation_msg, UserWarning)\n"
     ]
    },
    {
     "name": "stdout",
     "output_type": "stream",
     "text": [
      "[21:40:36] WARNING: /Users/travis/build/dmlc/xgboost/src/learner.cc:1061: Starting in XGBoost 1.3.0, the default evaluation metric used with the objective 'binary:logistic' was changed from 'error' to 'logloss'. Explicitly set eval_metric if you'd like to restore the old behavior.\n",
      "[21:40:36] WARNING: /Users/travis/build/dmlc/xgboost/src/learner.cc:1061: Starting in XGBoost 1.3.0, the default evaluation metric used with the objective 'binary:logistic' was changed from 'error' to 'logloss'. Explicitly set eval_metric if you'd like to restore the old behavior.\n",
      "[21:40:36] WARNING: /Users/travis/build/dmlc/xgboost/src/learner.cc:1061: Starting in XGBoost 1.3.0, the default evaluation metric used with the objective 'binary:logistic' was changed from 'error' to 'logloss'. Explicitly set eval_metric if you'd like to restore the old behavior.\n",
      "[21:40:36] WARNING: /Users/travis/build/dmlc/xgboost/src/learner.cc:1061: Starting in XGBoost 1.3.0, the default evaluation metric used with the objective 'binary:logistic' was changed from 'error' to 'logloss'. Explicitly set eval_metric if you'd like to restore the old behavior.\n",
      "[21:40:36] WARNING: /Users/travis/build/dmlc/xgboost/src/learner.cc:1061: Starting in XGBoost 1.3.0, the default evaluation metric used with the objective 'binary:logistic' was changed from 'error' to 'logloss'. Explicitly set eval_metric if you'd like to restore the old behavior.\n"
     ]
    },
    {
     "name": "stderr",
     "output_type": "stream",
     "text": [
      "\u001b[32m[I 2021-01-03 21:40:36,727]\u001b[0m Trial 5 finished with value: 0.8034177090515119 and parameters: {'min_child_weight': 4, 'gamma': 1.0, 'subsample': 0.7, 'colsample_bytree': 0.8, 'max_depth': 7}. Best is trial 3 with value: 0.8244656751699004.\u001b[0m\n",
      "/Users/t/.pyenv/versions/3.8.5/lib/python3.8/site-packages/xgboost/sklearn.py:888: UserWarning: The use of label encoder in XGBClassifier is deprecated and will be removed in a future release. To remove this warning, do the following: 1) Pass option use_label_encoder=False when constructing XGBClassifier object; and 2) Encode your labels (y) as integers starting with 0, i.e. 0, 1, 2, ..., [num_class - 1].\n",
      "  warnings.warn(label_encoder_deprecation_msg, UserWarning)\n"
     ]
    },
    {
     "name": "stdout",
     "output_type": "stream",
     "text": [
      "[21:40:36] WARNING: /Users/travis/build/dmlc/xgboost/src/learner.cc:1061: Starting in XGBoost 1.3.0, the default evaluation metric used with the objective 'binary:logistic' was changed from 'error' to 'logloss'. Explicitly set eval_metric if you'd like to restore the old behavior.\n",
      "[21:40:36] WARNING: /Users/travis/build/dmlc/xgboost/src/learner.cc:1061: Starting in XGBoost 1.3.0, the default evaluation metric used with the objective 'binary:logistic' was changed from 'error' to 'logloss'. Explicitly set eval_metric if you'd like to restore the old behavior.\n",
      "[21:40:36] WARNING: /Users/travis/build/dmlc/xgboost/src/learner.cc:1061: Starting in XGBoost 1.3.0, the default evaluation metric used with the objective 'binary:logistic' was changed from 'error' to 'logloss'. Explicitly set eval_metric if you'd like to restore the old behavior.\n",
      "[21:40:37] WARNING: /Users/travis/build/dmlc/xgboost/src/learner.cc:1061: Starting in XGBoost 1.3.0, the default evaluation metric used with the objective 'binary:logistic' was changed from 'error' to 'logloss'. Explicitly set eval_metric if you'd like to restore the old behavior.\n",
      "[21:40:37] WARNING: /Users/travis/build/dmlc/xgboost/src/learner.cc:1061: Starting in XGBoost 1.3.0, the default evaluation metric used with the objective 'binary:logistic' was changed from 'error' to 'logloss'. Explicitly set eval_metric if you'd like to restore the old behavior.\n"
     ]
    },
    {
     "name": "stderr",
     "output_type": "stream",
     "text": [
      "\u001b[32m[I 2021-01-03 21:40:37,314]\u001b[0m Trial 6 finished with value: 0.8286811779769525 and parameters: {'min_child_weight': 2, 'gamma': 0.6, 'subsample': 1.0, 'colsample_bytree': 0.8, 'max_depth': 6}. Best is trial 6 with value: 0.8286811779769525.\u001b[0m\n",
      "/Users/t/.pyenv/versions/3.8.5/lib/python3.8/site-packages/xgboost/sklearn.py:888: UserWarning: The use of label encoder in XGBClassifier is deprecated and will be removed in a future release. To remove this warning, do the following: 1) Pass option use_label_encoder=False when constructing XGBClassifier object; and 2) Encode your labels (y) as integers starting with 0, i.e. 0, 1, 2, ..., [num_class - 1].\n",
      "  warnings.warn(label_encoder_deprecation_msg, UserWarning)\n"
     ]
    },
    {
     "name": "stdout",
     "output_type": "stream",
     "text": [
      "[21:40:37] WARNING: /Users/travis/build/dmlc/xgboost/src/learner.cc:1061: Starting in XGBoost 1.3.0, the default evaluation metric used with the objective 'binary:logistic' was changed from 'error' to 'logloss'. Explicitly set eval_metric if you'd like to restore the old behavior.\n",
      "[21:40:37] WARNING: /Users/travis/build/dmlc/xgboost/src/learner.cc:1061: Starting in XGBoost 1.3.0, the default evaluation metric used with the objective 'binary:logistic' was changed from 'error' to 'logloss'. Explicitly set eval_metric if you'd like to restore the old behavior.\n",
      "[21:40:37] WARNING: /Users/travis/build/dmlc/xgboost/src/learner.cc:1061: Starting in XGBoost 1.3.0, the default evaluation metric used with the objective 'binary:logistic' was changed from 'error' to 'logloss'. Explicitly set eval_metric if you'd like to restore the old behavior.\n",
      "[21:40:37] WARNING: /Users/travis/build/dmlc/xgboost/src/learner.cc:1061: Starting in XGBoost 1.3.0, the default evaluation metric used with the objective 'binary:logistic' was changed from 'error' to 'logloss'. Explicitly set eval_metric if you'd like to restore the old behavior.\n",
      "[21:40:37] WARNING: /Users/travis/build/dmlc/xgboost/src/learner.cc:1061: Starting in XGBoost 1.3.0, the default evaluation metric used with the objective 'binary:logistic' was changed from 'error' to 'logloss'. Explicitly set eval_metric if you'd like to restore the old behavior.\n"
     ]
    },
    {
     "name": "stderr",
     "output_type": "stream",
     "text": [
      "\u001b[32m[I 2021-01-03 21:40:37,949]\u001b[0m Trial 7 finished with value: 0.8272333300502315 and parameters: {'min_child_weight': 2, 'gamma': 0.6, 'subsample': 0.8, 'colsample_bytree': 1.0, 'max_depth': 6}. Best is trial 6 with value: 0.8286811779769525.\u001b[0m\n",
      "/Users/t/.pyenv/versions/3.8.5/lib/python3.8/site-packages/xgboost/sklearn.py:888: UserWarning: The use of label encoder in XGBClassifier is deprecated and will be removed in a future release. To remove this warning, do the following: 1) Pass option use_label_encoder=False when constructing XGBClassifier object; and 2) Encode your labels (y) as integers starting with 0, i.e. 0, 1, 2, ..., [num_class - 1].\n",
      "  warnings.warn(label_encoder_deprecation_msg, UserWarning)\n"
     ]
    },
    {
     "name": "stdout",
     "output_type": "stream",
     "text": [
      "[21:40:37] WARNING: /Users/travis/build/dmlc/xgboost/src/learner.cc:1061: Starting in XGBoost 1.3.0, the default evaluation metric used with the objective 'binary:logistic' was changed from 'error' to 'logloss'. Explicitly set eval_metric if you'd like to restore the old behavior.\n",
      "[21:40:38] WARNING: /Users/travis/build/dmlc/xgboost/src/learner.cc:1061: Starting in XGBoost 1.3.0, the default evaluation metric used with the objective 'binary:logistic' was changed from 'error' to 'logloss'. Explicitly set eval_metric if you'd like to restore the old behavior.\n",
      "[21:40:38] WARNING: /Users/travis/build/dmlc/xgboost/src/learner.cc:1061: Starting in XGBoost 1.3.0, the default evaluation metric used with the objective 'binary:logistic' was changed from 'error' to 'logloss'. Explicitly set eval_metric if you'd like to restore the old behavior.\n",
      "[21:40:38] WARNING: /Users/travis/build/dmlc/xgboost/src/learner.cc:1061: Starting in XGBoost 1.3.0, the default evaluation metric used with the objective 'binary:logistic' was changed from 'error' to 'logloss'. Explicitly set eval_metric if you'd like to restore the old behavior.\n"
     ]
    },
    {
     "name": "stderr",
     "output_type": "stream",
     "text": [
      "\u001b[32m[I 2021-01-03 21:40:38,751]\u001b[0m Trial 8 finished with value: 0.8090613611740372 and parameters: {'min_child_weight': 5, 'gamma': 0.6, 'subsample': 1.0, 'colsample_bytree': 0.7, 'max_depth': 8}. Best is trial 6 with value: 0.8286811779769525.\u001b[0m\n"
     ]
    },
    {
     "name": "stdout",
     "output_type": "stream",
     "text": [
      "[21:40:38] WARNING: /Users/travis/build/dmlc/xgboost/src/learner.cc:1061: Starting in XGBoost 1.3.0, the default evaluation metric used with the objective 'binary:logistic' was changed from 'error' to 'logloss'. Explicitly set eval_metric if you'd like to restore the old behavior.\n",
      "[21:40:38] WARNING: /Users/travis/build/dmlc/xgboost/src/learner.cc:1061: Starting in XGBoost 1.3.0, the default evaluation metric used with the objective 'binary:logistic' was changed from 'error' to 'logloss'. Explicitly set eval_metric if you'd like to restore the old behavior.\n",
      "[21:40:38] WARNING: /Users/travis/build/dmlc/xgboost/src/learner.cc:1061: Starting in XGBoost 1.3.0, the default evaluation metric used with the objective 'binary:logistic' was changed from 'error' to 'logloss'. Explicitly set eval_metric if you'd like to restore the old behavior.\n",
      "[21:40:38] WARNING: /Users/travis/build/dmlc/xgboost/src/learner.cc:1061: Starting in XGBoost 1.3.0, the default evaluation metric used with the objective 'binary:logistic' was changed from 'error' to 'logloss'. Explicitly set eval_metric if you'd like to restore the old behavior.\n"
     ]
    },
    {
     "name": "stderr",
     "output_type": "stream",
     "text": [
      "/Users/t/.pyenv/versions/3.8.5/lib/python3.8/site-packages/xgboost/sklearn.py:888: UserWarning: The use of label encoder in XGBClassifier is deprecated and will be removed in a future release. To remove this warning, do the following: 1) Pass option use_label_encoder=False when constructing XGBClassifier object; and 2) Encode your labels (y) as integers starting with 0, i.e. 0, 1, 2, ..., [num_class - 1].\n",
      "  warnings.warn(label_encoder_deprecation_msg, UserWarning)\n"
     ]
    },
    {
     "name": "stdout",
     "output_type": "stream",
     "text": [
      "[21:40:38] WARNING: /Users/travis/build/dmlc/xgboost/src/learner.cc:1061: Starting in XGBoost 1.3.0, the default evaluation metric used with the objective 'binary:logistic' was changed from 'error' to 'logloss'. Explicitly set eval_metric if you'd like to restore the old behavior.\n",
      "[21:40:39] WARNING: /Users/travis/build/dmlc/xgboost/src/learner.cc:1061: Starting in XGBoost 1.3.0, the default evaluation metric used with the objective 'binary:logistic' was changed from 'error' to 'logloss'. Explicitly set eval_metric if you'd like to restore the old behavior.\n"
     ]
    },
    {
     "name": "stderr",
     "output_type": "stream",
     "text": [
      "\u001b[32m[I 2021-01-03 21:40:39,255]\u001b[0m Trial 9 finished with value: 0.8062444597655866 and parameters: {'min_child_weight': 5, 'gamma': 0.30000000000000004, 'subsample': 0.7, 'colsample_bytree': 0.6, 'max_depth': 10}. Best is trial 6 with value: 0.8286811779769525.\u001b[0m\n",
      "/Users/t/.pyenv/versions/3.8.5/lib/python3.8/site-packages/xgboost/sklearn.py:888: UserWarning: The use of label encoder in XGBClassifier is deprecated and will be removed in a future release. To remove this warning, do the following: 1) Pass option use_label_encoder=False when constructing XGBClassifier object; and 2) Encode your labels (y) as integers starting with 0, i.e. 0, 1, 2, ..., [num_class - 1].\n",
      "  warnings.warn(label_encoder_deprecation_msg, UserWarning)\n"
     ]
    },
    {
     "name": "stdout",
     "output_type": "stream",
     "text": [
      "[21:40:39] WARNING: /Users/travis/build/dmlc/xgboost/src/learner.cc:1061: Starting in XGBoost 1.3.0, the default evaluation metric used with the objective 'binary:logistic' was changed from 'error' to 'logloss'. Explicitly set eval_metric if you'd like to restore the old behavior.\n",
      "[21:40:39] WARNING: /Users/travis/build/dmlc/xgboost/src/learner.cc:1061: Starting in XGBoost 1.3.0, the default evaluation metric used with the objective 'binary:logistic' was changed from 'error' to 'logloss'. Explicitly set eval_metric if you'd like to restore the old behavior.\n",
      "[21:40:39] WARNING: /Users/travis/build/dmlc/xgboost/src/learner.cc:1061: Starting in XGBoost 1.3.0, the default evaluation metric used with the objective 'binary:logistic' was changed from 'error' to 'logloss'. Explicitly set eval_metric if you'd like to restore the old behavior.\n",
      "[21:40:40] WARNING: /Users/travis/build/dmlc/xgboost/src/learner.cc:1061: Starting in XGBoost 1.3.0, the default evaluation metric used with the objective 'binary:logistic' was changed from 'error' to 'logloss'. Explicitly set eval_metric if you'd like to restore the old behavior.\n",
      "[21:40:40] WARNING: /Users/travis/build/dmlc/xgboost/src/learner.cc:1061: Starting in XGBoost 1.3.0, the default evaluation metric used with the objective 'binary:logistic' was changed from 'error' to 'logloss'. Explicitly set eval_metric if you'd like to restore the old behavior.\n"
     ]
    },
    {
     "name": "stderr",
     "output_type": "stream",
     "text": [
      "\u001b[32m[I 2021-01-03 21:40:40,360]\u001b[0m Trial 10 finished with value: 0.821619225844578 and parameters: {'min_child_weight': 1, 'gamma': 0.4, 'subsample': 0.9, 'colsample_bytree': 0.8, 'max_depth': 10}. Best is trial 6 with value: 0.8286811779769525.\u001b[0m\n",
      "/Users/t/.pyenv/versions/3.8.5/lib/python3.8/site-packages/xgboost/sklearn.py:888: UserWarning: The use of label encoder in XGBClassifier is deprecated and will be removed in a future release. To remove this warning, do the following: 1) Pass option use_label_encoder=False when constructing XGBClassifier object; and 2) Encode your labels (y) as integers starting with 0, i.e. 0, 1, 2, ..., [num_class - 1].\n",
      "  warnings.warn(label_encoder_deprecation_msg, UserWarning)\n"
     ]
    },
    {
     "name": "stdout",
     "output_type": "stream",
     "text": [
      "[21:40:40] WARNING: /Users/travis/build/dmlc/xgboost/src/learner.cc:1061: Starting in XGBoost 1.3.0, the default evaluation metric used with the objective 'binary:logistic' was changed from 'error' to 'logloss'. Explicitly set eval_metric if you'd like to restore the old behavior.\n",
      "[21:40:40] WARNING: /Users/travis/build/dmlc/xgboost/src/learner.cc:1061: Starting in XGBoost 1.3.0, the default evaluation metric used with the objective 'binary:logistic' was changed from 'error' to 'logloss'. Explicitly set eval_metric if you'd like to restore the old behavior.\n",
      "[21:40:40] WARNING: /Users/travis/build/dmlc/xgboost/src/learner.cc:1061: Starting in XGBoost 1.3.0, the default evaluation metric used with the objective 'binary:logistic' was changed from 'error' to 'logloss'. Explicitly set eval_metric if you'd like to restore the old behavior.\n"
     ]
    },
    {
     "name": "stderr",
     "output_type": "stream",
     "text": [
      "\u001b[32m[I 2021-01-03 21:40:40,885]\u001b[0m Trial 11 finished with value: 0.8202501723628485 and parameters: {'min_child_weight': 1, 'gamma': 0.6, 'subsample': 0.5, 'colsample_bytree': 1.0, 'max_depth': 6}. Best is trial 6 with value: 0.8286811779769525.\u001b[0m\n"
     ]
    },
    {
     "name": "stdout",
     "output_type": "stream",
     "text": [
      "[21:40:40] WARNING: /Users/travis/build/dmlc/xgboost/src/learner.cc:1061: Starting in XGBoost 1.3.0, the default evaluation metric used with the objective 'binary:logistic' was changed from 'error' to 'logloss'. Explicitly set eval_metric if you'd like to restore the old behavior.\n",
      "[21:40:40] WARNING: /Users/travis/build/dmlc/xgboost/src/learner.cc:1061: Starting in XGBoost 1.3.0, the default evaluation metric used with the objective 'binary:logistic' was changed from 'error' to 'logloss'. Explicitly set eval_metric if you'd like to restore the old behavior.\n"
     ]
    },
    {
     "name": "stderr",
     "output_type": "stream",
     "text": [
      "/Users/t/.pyenv/versions/3.8.5/lib/python3.8/site-packages/xgboost/sklearn.py:888: UserWarning: The use of label encoder in XGBClassifier is deprecated and will be removed in a future release. To remove this warning, do the following: 1) Pass option use_label_encoder=False when constructing XGBClassifier object; and 2) Encode your labels (y) as integers starting with 0, i.e. 0, 1, 2, ..., [num_class - 1].\n",
      "  warnings.warn(label_encoder_deprecation_msg, UserWarning)\n"
     ]
    },
    {
     "name": "stdout",
     "output_type": "stream",
     "text": [
      "[21:40:40] WARNING: /Users/travis/build/dmlc/xgboost/src/learner.cc:1061: Starting in XGBoost 1.3.0, the default evaluation metric used with the objective 'binary:logistic' was changed from 'error' to 'logloss'. Explicitly set eval_metric if you'd like to restore the old behavior.\n",
      "[21:40:41] WARNING: /Users/travis/build/dmlc/xgboost/src/learner.cc:1061: Starting in XGBoost 1.3.0, the default evaluation metric used with the objective 'binary:logistic' was changed from 'error' to 'logloss'. Explicitly set eval_metric if you'd like to restore the old behavior.\n",
      "[21:40:41] WARNING: /Users/travis/build/dmlc/xgboost/src/learner.cc:1061: Starting in XGBoost 1.3.0, the default evaluation metric used with the objective 'binary:logistic' was changed from 'error' to 'logloss'. Explicitly set eval_metric if you'd like to restore the old behavior.\n",
      "[21:40:41] WARNING: /Users/travis/build/dmlc/xgboost/src/learner.cc:1061: Starting in XGBoost 1.3.0, the default evaluation metric used with the objective 'binary:logistic' was changed from 'error' to 'logloss'. Explicitly set eval_metric if you'd like to restore the old behavior.\n"
     ]
    },
    {
     "name": "stderr",
     "output_type": "stream",
     "text": [
      "\u001b[32m[I 2021-01-03 21:40:41,689]\u001b[0m Trial 12 finished with value: 0.8314685314685315 and parameters: {'min_child_weight': 2, 'gamma': 0.5, 'subsample': 0.9, 'colsample_bytree': 0.9, 'max_depth': 8}. Best is trial 12 with value: 0.8314685314685315.\u001b[0m\n"
     ]
    },
    {
     "name": "stdout",
     "output_type": "stream",
     "text": [
      "[21:40:41] WARNING: /Users/travis/build/dmlc/xgboost/src/learner.cc:1061: Starting in XGBoost 1.3.0, the default evaluation metric used with the objective 'binary:logistic' was changed from 'error' to 'logloss'. Explicitly set eval_metric if you'd like to restore the old behavior.\n",
      "[21:40:41] WARNING: /Users/travis/build/dmlc/xgboost/src/learner.cc:1061: Starting in XGBoost 1.3.0, the default evaluation metric used with the objective 'binary:logistic' was changed from 'error' to 'logloss'. Explicitly set eval_metric if you'd like to restore the old behavior.\n"
     ]
    },
    {
     "name": "stderr",
     "output_type": "stream",
     "text": [
      "/Users/t/.pyenv/versions/3.8.5/lib/python3.8/site-packages/xgboost/sklearn.py:888: UserWarning: The use of label encoder in XGBClassifier is deprecated and will be removed in a future release. To remove this warning, do the following: 1) Pass option use_label_encoder=False when constructing XGBClassifier object; and 2) Encode your labels (y) as integers starting with 0, i.e. 0, 1, 2, ..., [num_class - 1].\n",
      "  warnings.warn(label_encoder_deprecation_msg, UserWarning)\n"
     ]
    },
    {
     "name": "stdout",
     "output_type": "stream",
     "text": [
      "[21:40:41] WARNING: /Users/travis/build/dmlc/xgboost/src/learner.cc:1061: Starting in XGBoost 1.3.0, the default evaluation metric used with the objective 'binary:logistic' was changed from 'error' to 'logloss'. Explicitly set eval_metric if you'd like to restore the old behavior.\n",
      "[21:40:42] WARNING: /Users/travis/build/dmlc/xgboost/src/learner.cc:1061: Starting in XGBoost 1.3.0, the default evaluation metric used with the objective 'binary:logistic' was changed from 'error' to 'logloss'. Explicitly set eval_metric if you'd like to restore the old behavior.\n",
      "[21:40:42] WARNING: /Users/travis/build/dmlc/xgboost/src/learner.cc:1061: Starting in XGBoost 1.3.0, the default evaluation metric used with the objective 'binary:logistic' was changed from 'error' to 'logloss'. Explicitly set eval_metric if you'd like to restore the old behavior.\n",
      "[21:40:42] WARNING: /Users/travis/build/dmlc/xgboost/src/learner.cc:1061: Starting in XGBoost 1.3.0, the default evaluation metric used with the objective 'binary:logistic' was changed from 'error' to 'logloss'. Explicitly set eval_metric if you'd like to restore the old behavior.\n"
     ]
    },
    {
     "name": "stderr",
     "output_type": "stream",
     "text": [
      "\u001b[32m[I 2021-01-03 21:40:42,349]\u001b[0m Trial 13 finished with value: 0.8272825765783512 and parameters: {'min_child_weight': 2, 'gamma': 0.4, 'subsample': 0.9, 'colsample_bytree': 0.9, 'max_depth': 9}. Best is trial 12 with value: 0.8314685314685315.\u001b[0m\n",
      "/Users/t/.pyenv/versions/3.8.5/lib/python3.8/site-packages/xgboost/sklearn.py:888: UserWarning: The use of label encoder in XGBClassifier is deprecated and will be removed in a future release. To remove this warning, do the following: 1) Pass option use_label_encoder=False when constructing XGBClassifier object; and 2) Encode your labels (y) as integers starting with 0, i.e. 0, 1, 2, ..., [num_class - 1].\n",
      "  warnings.warn(label_encoder_deprecation_msg, UserWarning)\n"
     ]
    },
    {
     "name": "stdout",
     "output_type": "stream",
     "text": [
      "[21:40:42] WARNING: /Users/travis/build/dmlc/xgboost/src/learner.cc:1061: Starting in XGBoost 1.3.0, the default evaluation metric used with the objective 'binary:logistic' was changed from 'error' to 'logloss'. Explicitly set eval_metric if you'd like to restore the old behavior.\n",
      "[21:40:42] WARNING: /Users/travis/build/dmlc/xgboost/src/learner.cc:1061: Starting in XGBoost 1.3.0, the default evaluation metric used with the objective 'binary:logistic' was changed from 'error' to 'logloss'. Explicitly set eval_metric if you'd like to restore the old behavior.\n",
      "[21:40:42] WARNING: /Users/travis/build/dmlc/xgboost/src/learner.cc:1061: Starting in XGBoost 1.3.0, the default evaluation metric used with the objective 'binary:logistic' was changed from 'error' to 'logloss'. Explicitly set eval_metric if you'd like to restore the old behavior.\n",
      "[21:40:42] WARNING: /Users/travis/build/dmlc/xgboost/src/learner.cc:1061: Starting in XGBoost 1.3.0, the default evaluation metric used with the objective 'binary:logistic' was changed from 'error' to 'logloss'. Explicitly set eval_metric if you'd like to restore the old behavior.\n",
      "[21:40:42] WARNING: /Users/travis/build/dmlc/xgboost/src/learner.cc:1061: Starting in XGBoost 1.3.0, the default evaluation metric used with the objective 'binary:logistic' was changed from 'error' to 'logloss'. Explicitly set eval_metric if you'd like to restore the old behavior.\n"
     ]
    },
    {
     "name": "stderr",
     "output_type": "stream",
     "text": [
      "\u001b[32m[I 2021-01-03 21:40:42,949]\u001b[0m Trial 14 finished with value: 0.8244558258642766 and parameters: {'min_child_weight': 3, 'gamma': 0.2, 'subsample': 0.9, 'colsample_bytree': 0.9, 'max_depth': 8}. Best is trial 12 with value: 0.8314685314685315.\u001b[0m\n",
      "/Users/t/.pyenv/versions/3.8.5/lib/python3.8/site-packages/xgboost/sklearn.py:888: UserWarning: The use of label encoder in XGBClassifier is deprecated and will be removed in a future release. To remove this warning, do the following: 1) Pass option use_label_encoder=False when constructing XGBClassifier object; and 2) Encode your labels (y) as integers starting with 0, i.e. 0, 1, 2, ..., [num_class - 1].\n",
      "  warnings.warn(label_encoder_deprecation_msg, UserWarning)\n"
     ]
    },
    {
     "name": "stdout",
     "output_type": "stream",
     "text": [
      "[21:40:42] WARNING: /Users/travis/build/dmlc/xgboost/src/learner.cc:1061: Starting in XGBoost 1.3.0, the default evaluation metric used with the objective 'binary:logistic' was changed from 'error' to 'logloss'. Explicitly set eval_metric if you'd like to restore the old behavior.\n",
      "[21:40:43] WARNING: /Users/travis/build/dmlc/xgboost/src/learner.cc:1061: Starting in XGBoost 1.3.0, the default evaluation metric used with the objective 'binary:logistic' was changed from 'error' to 'logloss'. Explicitly set eval_metric if you'd like to restore the old behavior.\n",
      "[21:40:43] WARNING: /Users/travis/build/dmlc/xgboost/src/learner.cc:1061: Starting in XGBoost 1.3.0, the default evaluation metric used with the objective 'binary:logistic' was changed from 'error' to 'logloss'. Explicitly set eval_metric if you'd like to restore the old behavior.\n",
      "[21:40:43] WARNING: /Users/travis/build/dmlc/xgboost/src/learner.cc:1061: Starting in XGBoost 1.3.0, the default evaluation metric used with the objective 'binary:logistic' was changed from 'error' to 'logloss'. Explicitly set eval_metric if you'd like to restore the old behavior.\n",
      "[21:40:43] WARNING: /Users/travis/build/dmlc/xgboost/src/learner.cc:1061: Starting in XGBoost 1.3.0, the default evaluation metric used with the objective 'binary:logistic' was changed from 'error' to 'logloss'. Explicitly set eval_metric if you'd like to restore the old behavior.\n"
     ]
    },
    {
     "name": "stderr",
     "output_type": "stream",
     "text": [
      "\u001b[32m[I 2021-01-03 21:40:43,613]\u001b[0m Trial 15 finished with value: 0.8244558258642766 and parameters: {'min_child_weight': 2, 'gamma': 0.5, 'subsample': 0.9, 'colsample_bytree': 0.8, 'max_depth': 8}. Best is trial 12 with value: 0.8314685314685315.\u001b[0m\n",
      "/Users/t/.pyenv/versions/3.8.5/lib/python3.8/site-packages/xgboost/sklearn.py:888: UserWarning: The use of label encoder in XGBClassifier is deprecated and will be removed in a future release. To remove this warning, do the following: 1) Pass option use_label_encoder=False when constructing XGBClassifier object; and 2) Encode your labels (y) as integers starting with 0, i.e. 0, 1, 2, ..., [num_class - 1].\n",
      "  warnings.warn(label_encoder_deprecation_msg, UserWarning)\n"
     ]
    },
    {
     "name": "stdout",
     "output_type": "stream",
     "text": [
      "[21:40:43] WARNING: /Users/travis/build/dmlc/xgboost/src/learner.cc:1061: Starting in XGBoost 1.3.0, the default evaluation metric used with the objective 'binary:logistic' was changed from 'error' to 'logloss'. Explicitly set eval_metric if you'd like to restore the old behavior.\n",
      "[21:40:43] WARNING: /Users/travis/build/dmlc/xgboost/src/learner.cc:1061: Starting in XGBoost 1.3.0, the default evaluation metric used with the objective 'binary:logistic' was changed from 'error' to 'logloss'. Explicitly set eval_metric if you'd like to restore the old behavior.\n",
      "[21:40:43] WARNING: /Users/travis/build/dmlc/xgboost/src/learner.cc:1061: Starting in XGBoost 1.3.0, the default evaluation metric used with the objective 'binary:logistic' was changed from 'error' to 'logloss'. Explicitly set eval_metric if you'd like to restore the old behavior.\n",
      "[21:40:43] WARNING: /Users/travis/build/dmlc/xgboost/src/learner.cc:1061: Starting in XGBoost 1.3.0, the default evaluation metric used with the objective 'binary:logistic' was changed from 'error' to 'logloss'. Explicitly set eval_metric if you'd like to restore the old behavior.\n"
     ]
    },
    {
     "name": "stderr",
     "output_type": "stream",
     "text": [
      "\u001b[32m[I 2021-01-03 21:40:44,300]\u001b[0m Trial 16 finished with value: 0.8272530286614794 and parameters: {'min_child_weight': 1, 'gamma': 0.7000000000000001, 'subsample': 1.0, 'colsample_bytree': 0.7, 'max_depth': 5}. Best is trial 12 with value: 0.8314685314685315.\u001b[0m\n"
     ]
    },
    {
     "name": "stdout",
     "output_type": "stream",
     "text": [
      "[21:40:44] WARNING: /Users/travis/build/dmlc/xgboost/src/learner.cc:1061: Starting in XGBoost 1.3.0, the default evaluation metric used with the objective 'binary:logistic' was changed from 'error' to 'logloss'. Explicitly set eval_metric if you'd like to restore the old behavior.\n"
     ]
    },
    {
     "name": "stderr",
     "output_type": "stream",
     "text": [
      "/Users/t/.pyenv/versions/3.8.5/lib/python3.8/site-packages/xgboost/sklearn.py:888: UserWarning: The use of label encoder in XGBClassifier is deprecated and will be removed in a future release. To remove this warning, do the following: 1) Pass option use_label_encoder=False when constructing XGBClassifier object; and 2) Encode your labels (y) as integers starting with 0, i.e. 0, 1, 2, ..., [num_class - 1].\n",
      "  warnings.warn(label_encoder_deprecation_msg, UserWarning)\n"
     ]
    },
    {
     "name": "stdout",
     "output_type": "stream",
     "text": [
      "[21:40:44] WARNING: /Users/travis/build/dmlc/xgboost/src/learner.cc:1061: Starting in XGBoost 1.3.0, the default evaluation metric used with the objective 'binary:logistic' was changed from 'error' to 'logloss'. Explicitly set eval_metric if you'd like to restore the old behavior.\n",
      "[21:40:44] WARNING: /Users/travis/build/dmlc/xgboost/src/learner.cc:1061: Starting in XGBoost 1.3.0, the default evaluation metric used with the objective 'binary:logistic' was changed from 'error' to 'logloss'. Explicitly set eval_metric if you'd like to restore the old behavior.\n",
      "[21:40:44] WARNING: /Users/travis/build/dmlc/xgboost/src/learner.cc:1061: Starting in XGBoost 1.3.0, the default evaluation metric used with the objective 'binary:logistic' was changed from 'error' to 'logloss'. Explicitly set eval_metric if you'd like to restore the old behavior.\n",
      "[21:40:44] WARNING: /Users/travis/build/dmlc/xgboost/src/learner.cc:1061: Starting in XGBoost 1.3.0, the default evaluation metric used with the objective 'binary:logistic' was changed from 'error' to 'logloss'. Explicitly set eval_metric if you'd like to restore the old behavior.\n",
      "[21:40:44] WARNING: /Users/travis/build/dmlc/xgboost/src/learner.cc:1061: Starting in XGBoost 1.3.0, the default evaluation metric used with the objective 'binary:logistic' was changed from 'error' to 'logloss'. Explicitly set eval_metric if you'd like to restore the old behavior.\n"
     ]
    },
    {
     "name": "stderr",
     "output_type": "stream",
     "text": [
      "\u001b[32m[I 2021-01-03 21:40:45,180]\u001b[0m Trial 17 finished with value: 0.8230473751600511 and parameters: {'min_child_weight': 3, 'gamma': 0.4, 'subsample': 0.8, 'colsample_bytree': 0.9, 'max_depth': 9}. Best is trial 12 with value: 0.8314685314685315.\u001b[0m\n",
      "/Users/t/.pyenv/versions/3.8.5/lib/python3.8/site-packages/xgboost/sklearn.py:888: UserWarning: The use of label encoder in XGBClassifier is deprecated and will be removed in a future release. To remove this warning, do the following: 1) Pass option use_label_encoder=False when constructing XGBClassifier object; and 2) Encode your labels (y) as integers starting with 0, i.e. 0, 1, 2, ..., [num_class - 1].\n",
      "  warnings.warn(label_encoder_deprecation_msg, UserWarning)\n"
     ]
    },
    {
     "name": "stdout",
     "output_type": "stream",
     "text": [
      "[21:40:45] WARNING: /Users/travis/build/dmlc/xgboost/src/learner.cc:1061: Starting in XGBoost 1.3.0, the default evaluation metric used with the objective 'binary:logistic' was changed from 'error' to 'logloss'. Explicitly set eval_metric if you'd like to restore the old behavior.\n",
      "[21:40:45] WARNING: /Users/travis/build/dmlc/xgboost/src/learner.cc:1061: Starting in XGBoost 1.3.0, the default evaluation metric used with the objective 'binary:logistic' was changed from 'error' to 'logloss'. Explicitly set eval_metric if you'd like to restore the old behavior.\n",
      "[21:40:45] WARNING: /Users/travis/build/dmlc/xgboost/src/learner.cc:1061: Starting in XGBoost 1.3.0, the default evaluation metric used with the objective 'binary:logistic' was changed from 'error' to 'logloss'. Explicitly set eval_metric if you'd like to restore the old behavior.\n"
     ]
    },
    {
     "name": "stderr",
     "output_type": "stream",
     "text": [
      "\u001b[32m[I 2021-01-03 21:40:45,985]\u001b[0m Trial 18 finished with value: 0.8272628779671033 and parameters: {'min_child_weight': 2, 'gamma': 0.5, 'subsample': 0.9, 'colsample_bytree': 0.8, 'max_depth': 7}. Best is trial 12 with value: 0.8314685314685315.\u001b[0m\n"
     ]
    },
    {
     "name": "stdout",
     "output_type": "stream",
     "text": [
      "[21:40:45] WARNING: /Users/travis/build/dmlc/xgboost/src/learner.cc:1061: Starting in XGBoost 1.3.0, the default evaluation metric used with the objective 'binary:logistic' was changed from 'error' to 'logloss'. Explicitly set eval_metric if you'd like to restore the old behavior.\n",
      "[21:40:45] WARNING: /Users/travis/build/dmlc/xgboost/src/learner.cc:1061: Starting in XGBoost 1.3.0, the default evaluation metric used with the objective 'binary:logistic' was changed from 'error' to 'logloss'. Explicitly set eval_metric if you'd like to restore the old behavior.\n"
     ]
    },
    {
     "name": "stderr",
     "output_type": "stream",
     "text": [
      "/Users/t/.pyenv/versions/3.8.5/lib/python3.8/site-packages/xgboost/sklearn.py:888: UserWarning: The use of label encoder in XGBClassifier is deprecated and will be removed in a future release. To remove this warning, do the following: 1) Pass option use_label_encoder=False when constructing XGBClassifier object; and 2) Encode your labels (y) as integers starting with 0, i.e. 0, 1, 2, ..., [num_class - 1].\n",
      "  warnings.warn(label_encoder_deprecation_msg, UserWarning)\n"
     ]
    },
    {
     "name": "stdout",
     "output_type": "stream",
     "text": [
      "[21:40:46] WARNING: /Users/travis/build/dmlc/xgboost/src/learner.cc:1061: Starting in XGBoost 1.3.0, the default evaluation metric used with the objective 'binary:logistic' was changed from 'error' to 'logloss'. Explicitly set eval_metric if you'd like to restore the old behavior.\n",
      "[21:40:46] WARNING: /Users/travis/build/dmlc/xgboost/src/learner.cc:1061: Starting in XGBoost 1.3.0, the default evaluation metric used with the objective 'binary:logistic' was changed from 'error' to 'logloss'. Explicitly set eval_metric if you'd like to restore the old behavior.\n",
      "[21:40:46] WARNING: /Users/travis/build/dmlc/xgboost/src/learner.cc:1061: Starting in XGBoost 1.3.0, the default evaluation metric used with the objective 'binary:logistic' was changed from 'error' to 'logloss'. Explicitly set eval_metric if you'd like to restore the old behavior.\n",
      "[21:40:46] WARNING: /Users/travis/build/dmlc/xgboost/src/learner.cc:1061: Starting in XGBoost 1.3.0, the default evaluation metric used with the objective 'binary:logistic' was changed from 'error' to 'logloss'. Explicitly set eval_metric if you'd like to restore the old behavior.\n"
     ]
    },
    {
     "name": "stderr",
     "output_type": "stream",
     "text": [
      "\u001b[32m[I 2021-01-03 21:40:46,722]\u001b[0m Trial 19 finished with value: 0.8230079779375554 and parameters: {'min_child_weight': 1, 'gamma': 0.7000000000000001, 'subsample': 0.6, 'colsample_bytree': 0.7, 'max_depth': 5}. Best is trial 12 with value: 0.8314685314685315.\u001b[0m\n"
     ]
    },
    {
     "name": "stdout",
     "output_type": "stream",
     "text": [
      "[21:40:46] WARNING: /Users/travis/build/dmlc/xgboost/src/learner.cc:1061: Starting in XGBoost 1.3.0, the default evaluation metric used with the objective 'binary:logistic' was changed from 'error' to 'logloss'. Explicitly set eval_metric if you'd like to restore the old behavior.\n",
      "[21:40:46] WARNING: /Users/travis/build/dmlc/xgboost/src/learner.cc:1061: Starting in XGBoost 1.3.0, the default evaluation metric used with the objective 'binary:logistic' was changed from 'error' to 'logloss'. Explicitly set eval_metric if you'd like to restore the old behavior.\n"
     ]
    },
    {
     "name": "stderr",
     "output_type": "stream",
     "text": [
      "/Users/t/.pyenv/versions/3.8.5/lib/python3.8/site-packages/xgboost/sklearn.py:888: UserWarning: The use of label encoder in XGBClassifier is deprecated and will be removed in a future release. To remove this warning, do the following: 1) Pass option use_label_encoder=False when constructing XGBClassifier object; and 2) Encode your labels (y) as integers starting with 0, i.e. 0, 1, 2, ..., [num_class - 1].\n",
      "  warnings.warn(label_encoder_deprecation_msg, UserWarning)\n"
     ]
    },
    {
     "name": "stdout",
     "output_type": "stream",
     "text": [
      "[21:40:46] WARNING: /Users/travis/build/dmlc/xgboost/src/learner.cc:1061: Starting in XGBoost 1.3.0, the default evaluation metric used with the objective 'binary:logistic' was changed from 'error' to 'logloss'. Explicitly set eval_metric if you'd like to restore the old behavior.\n",
      "[21:40:47] WARNING: /Users/travis/build/dmlc/xgboost/src/learner.cc:1061: Starting in XGBoost 1.3.0, the default evaluation metric used with the objective 'binary:logistic' was changed from 'error' to 'logloss'. Explicitly set eval_metric if you'd like to restore the old behavior.\n",
      "[21:40:47] WARNING: /Users/travis/build/dmlc/xgboost/src/learner.cc:1061: Starting in XGBoost 1.3.0, the default evaluation metric used with the objective 'binary:logistic' was changed from 'error' to 'logloss'. Explicitly set eval_metric if you'd like to restore the old behavior.\n"
     ]
    },
    {
     "name": "stderr",
     "output_type": "stream",
     "text": [
      "\u001b[32m[I 2021-01-03 21:40:47,585]\u001b[0m Trial 20 finished with value: 0.8258544272628778 and parameters: {'min_child_weight': 2, 'gamma': 0.30000000000000004, 'subsample': 1.0, 'colsample_bytree': 0.9, 'max_depth': 9}. Best is trial 12 with value: 0.8314685314685315.\u001b[0m\n"
     ]
    },
    {
     "name": "stdout",
     "output_type": "stream",
     "text": [
      "[21:40:47] WARNING: /Users/travis/build/dmlc/xgboost/src/learner.cc:1061: Starting in XGBoost 1.3.0, the default evaluation metric used with the objective 'binary:logistic' was changed from 'error' to 'logloss'. Explicitly set eval_metric if you'd like to restore the old behavior.\n",
      "[21:40:47] WARNING: /Users/travis/build/dmlc/xgboost/src/learner.cc:1061: Starting in XGBoost 1.3.0, the default evaluation metric used with the objective 'binary:logistic' was changed from 'error' to 'logloss'. Explicitly set eval_metric if you'd like to restore the old behavior.\n"
     ]
    },
    {
     "name": "stderr",
     "output_type": "stream",
     "text": [
      "/Users/t/.pyenv/versions/3.8.5/lib/python3.8/site-packages/xgboost/sklearn.py:888: UserWarning: The use of label encoder in XGBClassifier is deprecated and will be removed in a future release. To remove this warning, do the following: 1) Pass option use_label_encoder=False when constructing XGBClassifier object; and 2) Encode your labels (y) as integers starting with 0, i.e. 0, 1, 2, ..., [num_class - 1].\n",
      "  warnings.warn(label_encoder_deprecation_msg, UserWarning)\n"
     ]
    },
    {
     "name": "stdout",
     "output_type": "stream",
     "text": [
      "[21:40:47] WARNING: /Users/travis/build/dmlc/xgboost/src/learner.cc:1061: Starting in XGBoost 1.3.0, the default evaluation metric used with the objective 'binary:logistic' was changed from 'error' to 'logloss'. Explicitly set eval_metric if you'd like to restore the old behavior.\n",
      "[21:40:47] WARNING: /Users/travis/build/dmlc/xgboost/src/learner.cc:1061: Starting in XGBoost 1.3.0, the default evaluation metric used with the objective 'binary:logistic' was changed from 'error' to 'logloss'. Explicitly set eval_metric if you'd like to restore the old behavior.\n",
      "[21:40:47] WARNING: /Users/travis/build/dmlc/xgboost/src/learner.cc:1061: Starting in XGBoost 1.3.0, the default evaluation metric used with the objective 'binary:logistic' was changed from 'error' to 'logloss'. Explicitly set eval_metric if you'd like to restore the old behavior.\n"
     ]
    },
    {
     "name": "stderr",
     "output_type": "stream",
     "text": [
      "\u001b[32m[I 2021-01-03 21:40:48,153]\u001b[0m Trial 21 finished with value: 0.8272825765783512 and parameters: {'min_child_weight': 2, 'gamma': 0.4, 'subsample': 0.9, 'colsample_bytree': 0.9, 'max_depth': 9}. Best is trial 12 with value: 0.8314685314685315.\u001b[0m\n"
     ]
    },
    {
     "name": "stdout",
     "output_type": "stream",
     "text": [
      "[21:40:48] WARNING: /Users/travis/build/dmlc/xgboost/src/learner.cc:1061: Starting in XGBoost 1.3.0, the default evaluation metric used with the objective 'binary:logistic' was changed from 'error' to 'logloss'. Explicitly set eval_metric if you'd like to restore the old behavior.\n",
      "[21:40:48] WARNING: /Users/travis/build/dmlc/xgboost/src/learner.cc:1061: Starting in XGBoost 1.3.0, the default evaluation metric used with the objective 'binary:logistic' was changed from 'error' to 'logloss'. Explicitly set eval_metric if you'd like to restore the old behavior.\n"
     ]
    },
    {
     "name": "stderr",
     "output_type": "stream",
     "text": [
      "/Users/t/.pyenv/versions/3.8.5/lib/python3.8/site-packages/xgboost/sklearn.py:888: UserWarning: The use of label encoder in XGBClassifier is deprecated and will be removed in a future release. To remove this warning, do the following: 1) Pass option use_label_encoder=False when constructing XGBClassifier object; and 2) Encode your labels (y) as integers starting with 0, i.e. 0, 1, 2, ..., [num_class - 1].\n",
      "  warnings.warn(label_encoder_deprecation_msg, UserWarning)\n"
     ]
    },
    {
     "name": "stdout",
     "output_type": "stream",
     "text": [
      "[21:40:48] WARNING: /Users/travis/build/dmlc/xgboost/src/learner.cc:1061: Starting in XGBoost 1.3.0, the default evaluation metric used with the objective 'binary:logistic' was changed from 'error' to 'logloss'. Explicitly set eval_metric if you'd like to restore the old behavior.\n",
      "[21:40:48] WARNING: /Users/travis/build/dmlc/xgboost/src/learner.cc:1061: Starting in XGBoost 1.3.0, the default evaluation metric used with the objective 'binary:logistic' was changed from 'error' to 'logloss'. Explicitly set eval_metric if you'd like to restore the old behavior.\n",
      "[21:40:48] WARNING: /Users/travis/build/dmlc/xgboost/src/learner.cc:1061: Starting in XGBoost 1.3.0, the default evaluation metric used with the objective 'binary:logistic' was changed from 'error' to 'logloss'. Explicitly set eval_metric if you'd like to restore the old behavior.\n",
      "[21:40:48] WARNING: /Users/travis/build/dmlc/xgboost/src/learner.cc:1061: Starting in XGBoost 1.3.0, the default evaluation metric used with the objective 'binary:logistic' was changed from 'error' to 'logloss'. Explicitly set eval_metric if you'd like to restore the old behavior.\n"
     ]
    },
    {
     "name": "stderr",
     "output_type": "stream",
     "text": [
      "\u001b[32m[I 2021-01-03 21:40:48,769]\u001b[0m Trial 22 finished with value: 0.8314685314685315 and parameters: {'min_child_weight': 2, 'gamma': 0.5, 'subsample': 0.9, 'colsample_bytree': 0.9, 'max_depth': 8}. Best is trial 12 with value: 0.8314685314685315.\u001b[0m\n",
      "/Users/t/.pyenv/versions/3.8.5/lib/python3.8/site-packages/xgboost/sklearn.py:888: UserWarning: The use of label encoder in XGBClassifier is deprecated and will be removed in a future release. To remove this warning, do the following: 1) Pass option use_label_encoder=False when constructing XGBClassifier object; and 2) Encode your labels (y) as integers starting with 0, i.e. 0, 1, 2, ..., [num_class - 1].\n",
      "  warnings.warn(label_encoder_deprecation_msg, UserWarning)\n"
     ]
    },
    {
     "name": "stdout",
     "output_type": "stream",
     "text": [
      "[21:40:48] WARNING: /Users/travis/build/dmlc/xgboost/src/learner.cc:1061: Starting in XGBoost 1.3.0, the default evaluation metric used with the objective 'binary:logistic' was changed from 'error' to 'logloss'. Explicitly set eval_metric if you'd like to restore the old behavior.\n",
      "[21:40:48] WARNING: /Users/travis/build/dmlc/xgboost/src/learner.cc:1061: Starting in XGBoost 1.3.0, the default evaluation metric used with the objective 'binary:logistic' was changed from 'error' to 'logloss'. Explicitly set eval_metric if you'd like to restore the old behavior.\n",
      "[21:40:48] WARNING: /Users/travis/build/dmlc/xgboost/src/learner.cc:1061: Starting in XGBoost 1.3.0, the default evaluation metric used with the objective 'binary:logistic' was changed from 'error' to 'logloss'. Explicitly set eval_metric if you'd like to restore the old behavior.\n"
     ]
    },
    {
     "name": "stderr",
     "output_type": "stream",
     "text": [
      "\u001b[32m[I 2021-01-03 21:40:49,266]\u001b[0m Trial 23 finished with value: 0.8230572244656752 and parameters: {'min_child_weight': 3, 'gamma': 0.7000000000000001, 'subsample': 0.8, 'colsample_bytree': 1.0, 'max_depth': 8}. Best is trial 12 with value: 0.8314685314685315.\u001b[0m\n"
     ]
    },
    {
     "name": "stdout",
     "output_type": "stream",
     "text": [
      "[21:40:49] WARNING: /Users/travis/build/dmlc/xgboost/src/learner.cc:1061: Starting in XGBoost 1.3.0, the default evaluation metric used with the objective 'binary:logistic' was changed from 'error' to 'logloss'. Explicitly set eval_metric if you'd like to restore the old behavior.\n",
      "[21:40:49] WARNING: /Users/travis/build/dmlc/xgboost/src/learner.cc:1061: Starting in XGBoost 1.3.0, the default evaluation metric used with the objective 'binary:logistic' was changed from 'error' to 'logloss'. Explicitly set eval_metric if you'd like to restore the old behavior.\n"
     ]
    },
    {
     "name": "stderr",
     "output_type": "stream",
     "text": [
      "/Users/t/.pyenv/versions/3.8.5/lib/python3.8/site-packages/xgboost/sklearn.py:888: UserWarning: The use of label encoder in XGBClassifier is deprecated and will be removed in a future release. To remove this warning, do the following: 1) Pass option use_label_encoder=False when constructing XGBClassifier object; and 2) Encode your labels (y) as integers starting with 0, i.e. 0, 1, 2, ..., [num_class - 1].\n",
      "  warnings.warn(label_encoder_deprecation_msg, UserWarning)\n"
     ]
    },
    {
     "name": "stdout",
     "output_type": "stream",
     "text": [
      "[21:40:49] WARNING: /Users/travis/build/dmlc/xgboost/src/learner.cc:1061: Starting in XGBoost 1.3.0, the default evaluation metric used with the objective 'binary:logistic' was changed from 'error' to 'logloss'. Explicitly set eval_metric if you'd like to restore the old behavior.\n",
      "[21:40:49] WARNING: /Users/travis/build/dmlc/xgboost/src/learner.cc:1061: Starting in XGBoost 1.3.0, the default evaluation metric used with the objective 'binary:logistic' was changed from 'error' to 'logloss'. Explicitly set eval_metric if you'd like to restore the old behavior.\n",
      "[21:40:49] WARNING: /Users/travis/build/dmlc/xgboost/src/learner.cc:1061: Starting in XGBoost 1.3.0, the default evaluation metric used with the objective 'binary:logistic' was changed from 'error' to 'logloss'. Explicitly set eval_metric if you'd like to restore the old behavior.\n"
     ]
    },
    {
     "name": "stderr",
     "output_type": "stream",
     "text": [
      "\u001b[32m[I 2021-01-03 21:40:49,749]\u001b[0m Trial 24 finished with value: 0.8258347286516301 and parameters: {'min_child_weight': 1, 'gamma': 0.5, 'subsample': 1.0, 'colsample_bytree': 0.8, 'max_depth': 6}. Best is trial 12 with value: 0.8314685314685315.\u001b[0m\n"
     ]
    },
    {
     "name": "stdout",
     "output_type": "stream",
     "text": [
      "[21:40:49] WARNING: /Users/travis/build/dmlc/xgboost/src/learner.cc:1061: Starting in XGBoost 1.3.0, the default evaluation metric used with the objective 'binary:logistic' was changed from 'error' to 'logloss'. Explicitly set eval_metric if you'd like to restore the old behavior.\n",
      "[21:40:49] WARNING: /Users/travis/build/dmlc/xgboost/src/learner.cc:1061: Starting in XGBoost 1.3.0, the default evaluation metric used with the objective 'binary:logistic' was changed from 'error' to 'logloss'. Explicitly set eval_metric if you'd like to restore the old behavior.\n"
     ]
    },
    {
     "name": "stderr",
     "output_type": "stream",
     "text": [
      "/Users/t/.pyenv/versions/3.8.5/lib/python3.8/site-packages/xgboost/sklearn.py:888: UserWarning: The use of label encoder in XGBClassifier is deprecated and will be removed in a future release. To remove this warning, do the following: 1) Pass option use_label_encoder=False when constructing XGBClassifier object; and 2) Encode your labels (y) as integers starting with 0, i.e. 0, 1, 2, ..., [num_class - 1].\n",
      "  warnings.warn(label_encoder_deprecation_msg, UserWarning)\n"
     ]
    },
    {
     "name": "stdout",
     "output_type": "stream",
     "text": [
      "[21:40:49] WARNING: /Users/travis/build/dmlc/xgboost/src/learner.cc:1061: Starting in XGBoost 1.3.0, the default evaluation metric used with the objective 'binary:logistic' was changed from 'error' to 'logloss'. Explicitly set eval_metric if you'd like to restore the old behavior.\n",
      "[21:40:49] WARNING: /Users/travis/build/dmlc/xgboost/src/learner.cc:1061: Starting in XGBoost 1.3.0, the default evaluation metric used with the objective 'binary:logistic' was changed from 'error' to 'logloss'. Explicitly set eval_metric if you'd like to restore the old behavior.\n",
      "[21:40:49] WARNING: /Users/travis/build/dmlc/xgboost/src/learner.cc:1061: Starting in XGBoost 1.3.0, the default evaluation metric used with the objective 'binary:logistic' was changed from 'error' to 'logloss'. Explicitly set eval_metric if you'd like to restore the old behavior.\n"
     ]
    },
    {
     "name": "stderr",
     "output_type": "stream",
     "text": [
      "\u001b[32m[I 2021-01-03 21:40:50,255]\u001b[0m Trial 25 finished with value: 0.8230670737712991 and parameters: {'min_child_weight': 2, 'gamma': 0.30000000000000004, 'subsample': 0.9, 'colsample_bytree': 0.9, 'max_depth': 7}. Best is trial 12 with value: 0.8314685314685315.\u001b[0m\n"
     ]
    },
    {
     "name": "stdout",
     "output_type": "stream",
     "text": [
      "[21:40:50] WARNING: /Users/travis/build/dmlc/xgboost/src/learner.cc:1061: Starting in XGBoost 1.3.0, the default evaluation metric used with the objective 'binary:logistic' was changed from 'error' to 'logloss'. Explicitly set eval_metric if you'd like to restore the old behavior.\n",
      "[21:40:50] WARNING: /Users/travis/build/dmlc/xgboost/src/learner.cc:1061: Starting in XGBoost 1.3.0, the default evaluation metric used with the objective 'binary:logistic' was changed from 'error' to 'logloss'. Explicitly set eval_metric if you'd like to restore the old behavior.\n"
     ]
    },
    {
     "name": "stderr",
     "output_type": "stream",
     "text": [
      "/Users/t/.pyenv/versions/3.8.5/lib/python3.8/site-packages/xgboost/sklearn.py:888: UserWarning: The use of label encoder in XGBClassifier is deprecated and will be removed in a future release. To remove this warning, do the following: 1) Pass option use_label_encoder=False when constructing XGBClassifier object; and 2) Encode your labels (y) as integers starting with 0, i.e. 0, 1, 2, ..., [num_class - 1].\n",
      "  warnings.warn(label_encoder_deprecation_msg, UserWarning)\n"
     ]
    },
    {
     "name": "stdout",
     "output_type": "stream",
     "text": [
      "[21:40:50] WARNING: /Users/travis/build/dmlc/xgboost/src/learner.cc:1061: Starting in XGBoost 1.3.0, the default evaluation metric used with the objective 'binary:logistic' was changed from 'error' to 'logloss'. Explicitly set eval_metric if you'd like to restore the old behavior.\n",
      "[21:40:50] WARNING: /Users/travis/build/dmlc/xgboost/src/learner.cc:1061: Starting in XGBoost 1.3.0, the default evaluation metric used with the objective 'binary:logistic' was changed from 'error' to 'logloss'. Explicitly set eval_metric if you'd like to restore the old behavior.\n",
      "[21:40:50] WARNING: /Users/travis/build/dmlc/xgboost/src/learner.cc:1061: Starting in XGBoost 1.3.0, the default evaluation metric used with the objective 'binary:logistic' was changed from 'error' to 'logloss'. Explicitly set eval_metric if you'd like to restore the old behavior.\n"
     ]
    },
    {
     "name": "stderr",
     "output_type": "stream",
     "text": [
      "\u001b[32m[I 2021-01-03 21:40:50,695]\u001b[0m Trial 26 finished with value: 0.8328375849502612 and parameters: {'min_child_weight': 3, 'gamma': 0.5, 'subsample': 0.8, 'colsample_bytree': 0.8, 'max_depth': 8}. Best is trial 26 with value: 0.8328375849502612.\u001b[0m\n"
     ]
    },
    {
     "name": "stdout",
     "output_type": "stream",
     "text": [
      "[21:40:50] WARNING: /Users/travis/build/dmlc/xgboost/src/learner.cc:1061: Starting in XGBoost 1.3.0, the default evaluation metric used with the objective 'binary:logistic' was changed from 'error' to 'logloss'. Explicitly set eval_metric if you'd like to restore the old behavior.\n",
      "[21:40:50] WARNING: /Users/travis/build/dmlc/xgboost/src/learner.cc:1061: Starting in XGBoost 1.3.0, the default evaluation metric used with the objective 'binary:logistic' was changed from 'error' to 'logloss'. Explicitly set eval_metric if you'd like to restore the old behavior.\n",
      "[21:40:50] WARNING: /Users/travis/build/dmlc/xgboost/src/learner.cc:1061: Starting in XGBoost 1.3.0, the default evaluation metric used with the objective 'binary:logistic' was changed from 'error' to 'logloss'. Explicitly set eval_metric if you'd like to restore the old behavior.\n"
     ]
    },
    {
     "name": "stderr",
     "output_type": "stream",
     "text": [
      "/Users/t/.pyenv/versions/3.8.5/lib/python3.8/site-packages/xgboost/sklearn.py:888: UserWarning: The use of label encoder in XGBClassifier is deprecated and will be removed in a future release. To remove this warning, do the following: 1) Pass option use_label_encoder=False when constructing XGBClassifier object; and 2) Encode your labels (y) as integers starting with 0, i.e. 0, 1, 2, ..., [num_class - 1].\n",
      "  warnings.warn(label_encoder_deprecation_msg, UserWarning)\n"
     ]
    },
    {
     "name": "stdout",
     "output_type": "stream",
     "text": [
      "[21:40:50] WARNING: /Users/travis/build/dmlc/xgboost/src/learner.cc:1061: Starting in XGBoost 1.3.0, the default evaluation metric used with the objective 'binary:logistic' was changed from 'error' to 'logloss'. Explicitly set eval_metric if you'd like to restore the old behavior.\n",
      "[21:40:50] WARNING: /Users/travis/build/dmlc/xgboost/src/learner.cc:1061: Starting in XGBoost 1.3.0, the default evaluation metric used with the objective 'binary:logistic' was changed from 'error' to 'logloss'. Explicitly set eval_metric if you'd like to restore the old behavior.\n",
      "[21:40:50] WARNING: /Users/travis/build/dmlc/xgboost/src/learner.cc:1061: Starting in XGBoost 1.3.0, the default evaluation metric used with the objective 'binary:logistic' was changed from 'error' to 'logloss'. Explicitly set eval_metric if you'd like to restore the old behavior.\n"
     ]
    },
    {
     "name": "stderr",
     "output_type": "stream",
     "text": [
      "\u001b[32m[I 2021-01-03 21:40:51,128]\u001b[0m Trial 27 finished with value: 0.8174037230375258 and parameters: {'min_child_weight': 4, 'gamma': 0.5, 'subsample': 0.8, 'colsample_bytree': 1.0, 'max_depth': 8}. Best is trial 26 with value: 0.8328375849502612.\u001b[0m\n"
     ]
    },
    {
     "name": "stdout",
     "output_type": "stream",
     "text": [
      "[21:40:51] WARNING: /Users/travis/build/dmlc/xgboost/src/learner.cc:1061: Starting in XGBoost 1.3.0, the default evaluation metric used with the objective 'binary:logistic' was changed from 'error' to 'logloss'. Explicitly set eval_metric if you'd like to restore the old behavior.\n",
      "[21:40:51] WARNING: /Users/travis/build/dmlc/xgboost/src/learner.cc:1061: Starting in XGBoost 1.3.0, the default evaluation metric used with the objective 'binary:logistic' was changed from 'error' to 'logloss'. Explicitly set eval_metric if you'd like to restore the old behavior.\n",
      "[21:40:51] WARNING: /Users/travis/build/dmlc/xgboost/src/learner.cc:1061: Starting in XGBoost 1.3.0, the default evaluation metric used with the objective 'binary:logistic' was changed from 'error' to 'logloss'. Explicitly set eval_metric if you'd like to restore the old behavior.\n"
     ]
    },
    {
     "name": "stderr",
     "output_type": "stream",
     "text": [
      "/Users/t/.pyenv/versions/3.8.5/lib/python3.8/site-packages/xgboost/sklearn.py:888: UserWarning: The use of label encoder in XGBClassifier is deprecated and will be removed in a future release. To remove this warning, do the following: 1) Pass option use_label_encoder=False when constructing XGBClassifier object; and 2) Encode your labels (y) as integers starting with 0, i.e. 0, 1, 2, ..., [num_class - 1].\n",
      "  warnings.warn(label_encoder_deprecation_msg, UserWarning)\n"
     ]
    },
    {
     "name": "stdout",
     "output_type": "stream",
     "text": [
      "[21:40:51] WARNING: /Users/travis/build/dmlc/xgboost/src/learner.cc:1061: Starting in XGBoost 1.3.0, the default evaluation metric used with the objective 'binary:logistic' was changed from 'error' to 'logloss'. Explicitly set eval_metric if you'd like to restore the old behavior.\n",
      "[21:40:51] WARNING: /Users/travis/build/dmlc/xgboost/src/learner.cc:1061: Starting in XGBoost 1.3.0, the default evaluation metric used with the objective 'binary:logistic' was changed from 'error' to 'logloss'. Explicitly set eval_metric if you'd like to restore the old behavior.\n",
      "[21:40:51] WARNING: /Users/travis/build/dmlc/xgboost/src/learner.cc:1061: Starting in XGBoost 1.3.0, the default evaluation metric used with the objective 'binary:logistic' was changed from 'error' to 'logloss'. Explicitly set eval_metric if you'd like to restore the old behavior.\n"
     ]
    },
    {
     "name": "stderr",
     "output_type": "stream",
     "text": [
      "\u001b[32m[I 2021-01-03 21:40:51,551]\u001b[0m Trial 28 finished with value: 0.825844577957254 and parameters: {'min_child_weight': 3, 'gamma': 0.2, 'subsample': 0.8, 'colsample_bytree': 0.7, 'max_depth': 10}. Best is trial 26 with value: 0.8328375849502612.\u001b[0m\n",
      "/Users/t/.pyenv/versions/3.8.5/lib/python3.8/site-packages/xgboost/sklearn.py:888: UserWarning: The use of label encoder in XGBClassifier is deprecated and will be removed in a future release. To remove this warning, do the following: 1) Pass option use_label_encoder=False when constructing XGBClassifier object; and 2) Encode your labels (y) as integers starting with 0, i.e. 0, 1, 2, ..., [num_class - 1].\n",
      "  warnings.warn(label_encoder_deprecation_msg, UserWarning)\n"
     ]
    },
    {
     "name": "stdout",
     "output_type": "stream",
     "text": [
      "[21:40:51] WARNING: /Users/travis/build/dmlc/xgboost/src/learner.cc:1061: Starting in XGBoost 1.3.0, the default evaluation metric used with the objective 'binary:logistic' was changed from 'error' to 'logloss'. Explicitly set eval_metric if you'd like to restore the old behavior.\n",
      "[21:40:51] WARNING: /Users/travis/build/dmlc/xgboost/src/learner.cc:1061: Starting in XGBoost 1.3.0, the default evaluation metric used with the objective 'binary:logistic' was changed from 'error' to 'logloss'. Explicitly set eval_metric if you'd like to restore the old behavior.\n",
      "[21:40:51] WARNING: /Users/travis/build/dmlc/xgboost/src/learner.cc:1061: Starting in XGBoost 1.3.0, the default evaluation metric used with the objective 'binary:logistic' was changed from 'error' to 'logloss'. Explicitly set eval_metric if you'd like to restore the old behavior.\n"
     ]
    },
    {
     "name": "stderr",
     "output_type": "stream",
     "text": [
      "\u001b[32m[I 2021-01-03 21:40:52,007]\u001b[0m Trial 29 finished with value: 0.8118388653599921 and parameters: {'min_child_weight': 3, 'gamma': 0.5, 'subsample': 0.7, 'colsample_bytree': 0.9, 'max_depth': 9}. Best is trial 26 with value: 0.8328375849502612.\u001b[0m\n"
     ]
    },
    {
     "name": "stdout",
     "output_type": "stream",
     "text": [
      "[21:40:51] WARNING: /Users/travis/build/dmlc/xgboost/src/learner.cc:1061: Starting in XGBoost 1.3.0, the default evaluation metric used with the objective 'binary:logistic' was changed from 'error' to 'logloss'. Explicitly set eval_metric if you'd like to restore the old behavior.\n",
      "[21:40:51] WARNING: /Users/travis/build/dmlc/xgboost/src/learner.cc:1061: Starting in XGBoost 1.3.0, the default evaluation metric used with the objective 'binary:logistic' was changed from 'error' to 'logloss'. Explicitly set eval_metric if you'd like to restore the old behavior.\n",
      "[21:40:52] WARNING: /Users/travis/build/dmlc/xgboost/src/learner.cc:1061: Starting in XGBoost 1.3.0, the default evaluation metric used with the objective 'binary:logistic' was changed from 'error' to 'logloss'. Explicitly set eval_metric if you'd like to restore the old behavior.\n"
     ]
    },
    {
     "name": "stderr",
     "output_type": "stream",
     "text": [
      "/Users/t/.pyenv/versions/3.8.5/lib/python3.8/site-packages/xgboost/sklearn.py:888: UserWarning: The use of label encoder in XGBClassifier is deprecated and will be removed in a future release. To remove this warning, do the following: 1) Pass option use_label_encoder=False when constructing XGBClassifier object; and 2) Encode your labels (y) as integers starting with 0, i.e. 0, 1, 2, ..., [num_class - 1].\n",
      "  warnings.warn(label_encoder_deprecation_msg, UserWarning)\n"
     ]
    },
    {
     "name": "stdout",
     "output_type": "stream",
     "text": [
      "[21:40:52] WARNING: /Users/travis/build/dmlc/xgboost/src/learner.cc:1061: Starting in XGBoost 1.3.0, the default evaluation metric used with the objective 'binary:logistic' was changed from 'error' to 'logloss'. Explicitly set eval_metric if you'd like to restore the old behavior.\n",
      "[21:40:52] WARNING: /Users/travis/build/dmlc/xgboost/src/learner.cc:1061: Starting in XGBoost 1.3.0, the default evaluation metric used with the objective 'binary:logistic' was changed from 'error' to 'logloss'. Explicitly set eval_metric if you'd like to restore the old behavior.\n",
      "[21:40:52] WARNING: /Users/travis/build/dmlc/xgboost/src/learner.cc:1061: Starting in XGBoost 1.3.0, the default evaluation metric used with the objective 'binary:logistic' was changed from 'error' to 'logloss'. Explicitly set eval_metric if you'd like to restore the old behavior.\n",
      "[21:40:52] WARNING: /Users/travis/build/dmlc/xgboost/src/learner.cc:1061: Starting in XGBoost 1.3.0, the default evaluation metric used with the objective 'binary:logistic' was changed from 'error' to 'logloss'. Explicitly set eval_metric if you'd like to restore the old behavior.\n"
     ]
    },
    {
     "name": "stderr",
     "output_type": "stream",
     "text": [
      "\u001b[32m[I 2021-01-03 21:40:52,359]\u001b[0m Trial 30 finished with value: 0.8006008076430613 and parameters: {'min_child_weight': 4, 'gamma': 0.4, 'subsample': 0.6, 'colsample_bytree': 0.8, 'max_depth': 8}. Best is trial 26 with value: 0.8328375849502612.\u001b[0m\n",
      "/Users/t/.pyenv/versions/3.8.5/lib/python3.8/site-packages/xgboost/sklearn.py:888: UserWarning: The use of label encoder in XGBClassifier is deprecated and will be removed in a future release. To remove this warning, do the following: 1) Pass option use_label_encoder=False when constructing XGBClassifier object; and 2) Encode your labels (y) as integers starting with 0, i.e. 0, 1, 2, ..., [num_class - 1].\n",
      "  warnings.warn(label_encoder_deprecation_msg, UserWarning)\n"
     ]
    },
    {
     "name": "stdout",
     "output_type": "stream",
     "text": [
      "[21:40:52] WARNING: /Users/travis/build/dmlc/xgboost/src/learner.cc:1061: Starting in XGBoost 1.3.0, the default evaluation metric used with the objective 'binary:logistic' was changed from 'error' to 'logloss'. Explicitly set eval_metric if you'd like to restore the old behavior.\n",
      "[21:40:52] WARNING: /Users/travis/build/dmlc/xgboost/src/learner.cc:1061: Starting in XGBoost 1.3.0, the default evaluation metric used with the objective 'binary:logistic' was changed from 'error' to 'logloss'. Explicitly set eval_metric if you'd like to restore the old behavior.\n",
      "[21:40:52] WARNING: /Users/travis/build/dmlc/xgboost/src/learner.cc:1061: Starting in XGBoost 1.3.0, the default evaluation metric used with the objective 'binary:logistic' was changed from 'error' to 'logloss'. Explicitly set eval_metric if you'd like to restore the old behavior.\n"
     ]
    },
    {
     "name": "stderr",
     "output_type": "stream",
     "text": [
      "\u001b[32m[I 2021-01-03 21:40:52,813]\u001b[0m Trial 31 finished with value: 0.8258741258741258 and parameters: {'min_child_weight': 3, 'gamma': 0.6, 'subsample': 0.9, 'colsample_bytree': 0.8, 'max_depth': 7}. Best is trial 26 with value: 0.8328375849502612.\u001b[0m\n"
     ]
    },
    {
     "name": "stdout",
     "output_type": "stream",
     "text": [
      "[21:40:52] WARNING: /Users/travis/build/dmlc/xgboost/src/learner.cc:1061: Starting in XGBoost 1.3.0, the default evaluation metric used with the objective 'binary:logistic' was changed from 'error' to 'logloss'. Explicitly set eval_metric if you'd like to restore the old behavior.\n",
      "[21:40:52] WARNING: /Users/travis/build/dmlc/xgboost/src/learner.cc:1061: Starting in XGBoost 1.3.0, the default evaluation metric used with the objective 'binary:logistic' was changed from 'error' to 'logloss'. Explicitly set eval_metric if you'd like to restore the old behavior.\n",
      "[21:40:52] WARNING: /Users/travis/build/dmlc/xgboost/src/learner.cc:1061: Starting in XGBoost 1.3.0, the default evaluation metric used with the objective 'binary:logistic' was changed from 'error' to 'logloss'. Explicitly set eval_metric if you'd like to restore the old behavior.\n"
     ]
    },
    {
     "name": "stderr",
     "output_type": "stream",
     "text": [
      "/Users/t/.pyenv/versions/3.8.5/lib/python3.8/site-packages/xgboost/sklearn.py:888: UserWarning: The use of label encoder in XGBClassifier is deprecated and will be removed in a future release. To remove this warning, do the following: 1) Pass option use_label_encoder=False when constructing XGBClassifier object; and 2) Encode your labels (y) as integers starting with 0, i.e. 0, 1, 2, ..., [num_class - 1].\n",
      "  warnings.warn(label_encoder_deprecation_msg, UserWarning)\n"
     ]
    },
    {
     "name": "stdout",
     "output_type": "stream",
     "text": [
      "[21:40:52] WARNING: /Users/travis/build/dmlc/xgboost/src/learner.cc:1061: Starting in XGBoost 1.3.0, the default evaluation metric used with the objective 'binary:logistic' was changed from 'error' to 'logloss'. Explicitly set eval_metric if you'd like to restore the old behavior.\n",
      "[21:40:53] WARNING: /Users/travis/build/dmlc/xgboost/src/learner.cc:1061: Starting in XGBoost 1.3.0, the default evaluation metric used with the objective 'binary:logistic' was changed from 'error' to 'logloss'. Explicitly set eval_metric if you'd like to restore the old behavior.\n",
      "[21:40:53] WARNING: /Users/travis/build/dmlc/xgboost/src/learner.cc:1061: Starting in XGBoost 1.3.0, the default evaluation metric used with the objective 'binary:logistic' was changed from 'error' to 'logloss'. Explicitly set eval_metric if you'd like to restore the old behavior.\n"
     ]
    },
    {
     "name": "stderr",
     "output_type": "stream",
     "text": [
      "\u001b[32m[I 2021-01-03 21:40:53,240]\u001b[0m Trial 32 finished with value: 0.8300797793755539 and parameters: {'min_child_weight': 2, 'gamma': 0.7000000000000001, 'subsample': 1.0, 'colsample_bytree': 0.8, 'max_depth': 6}. Best is trial 26 with value: 0.8328375849502612.\u001b[0m\n"
     ]
    },
    {
     "name": "stdout",
     "output_type": "stream",
     "text": [
      "[21:40:53] WARNING: /Users/travis/build/dmlc/xgboost/src/learner.cc:1061: Starting in XGBoost 1.3.0, the default evaluation metric used with the objective 'binary:logistic' was changed from 'error' to 'logloss'. Explicitly set eval_metric if you'd like to restore the old behavior.\n",
      "[21:40:53] WARNING: /Users/travis/build/dmlc/xgboost/src/learner.cc:1061: Starting in XGBoost 1.3.0, the default evaluation metric used with the objective 'binary:logistic' was changed from 'error' to 'logloss'. Explicitly set eval_metric if you'd like to restore the old behavior.\n"
     ]
    },
    {
     "name": "stderr",
     "output_type": "stream",
     "text": [
      "/Users/t/.pyenv/versions/3.8.5/lib/python3.8/site-packages/xgboost/sklearn.py:888: UserWarning: The use of label encoder in XGBClassifier is deprecated and will be removed in a future release. To remove this warning, do the following: 1) Pass option use_label_encoder=False when constructing XGBClassifier object; and 2) Encode your labels (y) as integers starting with 0, i.e. 0, 1, 2, ..., [num_class - 1].\n",
      "  warnings.warn(label_encoder_deprecation_msg, UserWarning)\n"
     ]
    },
    {
     "name": "stdout",
     "output_type": "stream",
     "text": [
      "[21:40:53] WARNING: /Users/travis/build/dmlc/xgboost/src/learner.cc:1061: Starting in XGBoost 1.3.0, the default evaluation metric used with the objective 'binary:logistic' was changed from 'error' to 'logloss'. Explicitly set eval_metric if you'd like to restore the old behavior.\n",
      "[21:40:53] WARNING: /Users/travis/build/dmlc/xgboost/src/learner.cc:1061: Starting in XGBoost 1.3.0, the default evaluation metric used with the objective 'binary:logistic' was changed from 'error' to 'logloss'. Explicitly set eval_metric if you'd like to restore the old behavior.\n",
      "[21:40:53] WARNING: /Users/travis/build/dmlc/xgboost/src/learner.cc:1061: Starting in XGBoost 1.3.0, the default evaluation metric used with the objective 'binary:logistic' was changed from 'error' to 'logloss'. Explicitly set eval_metric if you'd like to restore the old behavior.\n"
     ]
    },
    {
     "name": "stderr",
     "output_type": "stream",
     "text": [
      "\u001b[32m[I 2021-01-03 21:40:53,747]\u001b[0m Trial 33 finished with value: 0.8202600216684723 and parameters: {'min_child_weight': 2, 'gamma': 0.8, 'subsample': 0.9, 'colsample_bytree': 0.9, 'max_depth': 7}. Best is trial 26 with value: 0.8328375849502612.\u001b[0m\n"
     ]
    },
    {
     "name": "stdout",
     "output_type": "stream",
     "text": [
      "[21:40:53] WARNING: /Users/travis/build/dmlc/xgboost/src/learner.cc:1061: Starting in XGBoost 1.3.0, the default evaluation metric used with the objective 'binary:logistic' was changed from 'error' to 'logloss'. Explicitly set eval_metric if you'd like to restore the old behavior.\n",
      "[21:40:53] WARNING: /Users/travis/build/dmlc/xgboost/src/learner.cc:1061: Starting in XGBoost 1.3.0, the default evaluation metric used with the objective 'binary:logistic' was changed from 'error' to 'logloss'. Explicitly set eval_metric if you'd like to restore the old behavior.\n",
      "[21:40:53] WARNING: /Users/travis/build/dmlc/xgboost/src/learner.cc:1061: Starting in XGBoost 1.3.0, the default evaluation metric used with the objective 'binary:logistic' was changed from 'error' to 'logloss'. Explicitly set eval_metric if you'd like to restore the old behavior.\n"
     ]
    },
    {
     "name": "stderr",
     "output_type": "stream",
     "text": [
      "/Users/t/.pyenv/versions/3.8.5/lib/python3.8/site-packages/xgboost/sklearn.py:888: UserWarning: The use of label encoder in XGBClassifier is deprecated and will be removed in a future release. To remove this warning, do the following: 1) Pass option use_label_encoder=False when constructing XGBClassifier object; and 2) Encode your labels (y) as integers starting with 0, i.e. 0, 1, 2, ..., [num_class - 1].\n",
      "  warnings.warn(label_encoder_deprecation_msg, UserWarning)\n"
     ]
    },
    {
     "name": "stdout",
     "output_type": "stream",
     "text": [
      "[21:40:53] WARNING: /Users/travis/build/dmlc/xgboost/src/learner.cc:1061: Starting in XGBoost 1.3.0, the default evaluation metric used with the objective 'binary:logistic' was changed from 'error' to 'logloss'. Explicitly set eval_metric if you'd like to restore the old behavior.\n",
      "[21:40:54] WARNING: /Users/travis/build/dmlc/xgboost/src/learner.cc:1061: Starting in XGBoost 1.3.0, the default evaluation metric used with the objective 'binary:logistic' was changed from 'error' to 'logloss'. Explicitly set eval_metric if you'd like to restore the old behavior.\n",
      "[21:40:54] WARNING: /Users/travis/build/dmlc/xgboost/src/learner.cc:1061: Starting in XGBoost 1.3.0, the default evaluation metric used with the objective 'binary:logistic' was changed from 'error' to 'logloss'. Explicitly set eval_metric if you'd like to restore the old behavior.\n"
     ]
    },
    {
     "name": "stderr",
     "output_type": "stream",
     "text": [
      "\u001b[32m[I 2021-01-03 21:40:54,204]\u001b[0m Trial 34 finished with value: 0.8244853737811484 and parameters: {'min_child_weight': 3, 'gamma': 0.7000000000000001, 'subsample': 0.8, 'colsample_bytree': 0.7, 'max_depth': 8}. Best is trial 26 with value: 0.8328375849502612.\u001b[0m\n",
      "/Users/t/.pyenv/versions/3.8.5/lib/python3.8/site-packages/xgboost/sklearn.py:888: UserWarning: The use of label encoder in XGBClassifier is deprecated and will be removed in a future release. To remove this warning, do the following: 1) Pass option use_label_encoder=False when constructing XGBClassifier object; and 2) Encode your labels (y) as integers starting with 0, i.e. 0, 1, 2, ..., [num_class - 1].\n",
      "  warnings.warn(label_encoder_deprecation_msg, UserWarning)\n"
     ]
    },
    {
     "name": "stdout",
     "output_type": "stream",
     "text": [
      "[21:40:54] WARNING: /Users/travis/build/dmlc/xgboost/src/learner.cc:1061: Starting in XGBoost 1.3.0, the default evaluation metric used with the objective 'binary:logistic' was changed from 'error' to 'logloss'. Explicitly set eval_metric if you'd like to restore the old behavior.\n",
      "[21:40:54] WARNING: /Users/travis/build/dmlc/xgboost/src/learner.cc:1061: Starting in XGBoost 1.3.0, the default evaluation metric used with the objective 'binary:logistic' was changed from 'error' to 'logloss'. Explicitly set eval_metric if you'd like to restore the old behavior.\n",
      "[21:40:54] WARNING: /Users/travis/build/dmlc/xgboost/src/learner.cc:1061: Starting in XGBoost 1.3.0, the default evaluation metric used with the objective 'binary:logistic' was changed from 'error' to 'logloss'. Explicitly set eval_metric if you'd like to restore the old behavior.\n",
      "[21:40:54] WARNING: /Users/travis/build/dmlc/xgboost/src/learner.cc:1061: Starting in XGBoost 1.3.0, the default evaluation metric used with the objective 'binary:logistic' was changed from 'error' to 'logloss'. Explicitly set eval_metric if you'd like to restore the old behavior.\n"
     ]
    },
    {
     "name": "stderr",
     "output_type": "stream",
     "text": [
      "\u001b[32m[I 2021-01-03 21:40:54,569]\u001b[0m Trial 35 finished with value: 0.8230572244656752 and parameters: {'min_child_weight': 2, 'gamma': 0.8, 'subsample': 0.8, 'colsample_bytree': 0.5, 'max_depth': 4}. Best is trial 26 with value: 0.8328375849502612.\u001b[0m\n"
     ]
    },
    {
     "name": "stdout",
     "output_type": "stream",
     "text": [
      "[21:40:54] WARNING: /Users/travis/build/dmlc/xgboost/src/learner.cc:1061: Starting in XGBoost 1.3.0, the default evaluation metric used with the objective 'binary:logistic' was changed from 'error' to 'logloss'. Explicitly set eval_metric if you'd like to restore the old behavior.\n",
      "[21:40:54] WARNING: /Users/travis/build/dmlc/xgboost/src/learner.cc:1061: Starting in XGBoost 1.3.0, the default evaluation metric used with the objective 'binary:logistic' was changed from 'error' to 'logloss'. Explicitly set eval_metric if you'd like to restore the old behavior.\n",
      "[21:40:54] WARNING: /Users/travis/build/dmlc/xgboost/src/learner.cc:1061: Starting in XGBoost 1.3.0, the default evaluation metric used with the objective 'binary:logistic' was changed from 'error' to 'logloss'. Explicitly set eval_metric if you'd like to restore the old behavior.\n"
     ]
    },
    {
     "name": "stderr",
     "output_type": "stream",
     "text": [
      "/Users/t/.pyenv/versions/3.8.5/lib/python3.8/site-packages/xgboost/sklearn.py:888: UserWarning: The use of label encoder in XGBClassifier is deprecated and will be removed in a future release. To remove this warning, do the following: 1) Pass option use_label_encoder=False when constructing XGBClassifier object; and 2) Encode your labels (y) as integers starting with 0, i.e. 0, 1, 2, ..., [num_class - 1].\n",
      "  warnings.warn(label_encoder_deprecation_msg, UserWarning)\n"
     ]
    },
    {
     "name": "stdout",
     "output_type": "stream",
     "text": [
      "[21:40:54] WARNING: /Users/travis/build/dmlc/xgboost/src/learner.cc:1061: Starting in XGBoost 1.3.0, the default evaluation metric used with the objective 'binary:logistic' was changed from 'error' to 'logloss'. Explicitly set eval_metric if you'd like to restore the old behavior.\n",
      "[21:40:54] WARNING: /Users/travis/build/dmlc/xgboost/src/learner.cc:1061: Starting in XGBoost 1.3.0, the default evaluation metric used with the objective 'binary:logistic' was changed from 'error' to 'logloss'. Explicitly set eval_metric if you'd like to restore the old behavior.\n",
      "[21:40:54] WARNING: /Users/travis/build/dmlc/xgboost/src/learner.cc:1061: Starting in XGBoost 1.3.0, the default evaluation metric used with the objective 'binary:logistic' was changed from 'error' to 'logloss'. Explicitly set eval_metric if you'd like to restore the old behavior.\n"
     ]
    },
    {
     "name": "stderr",
     "output_type": "stream",
     "text": [
      "\u001b[32m[I 2021-01-03 21:40:55,014]\u001b[0m Trial 36 finished with value: 0.8146754653796908 and parameters: {'min_child_weight': 3, 'gamma': 0.9, 'subsample': 0.9, 'colsample_bytree': 0.8, 'max_depth': 5}. Best is trial 26 with value: 0.8328375849502612.\u001b[0m\n",
      "/Users/t/.pyenv/versions/3.8.5/lib/python3.8/site-packages/xgboost/sklearn.py:888: UserWarning: The use of label encoder in XGBClassifier is deprecated and will be removed in a future release. To remove this warning, do the following: 1) Pass option use_label_encoder=False when constructing XGBClassifier object; and 2) Encode your labels (y) as integers starting with 0, i.e. 0, 1, 2, ..., [num_class - 1].\n",
      "  warnings.warn(label_encoder_deprecation_msg, UserWarning)\n"
     ]
    },
    {
     "name": "stdout",
     "output_type": "stream",
     "text": [
      "[21:40:55] WARNING: /Users/travis/build/dmlc/xgboost/src/learner.cc:1061: Starting in XGBoost 1.3.0, the default evaluation metric used with the objective 'binary:logistic' was changed from 'error' to 'logloss'. Explicitly set eval_metric if you'd like to restore the old behavior.\n",
      "[21:40:55] WARNING: /Users/travis/build/dmlc/xgboost/src/learner.cc:1061: Starting in XGBoost 1.3.0, the default evaluation metric used with the objective 'binary:logistic' was changed from 'error' to 'logloss'. Explicitly set eval_metric if you'd like to restore the old behavior.\n",
      "[21:40:55] WARNING: /Users/travis/build/dmlc/xgboost/src/learner.cc:1061: Starting in XGBoost 1.3.0, the default evaluation metric used with the objective 'binary:logistic' was changed from 'error' to 'logloss'. Explicitly set eval_metric if you'd like to restore the old behavior.\n",
      "[21:40:55] WARNING: /Users/travis/build/dmlc/xgboost/src/learner.cc:1061: Starting in XGBoost 1.3.0, the default evaluation metric used with the objective 'binary:logistic' was changed from 'error' to 'logloss'. Explicitly set eval_metric if you'd like to restore the old behavior.\n",
      "[21:40:55] WARNING: /Users/travis/build/dmlc/xgboost/src/learner.cc:1061: Starting in XGBoost 1.3.0, the default evaluation metric used with the objective 'binary:logistic' was changed from 'error' to 'logloss'. Explicitly set eval_metric if you'd like to restore the old behavior.\n"
     ]
    },
    {
     "name": "stderr",
     "output_type": "stream",
     "text": [
      "\u001b[32m[I 2021-01-03 21:40:55,554]\u001b[0m Trial 37 finished with value: 0.8258544272628778 and parameters: {'min_child_weight': 2, 'gamma': 0.7000000000000001, 'subsample': 1.0, 'colsample_bytree': 0.9, 'max_depth': 7}. Best is trial 26 with value: 0.8328375849502612.\u001b[0m\n",
      "/Users/t/.pyenv/versions/3.8.5/lib/python3.8/site-packages/xgboost/sklearn.py:888: UserWarning: The use of label encoder in XGBClassifier is deprecated and will be removed in a future release. To remove this warning, do the following: 1) Pass option use_label_encoder=False when constructing XGBClassifier object; and 2) Encode your labels (y) as integers starting with 0, i.e. 0, 1, 2, ..., [num_class - 1].\n",
      "  warnings.warn(label_encoder_deprecation_msg, UserWarning)\n"
     ]
    },
    {
     "name": "stdout",
     "output_type": "stream",
     "text": [
      "[21:40:55] WARNING: /Users/travis/build/dmlc/xgboost/src/learner.cc:1061: Starting in XGBoost 1.3.0, the default evaluation metric used with the objective 'binary:logistic' was changed from 'error' to 'logloss'. Explicitly set eval_metric if you'd like to restore the old behavior.\n",
      "[21:40:55] WARNING: /Users/travis/build/dmlc/xgboost/src/learner.cc:1061: Starting in XGBoost 1.3.0, the default evaluation metric used with the objective 'binary:logistic' was changed from 'error' to 'logloss'. Explicitly set eval_metric if you'd like to restore the old behavior.\n",
      "[21:40:55] WARNING: /Users/travis/build/dmlc/xgboost/src/learner.cc:1061: Starting in XGBoost 1.3.0, the default evaluation metric used with the objective 'binary:logistic' was changed from 'error' to 'logloss'. Explicitly set eval_metric if you'd like to restore the old behavior.\n",
      "[21:40:55] WARNING: /Users/travis/build/dmlc/xgboost/src/learner.cc:1061: Starting in XGBoost 1.3.0, the default evaluation metric used with the objective 'binary:logistic' was changed from 'error' to 'logloss'. Explicitly set eval_metric if you'd like to restore the old behavior.\n",
      "[21:40:55] WARNING: /Users/travis/build/dmlc/xgboost/src/learner.cc:1061: Starting in XGBoost 1.3.0, the default evaluation metric used with the objective 'binary:logistic' was changed from 'error' to 'logloss'. Explicitly set eval_metric if you'd like to restore the old behavior.\n"
     ]
    },
    {
     "name": "stderr",
     "output_type": "stream",
     "text": [
      "\u001b[32m[I 2021-01-03 21:40:56,081]\u001b[0m Trial 38 finished with value: 0.8342657342657344 and parameters: {'min_child_weight': 1, 'gamma': 0.6, 'subsample': 0.7, 'colsample_bytree': 1.0, 'max_depth': 6}. Best is trial 38 with value: 0.8342657342657344.\u001b[0m\n",
      "/Users/t/.pyenv/versions/3.8.5/lib/python3.8/site-packages/xgboost/sklearn.py:888: UserWarning: The use of label encoder in XGBClassifier is deprecated and will be removed in a future release. To remove this warning, do the following: 1) Pass option use_label_encoder=False when constructing XGBClassifier object; and 2) Encode your labels (y) as integers starting with 0, i.e. 0, 1, 2, ..., [num_class - 1].\n",
      "  warnings.warn(label_encoder_deprecation_msg, UserWarning)\n"
     ]
    },
    {
     "name": "stdout",
     "output_type": "stream",
     "text": [
      "[21:40:56] WARNING: /Users/travis/build/dmlc/xgboost/src/learner.cc:1061: Starting in XGBoost 1.3.0, the default evaluation metric used with the objective 'binary:logistic' was changed from 'error' to 'logloss'. Explicitly set eval_metric if you'd like to restore the old behavior.\n",
      "[21:40:56] WARNING: /Users/travis/build/dmlc/xgboost/src/learner.cc:1061: Starting in XGBoost 1.3.0, the default evaluation metric used with the objective 'binary:logistic' was changed from 'error' to 'logloss'. Explicitly set eval_metric if you'd like to restore the old behavior.\n",
      "[21:40:56] WARNING: /Users/travis/build/dmlc/xgboost/src/learner.cc:1061: Starting in XGBoost 1.3.0, the default evaluation metric used with the objective 'binary:logistic' was changed from 'error' to 'logloss'. Explicitly set eval_metric if you'd like to restore the old behavior.\n",
      "[21:40:56] WARNING: /Users/travis/build/dmlc/xgboost/src/learner.cc:1061: Starting in XGBoost 1.3.0, the default evaluation metric used with the objective 'binary:logistic' was changed from 'error' to 'logloss'. Explicitly set eval_metric if you'd like to restore the old behavior.\n"
     ]
    },
    {
     "name": "stderr",
     "output_type": "stream",
     "text": [
      "\u001b[32m[I 2021-01-03 21:40:56,693]\u001b[0m Trial 39 finished with value: 0.8188121737417513 and parameters: {'min_child_weight': 1, 'gamma': 0.6, 'subsample': 0.6, 'colsample_bytree': 1.0, 'max_depth': 9}. Best is trial 38 with value: 0.8342657342657344.\u001b[0m\n"
     ]
    },
    {
     "name": "stdout",
     "output_type": "stream",
     "text": [
      "[21:40:56] WARNING: /Users/travis/build/dmlc/xgboost/src/learner.cc:1061: Starting in XGBoost 1.3.0, the default evaluation metric used with the objective 'binary:logistic' was changed from 'error' to 'logloss'. Explicitly set eval_metric if you'd like to restore the old behavior.\n",
      "[21:40:56] WARNING: /Users/travis/build/dmlc/xgboost/src/learner.cc:1061: Starting in XGBoost 1.3.0, the default evaluation metric used with the objective 'binary:logistic' was changed from 'error' to 'logloss'. Explicitly set eval_metric if you'd like to restore the old behavior.\n",
      "[21:40:56] WARNING: /Users/travis/build/dmlc/xgboost/src/learner.cc:1061: Starting in XGBoost 1.3.0, the default evaluation metric used with the objective 'binary:logistic' was changed from 'error' to 'logloss'. Explicitly set eval_metric if you'd like to restore the old behavior.\n"
     ]
    },
    {
     "name": "stderr",
     "output_type": "stream",
     "text": [
      "/Users/t/.pyenv/versions/3.8.5/lib/python3.8/site-packages/xgboost/sklearn.py:888: UserWarning: The use of label encoder in XGBClassifier is deprecated and will be removed in a future release. To remove this warning, do the following: 1) Pass option use_label_encoder=False when constructing XGBClassifier object; and 2) Encode your labels (y) as integers starting with 0, i.e. 0, 1, 2, ..., [num_class - 1].\n",
      "  warnings.warn(label_encoder_deprecation_msg, UserWarning)\n"
     ]
    },
    {
     "name": "stdout",
     "output_type": "stream",
     "text": [
      "[21:40:56] WARNING: /Users/travis/build/dmlc/xgboost/src/learner.cc:1061: Starting in XGBoost 1.3.0, the default evaluation metric used with the objective 'binary:logistic' was changed from 'error' to 'logloss'. Explicitly set eval_metric if you'd like to restore the old behavior.\n",
      "[21:40:56] WARNING: /Users/travis/build/dmlc/xgboost/src/learner.cc:1061: Starting in XGBoost 1.3.0, the default evaluation metric used with the objective 'binary:logistic' was changed from 'error' to 'logloss'. Explicitly set eval_metric if you'd like to restore the old behavior.\n",
      "[21:40:57] WARNING: /Users/travis/build/dmlc/xgboost/src/learner.cc:1061: Starting in XGBoost 1.3.0, the default evaluation metric used with the objective 'binary:logistic' was changed from 'error' to 'logloss'. Explicitly set eval_metric if you'd like to restore the old behavior.\n"
     ]
    },
    {
     "name": "stderr",
     "output_type": "stream",
     "text": [
      "\u001b[32m[I 2021-01-03 21:40:57,096]\u001b[0m Trial 40 finished with value: 0.8019797104304146 and parameters: {'min_child_weight': 4, 'gamma': 0.5, 'subsample': 0.7, 'colsample_bytree': 1.0, 'max_depth': 4}. Best is trial 38 with value: 0.8342657342657344.\u001b[0m\n",
      "/Users/t/.pyenv/versions/3.8.5/lib/python3.8/site-packages/xgboost/sklearn.py:888: UserWarning: The use of label encoder in XGBClassifier is deprecated and will be removed in a future release. To remove this warning, do the following: 1) Pass option use_label_encoder=False when constructing XGBClassifier object; and 2) Encode your labels (y) as integers starting with 0, i.e. 0, 1, 2, ..., [num_class - 1].\n",
      "  warnings.warn(label_encoder_deprecation_msg, UserWarning)\n"
     ]
    },
    {
     "name": "stdout",
     "output_type": "stream",
     "text": [
      "[21:40:57] WARNING: /Users/travis/build/dmlc/xgboost/src/learner.cc:1061: Starting in XGBoost 1.3.0, the default evaluation metric used with the objective 'binary:logistic' was changed from 'error' to 'logloss'. Explicitly set eval_metric if you'd like to restore the old behavior.\n",
      "[21:40:57] WARNING: /Users/travis/build/dmlc/xgboost/src/learner.cc:1061: Starting in XGBoost 1.3.0, the default evaluation metric used with the objective 'binary:logistic' was changed from 'error' to 'logloss'. Explicitly set eval_metric if you'd like to restore the old behavior.\n",
      "[21:40:57] WARNING: /Users/travis/build/dmlc/xgboost/src/learner.cc:1061: Starting in XGBoost 1.3.0, the default evaluation metric used with the objective 'binary:logistic' was changed from 'error' to 'logloss'. Explicitly set eval_metric if you'd like to restore the old behavior.\n",
      "[21:40:57] WARNING: /Users/travis/build/dmlc/xgboost/src/learner.cc:1061: Starting in XGBoost 1.3.0, the default evaluation metric used with the objective 'binary:logistic' was changed from 'error' to 'logloss'. Explicitly set eval_metric if you'd like to restore the old behavior.\n",
      "[21:40:57] WARNING: /Users/travis/build/dmlc/xgboost/src/learner.cc:1061: Starting in XGBoost 1.3.0, the default evaluation metric used with the objective 'binary:logistic' was changed from 'error' to 'logloss'. Explicitly set eval_metric if you'd like to restore the old behavior.\n"
     ]
    },
    {
     "name": "stderr",
     "output_type": "stream",
     "text": [
      "\u001b[32m[I 2021-01-03 21:40:57,676]\u001b[0m Trial 41 finished with value: 0.825824879346006 and parameters: {'min_child_weight': 1, 'gamma': 0.6, 'subsample': 0.7, 'colsample_bytree': 0.9, 'max_depth': 6}. Best is trial 38 with value: 0.8342657342657344.\u001b[0m\n",
      "/Users/t/.pyenv/versions/3.8.5/lib/python3.8/site-packages/xgboost/sklearn.py:888: UserWarning: The use of label encoder in XGBClassifier is deprecated and will be removed in a future release. To remove this warning, do the following: 1) Pass option use_label_encoder=False when constructing XGBClassifier object; and 2) Encode your labels (y) as integers starting with 0, i.e. 0, 1, 2, ..., [num_class - 1].\n",
      "  warnings.warn(label_encoder_deprecation_msg, UserWarning)\n"
     ]
    },
    {
     "name": "stdout",
     "output_type": "stream",
     "text": [
      "[21:40:57] WARNING: /Users/travis/build/dmlc/xgboost/src/learner.cc:1061: Starting in XGBoost 1.3.0, the default evaluation metric used with the objective 'binary:logistic' was changed from 'error' to 'logloss'. Explicitly set eval_metric if you'd like to restore the old behavior.\n",
      "[21:40:57] WARNING: /Users/travis/build/dmlc/xgboost/src/learner.cc:1061: Starting in XGBoost 1.3.0, the default evaluation metric used with the objective 'binary:logistic' was changed from 'error' to 'logloss'. Explicitly set eval_metric if you'd like to restore the old behavior.\n",
      "[21:40:57] WARNING: /Users/travis/build/dmlc/xgboost/src/learner.cc:1061: Starting in XGBoost 1.3.0, the default evaluation metric used with the objective 'binary:logistic' was changed from 'error' to 'logloss'. Explicitly set eval_metric if you'd like to restore the old behavior.\n",
      "[21:40:57] WARNING: /Users/travis/build/dmlc/xgboost/src/learner.cc:1061: Starting in XGBoost 1.3.0, the default evaluation metric used with the objective 'binary:logistic' was changed from 'error' to 'logloss'. Explicitly set eval_metric if you'd like to restore the old behavior.\n",
      "[21:40:58] WARNING: /Users/travis/build/dmlc/xgboost/src/learner.cc:1061: Starting in XGBoost 1.3.0, the default evaluation metric used with the objective 'binary:logistic' was changed from 'error' to 'logloss'. Explicitly set eval_metric if you'd like to restore the old behavior.\n"
     ]
    },
    {
     "name": "stderr",
     "output_type": "stream",
     "text": [
      "\u001b[32m[I 2021-01-03 21:40:58,177]\u001b[0m Trial 42 finished with value: 0.8230276765488032 and parameters: {'min_child_weight': 2, 'gamma': 0.6, 'subsample': 0.7, 'colsample_bytree': 1.0, 'max_depth': 6}. Best is trial 38 with value: 0.8342657342657344.\u001b[0m\n",
      "/Users/t/.pyenv/versions/3.8.5/lib/python3.8/site-packages/xgboost/sklearn.py:888: UserWarning: The use of label encoder in XGBClassifier is deprecated and will be removed in a future release. To remove this warning, do the following: 1) Pass option use_label_encoder=False when constructing XGBClassifier object; and 2) Encode your labels (y) as integers starting with 0, i.e. 0, 1, 2, ..., [num_class - 1].\n",
      "  warnings.warn(label_encoder_deprecation_msg, UserWarning)\n"
     ]
    },
    {
     "name": "stdout",
     "output_type": "stream",
     "text": [
      "[21:40:58] WARNING: /Users/travis/build/dmlc/xgboost/src/learner.cc:1061: Starting in XGBoost 1.3.0, the default evaluation metric used with the objective 'binary:logistic' was changed from 'error' to 'logloss'. Explicitly set eval_metric if you'd like to restore the old behavior.\n",
      "[21:40:58] WARNING: /Users/travis/build/dmlc/xgboost/src/learner.cc:1061: Starting in XGBoost 1.3.0, the default evaluation metric used with the objective 'binary:logistic' was changed from 'error' to 'logloss'. Explicitly set eval_metric if you'd like to restore the old behavior.\n",
      "[21:40:58] WARNING: /Users/travis/build/dmlc/xgboost/src/learner.cc:1061: Starting in XGBoost 1.3.0, the default evaluation metric used with the objective 'binary:logistic' was changed from 'error' to 'logloss'. Explicitly set eval_metric if you'd like to restore the old behavior.\n",
      "[21:40:58] WARNING: /Users/travis/build/dmlc/xgboost/src/learner.cc:1061: Starting in XGBoost 1.3.0, the default evaluation metric used with the objective 'binary:logistic' was changed from 'error' to 'logloss'. Explicitly set eval_metric if you'd like to restore the old behavior.\n",
      "[21:40:58] WARNING: /Users/travis/build/dmlc/xgboost/src/learner.cc:1061: Starting in XGBoost 1.3.0, the default evaluation metric used with the objective 'binary:logistic' was changed from 'error' to 'logloss'. Explicitly set eval_metric if you'd like to restore the old behavior.\n"
     ]
    },
    {
     "name": "stderr",
     "output_type": "stream",
     "text": [
      "\u001b[32m[I 2021-01-03 21:40:58,718]\u001b[0m Trial 43 finished with value: 0.8244262779474048 and parameters: {'min_child_weight': 1, 'gamma': 0.5, 'subsample': 1.0, 'colsample_bytree': 0.8, 'max_depth': 7}. Best is trial 38 with value: 0.8342657342657344.\u001b[0m\n",
      "/Users/t/.pyenv/versions/3.8.5/lib/python3.8/site-packages/xgboost/sklearn.py:888: UserWarning: The use of label encoder in XGBClassifier is deprecated and will be removed in a future release. To remove this warning, do the following: 1) Pass option use_label_encoder=False when constructing XGBClassifier object; and 2) Encode your labels (y) as integers starting with 0, i.e. 0, 1, 2, ..., [num_class - 1].\n",
      "  warnings.warn(label_encoder_deprecation_msg, UserWarning)\n"
     ]
    },
    {
     "name": "stdout",
     "output_type": "stream",
     "text": [
      "[21:40:58] WARNING: /Users/travis/build/dmlc/xgboost/src/learner.cc:1061: Starting in XGBoost 1.3.0, the default evaluation metric used with the objective 'binary:logistic' was changed from 'error' to 'logloss'. Explicitly set eval_metric if you'd like to restore the old behavior.\n",
      "[21:40:58] WARNING: /Users/travis/build/dmlc/xgboost/src/learner.cc:1061: Starting in XGBoost 1.3.0, the default evaluation metric used with the objective 'binary:logistic' was changed from 'error' to 'logloss'. Explicitly set eval_metric if you'd like to restore the old behavior.\n",
      "[21:40:58] WARNING: /Users/travis/build/dmlc/xgboost/src/learner.cc:1061: Starting in XGBoost 1.3.0, the default evaluation metric used with the objective 'binary:logistic' was changed from 'error' to 'logloss'. Explicitly set eval_metric if you'd like to restore the old behavior.\n"
     ]
    },
    {
     "name": "stderr",
     "output_type": "stream",
     "text": [
      "\u001b[32m[I 2021-01-03 21:40:59,117]\u001b[0m Trial 44 finished with value: 0.8370530877573131 and parameters: {'min_child_weight': 2, 'gamma': 0.7000000000000001, 'subsample': 0.8, 'colsample_bytree': 0.8, 'max_depth': 5}. Best is trial 44 with value: 0.8370530877573131.\u001b[0m\n"
     ]
    },
    {
     "name": "stdout",
     "output_type": "stream",
     "text": [
      "[21:40:58] WARNING: /Users/travis/build/dmlc/xgboost/src/learner.cc:1061: Starting in XGBoost 1.3.0, the default evaluation metric used with the objective 'binary:logistic' was changed from 'error' to 'logloss'. Explicitly set eval_metric if you'd like to restore the old behavior.\n",
      "[21:40:59] WARNING: /Users/travis/build/dmlc/xgboost/src/learner.cc:1061: Starting in XGBoost 1.3.0, the default evaluation metric used with the objective 'binary:logistic' was changed from 'error' to 'logloss'. Explicitly set eval_metric if you'd like to restore the old behavior.\n",
      "[21:40:59] WARNING: /Users/travis/build/dmlc/xgboost/src/learner.cc:1061: Starting in XGBoost 1.3.0, the default evaluation metric used with the objective 'binary:logistic' was changed from 'error' to 'logloss'. Explicitly set eval_metric if you'd like to restore the old behavior.\n"
     ]
    },
    {
     "name": "stderr",
     "output_type": "stream",
     "text": [
      "/Users/t/.pyenv/versions/3.8.5/lib/python3.8/site-packages/xgboost/sklearn.py:888: UserWarning: The use of label encoder in XGBClassifier is deprecated and will be removed in a future release. To remove this warning, do the following: 1) Pass option use_label_encoder=False when constructing XGBClassifier object; and 2) Encode your labels (y) as integers starting with 0, i.e. 0, 1, 2, ..., [num_class - 1].\n",
      "  warnings.warn(label_encoder_deprecation_msg, UserWarning)\n"
     ]
    },
    {
     "name": "stdout",
     "output_type": "stream",
     "text": [
      "[21:40:59] WARNING: /Users/travis/build/dmlc/xgboost/src/learner.cc:1061: Starting in XGBoost 1.3.0, the default evaluation metric used with the objective 'binary:logistic' was changed from 'error' to 'logloss'. Explicitly set eval_metric if you'd like to restore the old behavior.\n",
      "[21:40:59] WARNING: /Users/travis/build/dmlc/xgboost/src/learner.cc:1061: Starting in XGBoost 1.3.0, the default evaluation metric used with the objective 'binary:logistic' was changed from 'error' to 'logloss'. Explicitly set eval_metric if you'd like to restore the old behavior.\n",
      "[21:40:59] WARNING: /Users/travis/build/dmlc/xgboost/src/learner.cc:1061: Starting in XGBoost 1.3.0, the default evaluation metric used with the objective 'binary:logistic' was changed from 'error' to 'logloss'. Explicitly set eval_metric if you'd like to restore the old behavior.\n",
      "[21:40:59] WARNING: /Users/travis/build/dmlc/xgboost/src/learner.cc:1061: Starting in XGBoost 1.3.0, the default evaluation metric used with the objective 'binary:logistic' was changed from 'error' to 'logloss'. Explicitly set eval_metric if you'd like to restore the old behavior.\n"
     ]
    },
    {
     "name": "stderr",
     "output_type": "stream",
     "text": [
      "\u001b[32m[I 2021-01-03 21:40:59,473]\u001b[0m Trial 45 finished with value: 0.837082635674185 and parameters: {'min_child_weight': 1, 'gamma': 0.9, 'subsample': 0.8, 'colsample_bytree': 0.9, 'max_depth': 3}. Best is trial 45 with value: 0.837082635674185.\u001b[0m\n",
      "/Users/t/.pyenv/versions/3.8.5/lib/python3.8/site-packages/xgboost/sklearn.py:888: UserWarning: The use of label encoder in XGBClassifier is deprecated and will be removed in a future release. To remove this warning, do the following: 1) Pass option use_label_encoder=False when constructing XGBClassifier object; and 2) Encode your labels (y) as integers starting with 0, i.e. 0, 1, 2, ..., [num_class - 1].\n",
      "  warnings.warn(label_encoder_deprecation_msg, UserWarning)\n"
     ]
    },
    {
     "name": "stdout",
     "output_type": "stream",
     "text": [
      "[21:40:59] WARNING: /Users/travis/build/dmlc/xgboost/src/learner.cc:1061: Starting in XGBoost 1.3.0, the default evaluation metric used with the objective 'binary:logistic' was changed from 'error' to 'logloss'. Explicitly set eval_metric if you'd like to restore the old behavior.\n",
      "[21:40:59] WARNING: /Users/travis/build/dmlc/xgboost/src/learner.cc:1061: Starting in XGBoost 1.3.0, the default evaluation metric used with the objective 'binary:logistic' was changed from 'error' to 'logloss'. Explicitly set eval_metric if you'd like to restore the old behavior.\n",
      "[21:40:59] WARNING: /Users/travis/build/dmlc/xgboost/src/learner.cc:1061: Starting in XGBoost 1.3.0, the default evaluation metric used with the objective 'binary:logistic' was changed from 'error' to 'logloss'. Explicitly set eval_metric if you'd like to restore the old behavior.\n",
      "[21:40:59] WARNING: /Users/travis/build/dmlc/xgboost/src/learner.cc:1061: Starting in XGBoost 1.3.0, the default evaluation metric used with the objective 'binary:logistic' was changed from 'error' to 'logloss'. Explicitly set eval_metric if you'd like to restore the old behavior.\n"
     ]
    },
    {
     "name": "stderr",
     "output_type": "stream",
     "text": [
      "\u001b[32m[I 2021-01-03 21:40:59,820]\u001b[0m Trial 46 finished with value: 0.8384812370727863 and parameters: {'min_child_weight': 1, 'gamma': 1.0, 'subsample': 0.8, 'colsample_bytree': 0.7, 'max_depth': 3}. Best is trial 46 with value: 0.8384812370727863.\u001b[0m\n"
     ]
    },
    {
     "name": "stdout",
     "output_type": "stream",
     "text": [
      "[21:40:59] WARNING: /Users/travis/build/dmlc/xgboost/src/learner.cc:1061: Starting in XGBoost 1.3.0, the default evaluation metric used with the objective 'binary:logistic' was changed from 'error' to 'logloss'. Explicitly set eval_metric if you'd like to restore the old behavior.\n",
      "[21:40:59] WARNING: /Users/travis/build/dmlc/xgboost/src/learner.cc:1061: Starting in XGBoost 1.3.0, the default evaluation metric used with the objective 'binary:logistic' was changed from 'error' to 'logloss'. Explicitly set eval_metric if you'd like to restore the old behavior.\n",
      "[21:40:59] WARNING: /Users/travis/build/dmlc/xgboost/src/learner.cc:1061: Starting in XGBoost 1.3.0, the default evaluation metric used with the objective 'binary:logistic' was changed from 'error' to 'logloss'. Explicitly set eval_metric if you'd like to restore the old behavior.\n",
      "[21:40:59] WARNING: /Users/travis/build/dmlc/xgboost/src/learner.cc:1061: Starting in XGBoost 1.3.0, the default evaluation metric used with the objective 'binary:logistic' was changed from 'error' to 'logloss'. Explicitly set eval_metric if you'd like to restore the old behavior.\n"
     ]
    },
    {
     "name": "stderr",
     "output_type": "stream",
     "text": [
      "/Users/t/.pyenv/versions/3.8.5/lib/python3.8/site-packages/xgboost/sklearn.py:888: UserWarning: The use of label encoder in XGBClassifier is deprecated and will be removed in a future release. To remove this warning, do the following: 1) Pass option use_label_encoder=False when constructing XGBClassifier object; and 2) Encode your labels (y) as integers starting with 0, i.e. 0, 1, 2, ..., [num_class - 1].\n",
      "  warnings.warn(label_encoder_deprecation_msg, UserWarning)\n",
      "\u001b[32m[I 2021-01-03 21:41:00,126]\u001b[0m Trial 47 finished with value: 0.8357234314980794 and parameters: {'min_child_weight': 1, 'gamma': 1.0, 'subsample': 0.8, 'colsample_bytree': 0.6, 'max_depth': 3}. Best is trial 46 with value: 0.8384812370727863.\u001b[0m\n"
     ]
    },
    {
     "name": "stdout",
     "output_type": "stream",
     "text": [
      "[21:41:00] WARNING: /Users/travis/build/dmlc/xgboost/src/learner.cc:1061: Starting in XGBoost 1.3.0, the default evaluation metric used with the objective 'binary:logistic' was changed from 'error' to 'logloss'. Explicitly set eval_metric if you'd like to restore the old behavior.\n",
      "[21:41:00] WARNING: /Users/travis/build/dmlc/xgboost/src/learner.cc:1061: Starting in XGBoost 1.3.0, the default evaluation metric used with the objective 'binary:logistic' was changed from 'error' to 'logloss'. Explicitly set eval_metric if you'd like to restore the old behavior.\n",
      "[21:41:00] WARNING: /Users/travis/build/dmlc/xgboost/src/learner.cc:1061: Starting in XGBoost 1.3.0, the default evaluation metric used with the objective 'binary:logistic' was changed from 'error' to 'logloss'. Explicitly set eval_metric if you'd like to restore the old behavior.\n",
      "[21:41:00] WARNING: /Users/travis/build/dmlc/xgboost/src/learner.cc:1061: Starting in XGBoost 1.3.0, the default evaluation metric used with the objective 'binary:logistic' was changed from 'error' to 'logloss'. Explicitly set eval_metric if you'd like to restore the old behavior.\n"
     ]
    },
    {
     "name": "stderr",
     "output_type": "stream",
     "text": [
      "/Users/t/.pyenv/versions/3.8.5/lib/python3.8/site-packages/xgboost/sklearn.py:888: UserWarning: The use of label encoder in XGBClassifier is deprecated and will be removed in a future release. To remove this warning, do the following: 1) Pass option use_label_encoder=False when constructing XGBClassifier object; and 2) Encode your labels (y) as integers starting with 0, i.e. 0, 1, 2, ..., [num_class - 1].\n",
      "  warnings.warn(label_encoder_deprecation_msg, UserWarning)\n",
      "\u001b[32m[I 2021-01-03 21:41:00,439]\u001b[0m Trial 48 finished with value: 0.8356643356643356 and parameters: {'min_child_weight': 1, 'gamma': 1.0, 'subsample': 0.7, 'colsample_bytree': 0.6, 'max_depth': 3}. Best is trial 46 with value: 0.8384812370727863.\u001b[0m\n"
     ]
    },
    {
     "name": "stdout",
     "output_type": "stream",
     "text": [
      "[21:41:00] WARNING: /Users/travis/build/dmlc/xgboost/src/learner.cc:1061: Starting in XGBoost 1.3.0, the default evaluation metric used with the objective 'binary:logistic' was changed from 'error' to 'logloss'. Explicitly set eval_metric if you'd like to restore the old behavior.\n",
      "[21:41:00] WARNING: /Users/travis/build/dmlc/xgboost/src/learner.cc:1061: Starting in XGBoost 1.3.0, the default evaluation metric used with the objective 'binary:logistic' was changed from 'error' to 'logloss'. Explicitly set eval_metric if you'd like to restore the old behavior.\n",
      "[21:41:00] WARNING: /Users/travis/build/dmlc/xgboost/src/learner.cc:1061: Starting in XGBoost 1.3.0, the default evaluation metric used with the objective 'binary:logistic' was changed from 'error' to 'logloss'. Explicitly set eval_metric if you'd like to restore the old behavior.\n",
      "[21:41:00] WARNING: /Users/travis/build/dmlc/xgboost/src/learner.cc:1061: Starting in XGBoost 1.3.0, the default evaluation metric used with the objective 'binary:logistic' was changed from 'error' to 'logloss'. Explicitly set eval_metric if you'd like to restore the old behavior.\n"
     ]
    },
    {
     "name": "stderr",
     "output_type": "stream",
     "text": [
      "/Users/t/.pyenv/versions/3.8.5/lib/python3.8/site-packages/xgboost/sklearn.py:888: UserWarning: The use of label encoder in XGBClassifier is deprecated and will be removed in a future release. To remove this warning, do the following: 1) Pass option use_label_encoder=False when constructing XGBClassifier object; and 2) Encode your labels (y) as integers starting with 0, i.e. 0, 1, 2, ..., [num_class - 1].\n",
      "  warnings.warn(label_encoder_deprecation_msg, UserWarning)\n"
     ]
    },
    {
     "name": "stdout",
     "output_type": "stream",
     "text": [
      "[21:41:00] WARNING: /Users/travis/build/dmlc/xgboost/src/learner.cc:1061: Starting in XGBoost 1.3.0, the default evaluation metric used with the objective 'binary:logistic' was changed from 'error' to 'logloss'. Explicitly set eval_metric if you'd like to restore the old behavior.\n",
      "[21:41:00] WARNING: /Users/travis/build/dmlc/xgboost/src/learner.cc:1061: Starting in XGBoost 1.3.0, the default evaluation metric used with the objective 'binary:logistic' was changed from 'error' to 'logloss'. Explicitly set eval_metric if you'd like to restore the old behavior.\n",
      "[21:41:00] WARNING: /Users/travis/build/dmlc/xgboost/src/learner.cc:1061: Starting in XGBoost 1.3.0, the default evaluation metric used with the objective 'binary:logistic' was changed from 'error' to 'logloss'. Explicitly set eval_metric if you'd like to restore the old behavior.\n",
      "[21:41:00] WARNING: /Users/travis/build/dmlc/xgboost/src/learner.cc:1061: Starting in XGBoost 1.3.0, the default evaluation metric used with the objective 'binary:logistic' was changed from 'error' to 'logloss'. Explicitly set eval_metric if you'd like to restore the old behavior.\n"
     ]
    },
    {
     "name": "stderr",
     "output_type": "stream",
     "text": [
      "\u001b[32m[I 2021-01-03 21:41:00,746]\u001b[0m Trial 49 finished with value: 0.8357234314980794 and parameters: {'min_child_weight': 1, 'gamma': 1.0, 'subsample': 0.8, 'colsample_bytree': 0.6, 'max_depth': 3}. Best is trial 46 with value: 0.8384812370727863.\u001b[0m\n",
      "/Users/t/.pyenv/versions/3.8.5/lib/python3.8/site-packages/xgboost/sklearn.py:888: UserWarning: The use of label encoder in XGBClassifier is deprecated and will be removed in a future release. To remove this warning, do the following: 1) Pass option use_label_encoder=False when constructing XGBClassifier object; and 2) Encode your labels (y) as integers starting with 0, i.e. 0, 1, 2, ..., [num_class - 1].\n",
      "  warnings.warn(label_encoder_deprecation_msg, UserWarning)\n"
     ]
    },
    {
     "name": "stdout",
     "output_type": "stream",
     "text": [
      "[21:41:00] WARNING: /Users/travis/build/dmlc/xgboost/src/learner.cc:1061: Starting in XGBoost 1.3.0, the default evaluation metric used with the objective 'binary:logistic' was changed from 'error' to 'logloss'. Explicitly set eval_metric if you'd like to restore the old behavior.\n",
      "[21:41:00] WARNING: /Users/travis/build/dmlc/xgboost/src/learner.cc:1061: Starting in XGBoost 1.3.0, the default evaluation metric used with the objective 'binary:logistic' was changed from 'error' to 'logloss'. Explicitly set eval_metric if you'd like to restore the old behavior.\n",
      "[21:41:00] WARNING: /Users/travis/build/dmlc/xgboost/src/learner.cc:1061: Starting in XGBoost 1.3.0, the default evaluation metric used with the objective 'binary:logistic' was changed from 'error' to 'logloss'. Explicitly set eval_metric if you'd like to restore the old behavior.\n",
      "[21:41:00] WARNING: /Users/travis/build/dmlc/xgboost/src/learner.cc:1061: Starting in XGBoost 1.3.0, the default evaluation metric used with the objective 'binary:logistic' was changed from 'error' to 'logloss'. Explicitly set eval_metric if you'd like to restore the old behavior.\n"
     ]
    },
    {
     "name": "stderr",
     "output_type": "stream",
     "text": [
      "\u001b[32m[I 2021-01-03 21:41:01,053]\u001b[0m Trial 50 finished with value: 0.8427065891854625 and parameters: {'min_child_weight': 1, 'gamma': 0.9, 'subsample': 0.8, 'colsample_bytree': 0.5, 'max_depth': 3}. Best is trial 50 with value: 0.8427065891854625.\u001b[0m\n"
     ]
    },
    {
     "name": "stdout",
     "output_type": "stream",
     "text": [
      "[21:41:01] WARNING: /Users/travis/build/dmlc/xgboost/src/learner.cc:1061: Starting in XGBoost 1.3.0, the default evaluation metric used with the objective 'binary:logistic' was changed from 'error' to 'logloss'. Explicitly set eval_metric if you'd like to restore the old behavior.\n",
      "[21:41:01] WARNING: /Users/travis/build/dmlc/xgboost/src/learner.cc:1061: Starting in XGBoost 1.3.0, the default evaluation metric used with the objective 'binary:logistic' was changed from 'error' to 'logloss'. Explicitly set eval_metric if you'd like to restore the old behavior.\n",
      "[21:41:01] WARNING: /Users/travis/build/dmlc/xgboost/src/learner.cc:1061: Starting in XGBoost 1.3.0, the default evaluation metric used with the objective 'binary:logistic' was changed from 'error' to 'logloss'. Explicitly set eval_metric if you'd like to restore the old behavior.\n",
      "[21:41:01] WARNING: /Users/travis/build/dmlc/xgboost/src/learner.cc:1061: Starting in XGBoost 1.3.0, the default evaluation metric used with the objective 'binary:logistic' was changed from 'error' to 'logloss'. Explicitly set eval_metric if you'd like to restore the old behavior.\n"
     ]
    },
    {
     "name": "stderr",
     "output_type": "stream",
     "text": [
      "/Users/t/.pyenv/versions/3.8.5/lib/python3.8/site-packages/xgboost/sklearn.py:888: UserWarning: The use of label encoder in XGBClassifier is deprecated and will be removed in a future release. To remove this warning, do the following: 1) Pass option use_label_encoder=False when constructing XGBClassifier object; and 2) Encode your labels (y) as integers starting with 0, i.e. 0, 1, 2, ..., [num_class - 1].\n",
      "  warnings.warn(label_encoder_deprecation_msg, UserWarning)\n",
      "\u001b[32m[I 2021-01-03 21:41:01,356]\u001b[0m Trial 51 finished with value: 0.8427065891854625 and parameters: {'min_child_weight': 1, 'gamma': 0.9, 'subsample': 0.8, 'colsample_bytree': 0.5, 'max_depth': 3}. Best is trial 50 with value: 0.8427065891854625.\u001b[0m\n"
     ]
    },
    {
     "name": "stdout",
     "output_type": "stream",
     "text": [
      "[21:41:01] WARNING: /Users/travis/build/dmlc/xgboost/src/learner.cc:1061: Starting in XGBoost 1.3.0, the default evaluation metric used with the objective 'binary:logistic' was changed from 'error' to 'logloss'. Explicitly set eval_metric if you'd like to restore the old behavior.\n",
      "[21:41:01] WARNING: /Users/travis/build/dmlc/xgboost/src/learner.cc:1061: Starting in XGBoost 1.3.0, the default evaluation metric used with the objective 'binary:logistic' was changed from 'error' to 'logloss'. Explicitly set eval_metric if you'd like to restore the old behavior.\n",
      "[21:41:01] WARNING: /Users/travis/build/dmlc/xgboost/src/learner.cc:1061: Starting in XGBoost 1.3.0, the default evaluation metric used with the objective 'binary:logistic' was changed from 'error' to 'logloss'. Explicitly set eval_metric if you'd like to restore the old behavior.\n",
      "[21:41:01] WARNING: /Users/travis/build/dmlc/xgboost/src/learner.cc:1061: Starting in XGBoost 1.3.0, the default evaluation metric used with the objective 'binary:logistic' was changed from 'error' to 'logloss'. Explicitly set eval_metric if you'd like to restore the old behavior.\n"
     ]
    },
    {
     "name": "stderr",
     "output_type": "stream",
     "text": [
      "/Users/t/.pyenv/versions/3.8.5/lib/python3.8/site-packages/xgboost/sklearn.py:888: UserWarning: The use of label encoder in XGBClassifier is deprecated and will be removed in a future release. To remove this warning, do the following: 1) Pass option use_label_encoder=False when constructing XGBClassifier object; and 2) Encode your labels (y) as integers starting with 0, i.e. 0, 1, 2, ..., [num_class - 1].\n",
      "  warnings.warn(label_encoder_deprecation_msg, UserWarning)\n",
      "\u001b[32m[I 2021-01-03 21:41:01,651]\u001b[0m Trial 52 finished with value: 0.8427065891854625 and parameters: {'min_child_weight': 1, 'gamma': 0.9, 'subsample': 0.8, 'colsample_bytree': 0.5, 'max_depth': 3}. Best is trial 50 with value: 0.8427065891854625.\u001b[0m\n"
     ]
    },
    {
     "name": "stdout",
     "output_type": "stream",
     "text": [
      "[21:41:01] WARNING: /Users/travis/build/dmlc/xgboost/src/learner.cc:1061: Starting in XGBoost 1.3.0, the default evaluation metric used with the objective 'binary:logistic' was changed from 'error' to 'logloss'. Explicitly set eval_metric if you'd like to restore the old behavior.\n",
      "[21:41:01] WARNING: /Users/travis/build/dmlc/xgboost/src/learner.cc:1061: Starting in XGBoost 1.3.0, the default evaluation metric used with the objective 'binary:logistic' was changed from 'error' to 'logloss'. Explicitly set eval_metric if you'd like to restore the old behavior.\n",
      "[21:41:01] WARNING: /Users/travis/build/dmlc/xgboost/src/learner.cc:1061: Starting in XGBoost 1.3.0, the default evaluation metric used with the objective 'binary:logistic' was changed from 'error' to 'logloss'. Explicitly set eval_metric if you'd like to restore the old behavior.\n",
      "[21:41:01] WARNING: /Users/travis/build/dmlc/xgboost/src/learner.cc:1061: Starting in XGBoost 1.3.0, the default evaluation metric used with the objective 'binary:logistic' was changed from 'error' to 'logloss'. Explicitly set eval_metric if you'd like to restore the old behavior.\n"
     ]
    },
    {
     "name": "stderr",
     "output_type": "stream",
     "text": [
      "/Users/t/.pyenv/versions/3.8.5/lib/python3.8/site-packages/xgboost/sklearn.py:888: UserWarning: The use of label encoder in XGBClassifier is deprecated and will be removed in a future release. To remove this warning, do the following: 1) Pass option use_label_encoder=False when constructing XGBClassifier object; and 2) Encode your labels (y) as integers starting with 0, i.e. 0, 1, 2, ..., [num_class - 1].\n",
      "  warnings.warn(label_encoder_deprecation_msg, UserWarning)\n"
     ]
    },
    {
     "name": "stdout",
     "output_type": "stream",
     "text": [
      "[21:41:01] WARNING: /Users/travis/build/dmlc/xgboost/src/learner.cc:1061: Starting in XGBoost 1.3.0, the default evaluation metric used with the objective 'binary:logistic' was changed from 'error' to 'logloss'. Explicitly set eval_metric if you'd like to restore the old behavior.\n",
      "[21:41:01] WARNING: /Users/travis/build/dmlc/xgboost/src/learner.cc:1061: Starting in XGBoost 1.3.0, the default evaluation metric used with the objective 'binary:logistic' was changed from 'error' to 'logloss'. Explicitly set eval_metric if you'd like to restore the old behavior.\n",
      "[21:41:01] WARNING: /Users/travis/build/dmlc/xgboost/src/learner.cc:1061: Starting in XGBoost 1.3.0, the default evaluation metric used with the objective 'binary:logistic' was changed from 'error' to 'logloss'. Explicitly set eval_metric if you'd like to restore the old behavior.\n"
     ]
    },
    {
     "name": "stderr",
     "output_type": "stream",
     "text": [
      "\u001b[32m[I 2021-01-03 21:41:02,023]\u001b[0m Trial 53 finished with value: 0.8370727863685611 and parameters: {'min_child_weight': 1, 'gamma': 0.9, 'subsample': 0.8, 'colsample_bytree': 0.5, 'max_depth': 4}. Best is trial 50 with value: 0.8427065891854625.\u001b[0m\n"
     ]
    },
    {
     "name": "stdout",
     "output_type": "stream",
     "text": [
      "[21:41:01] WARNING: /Users/travis/build/dmlc/xgboost/src/learner.cc:1061: Starting in XGBoost 1.3.0, the default evaluation metric used with the objective 'binary:logistic' was changed from 'error' to 'logloss'. Explicitly set eval_metric if you'd like to restore the old behavior.\n",
      "[21:41:02] WARNING: /Users/travis/build/dmlc/xgboost/src/learner.cc:1061: Starting in XGBoost 1.3.0, the default evaluation metric used with the objective 'binary:logistic' was changed from 'error' to 'logloss'. Explicitly set eval_metric if you'd like to restore the old behavior.\n",
      "[21:41:02] WARNING: /Users/travis/build/dmlc/xgboost/src/learner.cc:1061: Starting in XGBoost 1.3.0, the default evaluation metric used with the objective 'binary:logistic' was changed from 'error' to 'logloss'. Explicitly set eval_metric if you'd like to restore the old behavior.\n",
      "[21:41:02] WARNING: /Users/travis/build/dmlc/xgboost/src/learner.cc:1061: Starting in XGBoost 1.3.0, the default evaluation metric used with the objective 'binary:logistic' was changed from 'error' to 'logloss'. Explicitly set eval_metric if you'd like to restore the old behavior.\n"
     ]
    },
    {
     "name": "stderr",
     "output_type": "stream",
     "text": [
      "/Users/t/.pyenv/versions/3.8.5/lib/python3.8/site-packages/xgboost/sklearn.py:888: UserWarning: The use of label encoder in XGBClassifier is deprecated and will be removed in a future release. To remove this warning, do the following: 1) Pass option use_label_encoder=False when constructing XGBClassifier object; and 2) Encode your labels (y) as integers starting with 0, i.e. 0, 1, 2, ..., [num_class - 1].\n",
      "  warnings.warn(label_encoder_deprecation_msg, UserWarning)\n",
      "\u001b[32m[I 2021-01-03 21:41:02,308]\u001b[0m Trial 54 finished with value: 0.8427065891854625 and parameters: {'min_child_weight': 1, 'gamma': 0.9, 'subsample': 0.8, 'colsample_bytree': 0.5, 'max_depth': 3}. Best is trial 50 with value: 0.8427065891854625.\u001b[0m\n"
     ]
    },
    {
     "name": "stdout",
     "output_type": "stream",
     "text": [
      "[21:41:02] WARNING: /Users/travis/build/dmlc/xgboost/src/learner.cc:1061: Starting in XGBoost 1.3.0, the default evaluation metric used with the objective 'binary:logistic' was changed from 'error' to 'logloss'. Explicitly set eval_metric if you'd like to restore the old behavior.\n",
      "[21:41:02] WARNING: /Users/travis/build/dmlc/xgboost/src/learner.cc:1061: Starting in XGBoost 1.3.0, the default evaluation metric used with the objective 'binary:logistic' was changed from 'error' to 'logloss'. Explicitly set eval_metric if you'd like to restore the old behavior.\n",
      "[21:41:02] WARNING: /Users/travis/build/dmlc/xgboost/src/learner.cc:1061: Starting in XGBoost 1.3.0, the default evaluation metric used with the objective 'binary:logistic' was changed from 'error' to 'logloss'. Explicitly set eval_metric if you'd like to restore the old behavior.\n"
     ]
    },
    {
     "name": "stderr",
     "output_type": "stream",
     "text": [
      "/Users/t/.pyenv/versions/3.8.5/lib/python3.8/site-packages/xgboost/sklearn.py:888: UserWarning: The use of label encoder in XGBClassifier is deprecated and will be removed in a future release. To remove this warning, do the following: 1) Pass option use_label_encoder=False when constructing XGBClassifier object; and 2) Encode your labels (y) as integers starting with 0, i.e. 0, 1, 2, ..., [num_class - 1].\n",
      "  warnings.warn(label_encoder_deprecation_msg, UserWarning)\n",
      "\u001b[32m[I 2021-01-03 21:41:02,620]\u001b[0m Trial 55 finished with value: 0.8427065891854625 and parameters: {'min_child_weight': 1, 'gamma': 0.9, 'subsample': 0.8, 'colsample_bytree': 0.5, 'max_depth': 3}. Best is trial 50 with value: 0.8427065891854625.\u001b[0m\n"
     ]
    },
    {
     "name": "stdout",
     "output_type": "stream",
     "text": [
      "[21:41:02] WARNING: /Users/travis/build/dmlc/xgboost/src/learner.cc:1061: Starting in XGBoost 1.3.0, the default evaluation metric used with the objective 'binary:logistic' was changed from 'error' to 'logloss'. Explicitly set eval_metric if you'd like to restore the old behavior.\n",
      "[21:41:02] WARNING: /Users/travis/build/dmlc/xgboost/src/learner.cc:1061: Starting in XGBoost 1.3.0, the default evaluation metric used with the objective 'binary:logistic' was changed from 'error' to 'logloss'. Explicitly set eval_metric if you'd like to restore the old behavior.\n",
      "[21:41:02] WARNING: /Users/travis/build/dmlc/xgboost/src/learner.cc:1061: Starting in XGBoost 1.3.0, the default evaluation metric used with the objective 'binary:logistic' was changed from 'error' to 'logloss'. Explicitly set eval_metric if you'd like to restore the old behavior.\n",
      "[21:41:02] WARNING: /Users/travis/build/dmlc/xgboost/src/learner.cc:1061: Starting in XGBoost 1.3.0, the default evaluation metric used with the objective 'binary:logistic' was changed from 'error' to 'logloss'. Explicitly set eval_metric if you'd like to restore the old behavior.\n"
     ]
    },
    {
     "name": "stderr",
     "output_type": "stream",
     "text": [
      "/Users/t/.pyenv/versions/3.8.5/lib/python3.8/site-packages/xgboost/sklearn.py:888: UserWarning: The use of label encoder in XGBClassifier is deprecated and will be removed in a future release. To remove this warning, do the following: 1) Pass option use_label_encoder=False when constructing XGBClassifier object; and 2) Encode your labels (y) as integers starting with 0, i.e. 0, 1, 2, ..., [num_class - 1].\n",
      "  warnings.warn(label_encoder_deprecation_msg, UserWarning)\n"
     ]
    },
    {
     "name": "stdout",
     "output_type": "stream",
     "text": [
      "[21:41:02] WARNING: /Users/travis/build/dmlc/xgboost/src/learner.cc:1061: Starting in XGBoost 1.3.0, the default evaluation metric used with the objective 'binary:logistic' was changed from 'error' to 'logloss'. Explicitly set eval_metric if you'd like to restore the old behavior.\n",
      "[21:41:02] WARNING: /Users/travis/build/dmlc/xgboost/src/learner.cc:1061: Starting in XGBoost 1.3.0, the default evaluation metric used with the objective 'binary:logistic' was changed from 'error' to 'logloss'. Explicitly set eval_metric if you'd like to restore the old behavior.\n",
      "[21:41:02] WARNING: /Users/travis/build/dmlc/xgboost/src/learner.cc:1061: Starting in XGBoost 1.3.0, the default evaluation metric used with the objective 'binary:logistic' was changed from 'error' to 'logloss'. Explicitly set eval_metric if you'd like to restore the old behavior.\n",
      "[21:41:02] WARNING: /Users/travis/build/dmlc/xgboost/src/learner.cc:1061: Starting in XGBoost 1.3.0, the default evaluation metric used with the objective 'binary:logistic' was changed from 'error' to 'logloss'. Explicitly set eval_metric if you'd like to restore the old behavior.\n"
     ]
    },
    {
     "name": "stderr",
     "output_type": "stream",
     "text": [
      "\u001b[32m[I 2021-01-03 21:41:02,939]\u001b[0m Trial 56 finished with value: 0.8427065891854625 and parameters: {'min_child_weight': 1, 'gamma': 0.9, 'subsample': 0.8, 'colsample_bytree': 0.5, 'max_depth': 3}. Best is trial 50 with value: 0.8427065891854625.\u001b[0m\n"
     ]
    },
    {
     "name": "stdout",
     "output_type": "stream",
     "text": [
      "[21:41:02] WARNING: /Users/travis/build/dmlc/xgboost/src/learner.cc:1061: Starting in XGBoost 1.3.0, the default evaluation metric used with the objective 'binary:logistic' was changed from 'error' to 'logloss'. Explicitly set eval_metric if you'd like to restore the old behavior.\n",
      "[21:41:02] WARNING: /Users/travis/build/dmlc/xgboost/src/learner.cc:1061: Starting in XGBoost 1.3.0, the default evaluation metric used with the objective 'binary:logistic' was changed from 'error' to 'logloss'. Explicitly set eval_metric if you'd like to restore the old behavior.\n",
      "[21:41:03] WARNING: /Users/travis/build/dmlc/xgboost/src/learner.cc:1061: Starting in XGBoost 1.3.0, the default evaluation metric used with the objective 'binary:logistic' was changed from 'error' to 'logloss'. Explicitly set eval_metric if you'd like to restore the old behavior.\n"
     ]
    },
    {
     "name": "stderr",
     "output_type": "stream",
     "text": [
      "/Users/t/.pyenv/versions/3.8.5/lib/python3.8/site-packages/xgboost/sklearn.py:888: UserWarning: The use of label encoder in XGBClassifier is deprecated and will be removed in a future release. To remove this warning, do the following: 1) Pass option use_label_encoder=False when constructing XGBClassifier object; and 2) Encode your labels (y) as integers starting with 0, i.e. 0, 1, 2, ..., [num_class - 1].\n",
      "  warnings.warn(label_encoder_deprecation_msg, UserWarning)\n",
      "\u001b[32m[I 2021-01-03 21:41:03,224]\u001b[0m Trial 57 finished with value: 0.8427065891854625 and parameters: {'min_child_weight': 1, 'gamma': 0.9, 'subsample': 0.8, 'colsample_bytree': 0.5, 'max_depth': 3}. Best is trial 50 with value: 0.8427065891854625.\u001b[0m\n"
     ]
    },
    {
     "name": "stdout",
     "output_type": "stream",
     "text": [
      "[21:41:03] WARNING: /Users/travis/build/dmlc/xgboost/src/learner.cc:1061: Starting in XGBoost 1.3.0, the default evaluation metric used with the objective 'binary:logistic' was changed from 'error' to 'logloss'. Explicitly set eval_metric if you'd like to restore the old behavior.\n",
      "[21:41:03] WARNING: /Users/travis/build/dmlc/xgboost/src/learner.cc:1061: Starting in XGBoost 1.3.0, the default evaluation metric used with the objective 'binary:logistic' was changed from 'error' to 'logloss'. Explicitly set eval_metric if you'd like to restore the old behavior.\n",
      "[21:41:03] WARNING: /Users/travis/build/dmlc/xgboost/src/learner.cc:1061: Starting in XGBoost 1.3.0, the default evaluation metric used with the objective 'binary:logistic' was changed from 'error' to 'logloss'. Explicitly set eval_metric if you'd like to restore the old behavior.\n",
      "[21:41:03] WARNING: /Users/travis/build/dmlc/xgboost/src/learner.cc:1061: Starting in XGBoost 1.3.0, the default evaluation metric used with the objective 'binary:logistic' was changed from 'error' to 'logloss'. Explicitly set eval_metric if you'd like to restore the old behavior.\n"
     ]
    },
    {
     "name": "stderr",
     "output_type": "stream",
     "text": [
      "/Users/t/.pyenv/versions/3.8.5/lib/python3.8/site-packages/xgboost/sklearn.py:888: UserWarning: The use of label encoder in XGBClassifier is deprecated and will be removed in a future release. To remove this warning, do the following: 1) Pass option use_label_encoder=False when constructing XGBClassifier object; and 2) Encode your labels (y) as integers starting with 0, i.e. 0, 1, 2, ..., [num_class - 1].\n",
      "  warnings.warn(label_encoder_deprecation_msg, UserWarning)\n"
     ]
    },
    {
     "name": "stdout",
     "output_type": "stream",
     "text": [
      "[21:41:03] WARNING: /Users/travis/build/dmlc/xgboost/src/learner.cc:1061: Starting in XGBoost 1.3.0, the default evaluation metric used with the objective 'binary:logistic' was changed from 'error' to 'logloss'. Explicitly set eval_metric if you'd like to restore the old behavior.\n",
      "[21:41:03] WARNING: /Users/travis/build/dmlc/xgboost/src/learner.cc:1061: Starting in XGBoost 1.3.0, the default evaluation metric used with the objective 'binary:logistic' was changed from 'error' to 'logloss'. Explicitly set eval_metric if you'd like to restore the old behavior.\n",
      "[21:41:03] WARNING: /Users/travis/build/dmlc/xgboost/src/learner.cc:1061: Starting in XGBoost 1.3.0, the default evaluation metric used with the objective 'binary:logistic' was changed from 'error' to 'logloss'. Explicitly set eval_metric if you'd like to restore the old behavior.\n"
     ]
    },
    {
     "name": "stderr",
     "output_type": "stream",
     "text": [
      "\u001b[32m[I 2021-01-03 21:41:03,609]\u001b[0m Trial 58 finished with value: 0.8286417807544568 and parameters: {'min_child_weight': 1, 'gamma': 0.8, 'subsample': 0.7, 'colsample_bytree': 0.5, 'max_depth': 4}. Best is trial 50 with value: 0.8427065891854625.\u001b[0m\n"
     ]
    },
    {
     "name": "stdout",
     "output_type": "stream",
     "text": [
      "[21:41:03] WARNING: /Users/travis/build/dmlc/xgboost/src/learner.cc:1061: Starting in XGBoost 1.3.0, the default evaluation metric used with the objective 'binary:logistic' was changed from 'error' to 'logloss'. Explicitly set eval_metric if you'd like to restore the old behavior.\n",
      "[21:41:03] WARNING: /Users/travis/build/dmlc/xgboost/src/learner.cc:1061: Starting in XGBoost 1.3.0, the default evaluation metric used with the objective 'binary:logistic' was changed from 'error' to 'logloss'. Explicitly set eval_metric if you'd like to restore the old behavior.\n",
      "[21:41:03] WARNING: /Users/travis/build/dmlc/xgboost/src/learner.cc:1061: Starting in XGBoost 1.3.0, the default evaluation metric used with the objective 'binary:logistic' was changed from 'error' to 'logloss'. Explicitly set eval_metric if you'd like to restore the old behavior.\n",
      "[21:41:03] WARNING: /Users/travis/build/dmlc/xgboost/src/learner.cc:1061: Starting in XGBoost 1.3.0, the default evaluation metric used with the objective 'binary:logistic' was changed from 'error' to 'logloss'. Explicitly set eval_metric if you'd like to restore the old behavior.\n"
     ]
    },
    {
     "name": "stderr",
     "output_type": "stream",
     "text": [
      "/Users/t/.pyenv/versions/3.8.5/lib/python3.8/site-packages/xgboost/sklearn.py:888: UserWarning: The use of label encoder in XGBClassifier is deprecated and will be removed in a future release. To remove this warning, do the following: 1) Pass option use_label_encoder=False when constructing XGBClassifier object; and 2) Encode your labels (y) as integers starting with 0, i.e. 0, 1, 2, ..., [num_class - 1].\n",
      "  warnings.warn(label_encoder_deprecation_msg, UserWarning)\n",
      "\u001b[32m[I 2021-01-03 21:41:03,888]\u001b[0m Trial 59 finished with value: 0.8427065891854625 and parameters: {'min_child_weight': 1, 'gamma': 0.9, 'subsample': 0.8, 'colsample_bytree': 0.5, 'max_depth': 3}. Best is trial 50 with value: 0.8427065891854625.\u001b[0m\n"
     ]
    },
    {
     "name": "stdout",
     "output_type": "stream",
     "text": [
      "[21:41:03] WARNING: /Users/travis/build/dmlc/xgboost/src/learner.cc:1061: Starting in XGBoost 1.3.0, the default evaluation metric used with the objective 'binary:logistic' was changed from 'error' to 'logloss'. Explicitly set eval_metric if you'd like to restore the old behavior.\n",
      "[21:41:03] WARNING: /Users/travis/build/dmlc/xgboost/src/learner.cc:1061: Starting in XGBoost 1.3.0, the default evaluation metric used with the objective 'binary:logistic' was changed from 'error' to 'logloss'. Explicitly set eval_metric if you'd like to restore the old behavior.\n",
      "[21:41:03] WARNING: /Users/travis/build/dmlc/xgboost/src/learner.cc:1061: Starting in XGBoost 1.3.0, the default evaluation metric used with the objective 'binary:logistic' was changed from 'error' to 'logloss'. Explicitly set eval_metric if you'd like to restore the old behavior.\n"
     ]
    },
    {
     "name": "stderr",
     "output_type": "stream",
     "text": [
      "/Users/t/.pyenv/versions/3.8.5/lib/python3.8/site-packages/xgboost/sklearn.py:888: UserWarning: The use of label encoder in XGBClassifier is deprecated and will be removed in a future release. To remove this warning, do the following: 1) Pass option use_label_encoder=False when constructing XGBClassifier object; and 2) Encode your labels (y) as integers starting with 0, i.e. 0, 1, 2, ..., [num_class - 1].\n",
      "  warnings.warn(label_encoder_deprecation_msg, UserWarning)\n",
      "\u001b[32m[I 2021-01-03 21:41:04,211]\u001b[0m Trial 60 finished with value: 0.8427065891854625 and parameters: {'min_child_weight': 1, 'gamma': 0.9, 'subsample': 0.8, 'colsample_bytree': 0.5, 'max_depth': 3}. Best is trial 50 with value: 0.8427065891854625.\u001b[0m\n"
     ]
    },
    {
     "name": "stdout",
     "output_type": "stream",
     "text": [
      "[21:41:04] WARNING: /Users/travis/build/dmlc/xgboost/src/learner.cc:1061: Starting in XGBoost 1.3.0, the default evaluation metric used with the objective 'binary:logistic' was changed from 'error' to 'logloss'. Explicitly set eval_metric if you'd like to restore the old behavior.\n",
      "[21:41:04] WARNING: /Users/travis/build/dmlc/xgboost/src/learner.cc:1061: Starting in XGBoost 1.3.0, the default evaluation metric used with the objective 'binary:logistic' was changed from 'error' to 'logloss'. Explicitly set eval_metric if you'd like to restore the old behavior.\n",
      "[21:41:04] WARNING: /Users/travis/build/dmlc/xgboost/src/learner.cc:1061: Starting in XGBoost 1.3.0, the default evaluation metric used with the objective 'binary:logistic' was changed from 'error' to 'logloss'. Explicitly set eval_metric if you'd like to restore the old behavior.\n",
      "[21:41:04] WARNING: /Users/travis/build/dmlc/xgboost/src/learner.cc:1061: Starting in XGBoost 1.3.0, the default evaluation metric used with the objective 'binary:logistic' was changed from 'error' to 'logloss'. Explicitly set eval_metric if you'd like to restore the old behavior.\n"
     ]
    },
    {
     "name": "stderr",
     "output_type": "stream",
     "text": [
      "/Users/t/.pyenv/versions/3.8.5/lib/python3.8/site-packages/xgboost/sklearn.py:888: UserWarning: The use of label encoder in XGBClassifier is deprecated and will be removed in a future release. To remove this warning, do the following: 1) Pass option use_label_encoder=False when constructing XGBClassifier object; and 2) Encode your labels (y) as integers starting with 0, i.e. 0, 1, 2, ..., [num_class - 1].\n",
      "  warnings.warn(label_encoder_deprecation_msg, UserWarning)\n"
     ]
    },
    {
     "name": "stdout",
     "output_type": "stream",
     "text": [
      "[21:41:04] WARNING: /Users/travis/build/dmlc/xgboost/src/learner.cc:1061: Starting in XGBoost 1.3.0, the default evaluation metric used with the objective 'binary:logistic' was changed from 'error' to 'logloss'. Explicitly set eval_metric if you'd like to restore the old behavior.\n",
      "[21:41:04] WARNING: /Users/travis/build/dmlc/xgboost/src/learner.cc:1061: Starting in XGBoost 1.3.0, the default evaluation metric used with the objective 'binary:logistic' was changed from 'error' to 'logloss'. Explicitly set eval_metric if you'd like to restore the old behavior.\n",
      "[21:41:04] WARNING: /Users/travis/build/dmlc/xgboost/src/learner.cc:1061: Starting in XGBoost 1.3.0, the default evaluation metric used with the objective 'binary:logistic' was changed from 'error' to 'logloss'. Explicitly set eval_metric if you'd like to restore the old behavior.\n",
      "[21:41:04] WARNING: /Users/travis/build/dmlc/xgboost/src/learner.cc:1061: Starting in XGBoost 1.3.0, the default evaluation metric used with the objective 'binary:logistic' was changed from 'error' to 'logloss'. Explicitly set eval_metric if you'd like to restore the old behavior.\n"
     ]
    },
    {
     "name": "stderr",
     "output_type": "stream",
     "text": [
      "\u001b[32m[I 2021-01-03 21:41:04,534]\u001b[0m Trial 61 finished with value: 0.8427065891854625 and parameters: {'min_child_weight': 1, 'gamma': 0.9, 'subsample': 0.8, 'colsample_bytree': 0.5, 'max_depth': 3}. Best is trial 50 with value: 0.8427065891854625.\u001b[0m\n"
     ]
    },
    {
     "name": "stdout",
     "output_type": "stream",
     "text": [
      "[21:41:04] WARNING: /Users/travis/build/dmlc/xgboost/src/learner.cc:1061: Starting in XGBoost 1.3.0, the default evaluation metric used with the objective 'binary:logistic' was changed from 'error' to 'logloss'. Explicitly set eval_metric if you'd like to restore the old behavior.\n",
      "[21:41:04] WARNING: /Users/travis/build/dmlc/xgboost/src/learner.cc:1061: Starting in XGBoost 1.3.0, the default evaluation metric used with the objective 'binary:logistic' was changed from 'error' to 'logloss'. Explicitly set eval_metric if you'd like to restore the old behavior.\n",
      "[21:41:04] WARNING: /Users/travis/build/dmlc/xgboost/src/learner.cc:1061: Starting in XGBoost 1.3.0, the default evaluation metric used with the objective 'binary:logistic' was changed from 'error' to 'logloss'. Explicitly set eval_metric if you'd like to restore the old behavior.\n"
     ]
    },
    {
     "name": "stderr",
     "output_type": "stream",
     "text": [
      "/Users/t/.pyenv/versions/3.8.5/lib/python3.8/site-packages/xgboost/sklearn.py:888: UserWarning: The use of label encoder in XGBClassifier is deprecated and will be removed in a future release. To remove this warning, do the following: 1) Pass option use_label_encoder=False when constructing XGBClassifier object; and 2) Encode your labels (y) as integers starting with 0, i.e. 0, 1, 2, ..., [num_class - 1].\n",
      "  warnings.warn(label_encoder_deprecation_msg, UserWarning)\n",
      "\u001b[32m[I 2021-01-03 21:41:04,862]\u001b[0m Trial 62 finished with value: 0.8314192849404117 and parameters: {'min_child_weight': 1, 'gamma': 0.8, 'subsample': 0.8, 'colsample_bytree': 0.5, 'max_depth': 4}. Best is trial 50 with value: 0.8427065891854625.\u001b[0m\n"
     ]
    },
    {
     "name": "stdout",
     "output_type": "stream",
     "text": [
      "[21:41:04] WARNING: /Users/travis/build/dmlc/xgboost/src/learner.cc:1061: Starting in XGBoost 1.3.0, the default evaluation metric used with the objective 'binary:logistic' was changed from 'error' to 'logloss'. Explicitly set eval_metric if you'd like to restore the old behavior.\n",
      "[21:41:04] WARNING: /Users/travis/build/dmlc/xgboost/src/learner.cc:1061: Starting in XGBoost 1.3.0, the default evaluation metric used with the objective 'binary:logistic' was changed from 'error' to 'logloss'. Explicitly set eval_metric if you'd like to restore the old behavior.\n",
      "[21:41:04] WARNING: /Users/travis/build/dmlc/xgboost/src/learner.cc:1061: Starting in XGBoost 1.3.0, the default evaluation metric used with the objective 'binary:logistic' was changed from 'error' to 'logloss'. Explicitly set eval_metric if you'd like to restore the old behavior.\n"
     ]
    },
    {
     "name": "stderr",
     "output_type": "stream",
     "text": [
      "/Users/t/.pyenv/versions/3.8.5/lib/python3.8/site-packages/xgboost/sklearn.py:888: UserWarning: The use of label encoder in XGBClassifier is deprecated and will be removed in a future release. To remove this warning, do the following: 1) Pass option use_label_encoder=False when constructing XGBClassifier object; and 2) Encode your labels (y) as integers starting with 0, i.e. 0, 1, 2, ..., [num_class - 1].\n",
      "  warnings.warn(label_encoder_deprecation_msg, UserWarning)\n"
     ]
    },
    {
     "name": "stdout",
     "output_type": "stream",
     "text": [
      "[21:41:04] WARNING: /Users/travis/build/dmlc/xgboost/src/learner.cc:1061: Starting in XGBoost 1.3.0, the default evaluation metric used with the objective 'binary:logistic' was changed from 'error' to 'logloss'. Explicitly set eval_metric if you'd like to restore the old behavior.\n",
      "[21:41:04] WARNING: /Users/travis/build/dmlc/xgboost/src/learner.cc:1061: Starting in XGBoost 1.3.0, the default evaluation metric used with the objective 'binary:logistic' was changed from 'error' to 'logloss'. Explicitly set eval_metric if you'd like to restore the old behavior.\n",
      "[21:41:05] WARNING: /Users/travis/build/dmlc/xgboost/src/learner.cc:1061: Starting in XGBoost 1.3.0, the default evaluation metric used with the objective 'binary:logistic' was changed from 'error' to 'logloss'. Explicitly set eval_metric if you'd like to restore the old behavior.\n",
      "[21:41:05] WARNING: /Users/travis/build/dmlc/xgboost/src/learner.cc:1061: Starting in XGBoost 1.3.0, the default evaluation metric used with the objective 'binary:logistic' was changed from 'error' to 'logloss'. Explicitly set eval_metric if you'd like to restore the old behavior.\n"
     ]
    },
    {
     "name": "stderr",
     "output_type": "stream",
     "text": [
      "\u001b[32m[I 2021-01-03 21:41:05,183]\u001b[0m Trial 63 finished with value: 0.8427065891854625 and parameters: {'min_child_weight': 1, 'gamma': 0.9, 'subsample': 0.8, 'colsample_bytree': 0.5, 'max_depth': 3}. Best is trial 50 with value: 0.8427065891854625.\u001b[0m\n"
     ]
    },
    {
     "name": "stdout",
     "output_type": "stream",
     "text": [
      "[21:41:05] WARNING: /Users/travis/build/dmlc/xgboost/src/learner.cc:1061: Starting in XGBoost 1.3.0, the default evaluation metric used with the objective 'binary:logistic' was changed from 'error' to 'logloss'. Explicitly set eval_metric if you'd like to restore the old behavior.\n",
      "[21:41:05] WARNING: /Users/travis/build/dmlc/xgboost/src/learner.cc:1061: Starting in XGBoost 1.3.0, the default evaluation metric used with the objective 'binary:logistic' was changed from 'error' to 'logloss'. Explicitly set eval_metric if you'd like to restore the old behavior.\n",
      "[21:41:05] WARNING: /Users/travis/build/dmlc/xgboost/src/learner.cc:1061: Starting in XGBoost 1.3.0, the default evaluation metric used with the objective 'binary:logistic' was changed from 'error' to 'logloss'. Explicitly set eval_metric if you'd like to restore the old behavior.\n",
      "[21:41:05] WARNING: /Users/travis/build/dmlc/xgboost/src/learner.cc:1061: Starting in XGBoost 1.3.0, the default evaluation metric used with the objective 'binary:logistic' was changed from 'error' to 'logloss'. Explicitly set eval_metric if you'd like to restore the old behavior.\n"
     ]
    },
    {
     "name": "stderr",
     "output_type": "stream",
     "text": [
      "/Users/t/.pyenv/versions/3.8.5/lib/python3.8/site-packages/xgboost/sklearn.py:888: UserWarning: The use of label encoder in XGBClassifier is deprecated and will be removed in a future release. To remove this warning, do the following: 1) Pass option use_label_encoder=False when constructing XGBClassifier object; and 2) Encode your labels (y) as integers starting with 0, i.e. 0, 1, 2, ..., [num_class - 1].\n",
      "  warnings.warn(label_encoder_deprecation_msg, UserWarning)\n",
      "\u001b[32m[I 2021-01-03 21:41:05,475]\u001b[0m Trial 64 finished with value: 0.8357234314980794 and parameters: {'min_child_weight': 1, 'gamma': 1.0, 'subsample': 0.8, 'colsample_bytree': 0.6, 'max_depth': 3}. Best is trial 50 with value: 0.8427065891854625.\u001b[0m\n"
     ]
    },
    {
     "name": "stdout",
     "output_type": "stream",
     "text": [
      "[21:41:05] WARNING: /Users/travis/build/dmlc/xgboost/src/learner.cc:1061: Starting in XGBoost 1.3.0, the default evaluation metric used with the objective 'binary:logistic' was changed from 'error' to 'logloss'. Explicitly set eval_metric if you'd like to restore the old behavior.\n",
      "[21:41:05] WARNING: /Users/travis/build/dmlc/xgboost/src/learner.cc:1061: Starting in XGBoost 1.3.0, the default evaluation metric used with the objective 'binary:logistic' was changed from 'error' to 'logloss'. Explicitly set eval_metric if you'd like to restore the old behavior.\n",
      "[21:41:05] WARNING: /Users/travis/build/dmlc/xgboost/src/learner.cc:1061: Starting in XGBoost 1.3.0, the default evaluation metric used with the objective 'binary:logistic' was changed from 'error' to 'logloss'. Explicitly set eval_metric if you'd like to restore the old behavior.\n"
     ]
    },
    {
     "name": "stderr",
     "output_type": "stream",
     "text": [
      "/Users/t/.pyenv/versions/3.8.5/lib/python3.8/site-packages/xgboost/sklearn.py:888: UserWarning: The use of label encoder in XGBClassifier is deprecated and will be removed in a future release. To remove this warning, do the following: 1) Pass option use_label_encoder=False when constructing XGBClassifier object; and 2) Encode your labels (y) as integers starting with 0, i.e. 0, 1, 2, ..., [num_class - 1].\n",
      "  warnings.warn(label_encoder_deprecation_msg, UserWarning)\n"
     ]
    },
    {
     "name": "stdout",
     "output_type": "stream",
     "text": [
      "[21:41:05] WARNING: /Users/travis/build/dmlc/xgboost/src/learner.cc:1061: Starting in XGBoost 1.3.0, the default evaluation metric used with the objective 'binary:logistic' was changed from 'error' to 'logloss'. Explicitly set eval_metric if you'd like to restore the old behavior.\n",
      "[21:41:05] WARNING: /Users/travis/build/dmlc/xgboost/src/learner.cc:1061: Starting in XGBoost 1.3.0, the default evaluation metric used with the objective 'binary:logistic' was changed from 'error' to 'logloss'. Explicitly set eval_metric if you'd like to restore the old behavior.\n",
      "[21:41:05] WARNING: /Users/travis/build/dmlc/xgboost/src/learner.cc:1061: Starting in XGBoost 1.3.0, the default evaluation metric used with the objective 'binary:logistic' was changed from 'error' to 'logloss'. Explicitly set eval_metric if you'd like to restore the old behavior.\n",
      "[21:41:05] WARNING: /Users/travis/build/dmlc/xgboost/src/learner.cc:1061: Starting in XGBoost 1.3.0, the default evaluation metric used with the objective 'binary:logistic' was changed from 'error' to 'logloss'. Explicitly set eval_metric if you'd like to restore the old behavior.\n"
     ]
    },
    {
     "name": "stderr",
     "output_type": "stream",
     "text": [
      "\u001b[32m[I 2021-01-03 21:41:05,852]\u001b[0m Trial 65 finished with value: 0.8314192849404117 and parameters: {'min_child_weight': 1, 'gamma': 0.8, 'subsample': 0.8, 'colsample_bytree': 0.5, 'max_depth': 4}. Best is trial 50 with value: 0.8427065891854625.\u001b[0m\n",
      "/Users/t/.pyenv/versions/3.8.5/lib/python3.8/site-packages/xgboost/sklearn.py:888: UserWarning: The use of label encoder in XGBClassifier is deprecated and will be removed in a future release. To remove this warning, do the following: 1) Pass option use_label_encoder=False when constructing XGBClassifier object; and 2) Encode your labels (y) as integers starting with 0, i.e. 0, 1, 2, ..., [num_class - 1].\n",
      "  warnings.warn(label_encoder_deprecation_msg, UserWarning)\n"
     ]
    },
    {
     "name": "stdout",
     "output_type": "stream",
     "text": [
      "[21:41:05] WARNING: /Users/travis/build/dmlc/xgboost/src/learner.cc:1061: Starting in XGBoost 1.3.0, the default evaluation metric used with the objective 'binary:logistic' was changed from 'error' to 'logloss'. Explicitly set eval_metric if you'd like to restore the old behavior.\n",
      "[21:41:05] WARNING: /Users/travis/build/dmlc/xgboost/src/learner.cc:1061: Starting in XGBoost 1.3.0, the default evaluation metric used with the objective 'binary:logistic' was changed from 'error' to 'logloss'. Explicitly set eval_metric if you'd like to restore the old behavior.\n",
      "[21:41:06] WARNING: /Users/travis/build/dmlc/xgboost/src/learner.cc:1061: Starting in XGBoost 1.3.0, the default evaluation metric used with the objective 'binary:logistic' was changed from 'error' to 'logloss'. Explicitly set eval_metric if you'd like to restore the old behavior.\n"
     ]
    },
    {
     "name": "stderr",
     "output_type": "stream",
     "text": [
      "\u001b[32m[I 2021-01-03 21:41:06,262]\u001b[0m Trial 66 finished with value: 0.8314882300797795 and parameters: {'min_child_weight': 1, 'gamma': 1.0, 'subsample': 0.9, 'colsample_bytree': 0.6, 'max_depth': 4}. Best is trial 50 with value: 0.8427065891854625.\u001b[0m\n"
     ]
    },
    {
     "name": "stdout",
     "output_type": "stream",
     "text": [
      "[21:41:06] WARNING: /Users/travis/build/dmlc/xgboost/src/learner.cc:1061: Starting in XGBoost 1.3.0, the default evaluation metric used with the objective 'binary:logistic' was changed from 'error' to 'logloss'. Explicitly set eval_metric if you'd like to restore the old behavior.\n",
      "[21:41:06] WARNING: /Users/travis/build/dmlc/xgboost/src/learner.cc:1061: Starting in XGBoost 1.3.0, the default evaluation metric used with the objective 'binary:logistic' was changed from 'error' to 'logloss'. Explicitly set eval_metric if you'd like to restore the old behavior.\n",
      "[21:41:06] WARNING: /Users/travis/build/dmlc/xgboost/src/learner.cc:1061: Starting in XGBoost 1.3.0, the default evaluation metric used with the objective 'binary:logistic' was changed from 'error' to 'logloss'. Explicitly set eval_metric if you'd like to restore the old behavior.\n"
     ]
    },
    {
     "name": "stderr",
     "output_type": "stream",
     "text": [
      "/Users/t/.pyenv/versions/3.8.5/lib/python3.8/site-packages/xgboost/sklearn.py:888: UserWarning: The use of label encoder in XGBClassifier is deprecated and will be removed in a future release. To remove this warning, do the following: 1) Pass option use_label_encoder=False when constructing XGBClassifier object; and 2) Encode your labels (y) as integers starting with 0, i.e. 0, 1, 2, ..., [num_class - 1].\n",
      "  warnings.warn(label_encoder_deprecation_msg, UserWarning)\n"
     ]
    },
    {
     "name": "stdout",
     "output_type": "stream",
     "text": [
      "[21:41:06] WARNING: /Users/travis/build/dmlc/xgboost/src/learner.cc:1061: Starting in XGBoost 1.3.0, the default evaluation metric used with the objective 'binary:logistic' was changed from 'error' to 'logloss'. Explicitly set eval_metric if you'd like to restore the old behavior.\n",
      "[21:41:06] WARNING: /Users/travis/build/dmlc/xgboost/src/learner.cc:1061: Starting in XGBoost 1.3.0, the default evaluation metric used with the objective 'binary:logistic' was changed from 'error' to 'logloss'. Explicitly set eval_metric if you'd like to restore the old behavior.\n",
      "[21:41:06] WARNING: /Users/travis/build/dmlc/xgboost/src/learner.cc:1061: Starting in XGBoost 1.3.0, the default evaluation metric used with the objective 'binary:logistic' was changed from 'error' to 'logloss'. Explicitly set eval_metric if you'd like to restore the old behavior.\n",
      "[21:41:06] WARNING: /Users/travis/build/dmlc/xgboost/src/learner.cc:1061: Starting in XGBoost 1.3.0, the default evaluation metric used with the objective 'binary:logistic' was changed from 'error' to 'logloss'. Explicitly set eval_metric if you'd like to restore the old behavior.\n"
     ]
    },
    {
     "name": "stderr",
     "output_type": "stream",
     "text": [
      "\u001b[32m[I 2021-01-03 21:41:06,568]\u001b[0m Trial 67 finished with value: 0.8160346695557962 and parameters: {'min_child_weight': 1, 'gamma': 0.8, 'subsample': 0.7, 'colsample_bytree': 0.5, 'max_depth': 3}. Best is trial 50 with value: 0.8427065891854625.\u001b[0m\n",
      "/Users/t/.pyenv/versions/3.8.5/lib/python3.8/site-packages/xgboost/sklearn.py:888: UserWarning: The use of label encoder in XGBClassifier is deprecated and will be removed in a future release. To remove this warning, do the following: 1) Pass option use_label_encoder=False when constructing XGBClassifier object; and 2) Encode your labels (y) as integers starting with 0, i.e. 0, 1, 2, ..., [num_class - 1].\n",
      "  warnings.warn(label_encoder_deprecation_msg, UserWarning)\n"
     ]
    },
    {
     "name": "stdout",
     "output_type": "stream",
     "text": [
      "[21:41:06] WARNING: /Users/travis/build/dmlc/xgboost/src/learner.cc:1061: Starting in XGBoost 1.3.0, the default evaluation metric used with the objective 'binary:logistic' was changed from 'error' to 'logloss'. Explicitly set eval_metric if you'd like to restore the old behavior.\n",
      "[21:41:06] WARNING: /Users/travis/build/dmlc/xgboost/src/learner.cc:1061: Starting in XGBoost 1.3.0, the default evaluation metric used with the objective 'binary:logistic' was changed from 'error' to 'logloss'. Explicitly set eval_metric if you'd like to restore the old behavior.\n",
      "[21:41:06] WARNING: /Users/travis/build/dmlc/xgboost/src/learner.cc:1061: Starting in XGBoost 1.3.0, the default evaluation metric used with the objective 'binary:logistic' was changed from 'error' to 'logloss'. Explicitly set eval_metric if you'd like to restore the old behavior.\n",
      "[21:41:06] WARNING: /Users/travis/build/dmlc/xgboost/src/learner.cc:1061: Starting in XGBoost 1.3.0, the default evaluation metric used with the objective 'binary:logistic' was changed from 'error' to 'logloss'. Explicitly set eval_metric if you'd like to restore the old behavior.\n"
     ]
    },
    {
     "name": "stderr",
     "output_type": "stream",
     "text": [
      "\u001b[32m[I 2021-01-03 21:41:06,870]\u001b[0m Trial 68 finished with value: 0.8427065891854625 and parameters: {'min_child_weight': 1, 'gamma': 0.9, 'subsample': 0.8, 'colsample_bytree': 0.5, 'max_depth': 3}. Best is trial 50 with value: 0.8427065891854625.\u001b[0m\n"
     ]
    },
    {
     "name": "stdout",
     "output_type": "stream",
     "text": [
      "[21:41:06] WARNING: /Users/travis/build/dmlc/xgboost/src/learner.cc:1061: Starting in XGBoost 1.3.0, the default evaluation metric used with the objective 'binary:logistic' was changed from 'error' to 'logloss'. Explicitly set eval_metric if you'd like to restore the old behavior.\n",
      "[21:41:06] WARNING: /Users/travis/build/dmlc/xgboost/src/learner.cc:1061: Starting in XGBoost 1.3.0, the default evaluation metric used with the objective 'binary:logistic' was changed from 'error' to 'logloss'. Explicitly set eval_metric if you'd like to restore the old behavior.\n",
      "[21:41:06] WARNING: /Users/travis/build/dmlc/xgboost/src/learner.cc:1061: Starting in XGBoost 1.3.0, the default evaluation metric used with the objective 'binary:logistic' was changed from 'error' to 'logloss'. Explicitly set eval_metric if you'd like to restore the old behavior.\n"
     ]
    },
    {
     "name": "stderr",
     "output_type": "stream",
     "text": [
      "/Users/t/.pyenv/versions/3.8.5/lib/python3.8/site-packages/xgboost/sklearn.py:888: UserWarning: The use of label encoder in XGBClassifier is deprecated and will be removed in a future release. To remove this warning, do the following: 1) Pass option use_label_encoder=False when constructing XGBClassifier object; and 2) Encode your labels (y) as integers starting with 0, i.e. 0, 1, 2, ..., [num_class - 1].\n",
      "  warnings.warn(label_encoder_deprecation_msg, UserWarning)\n"
     ]
    },
    {
     "name": "stdout",
     "output_type": "stream",
     "text": [
      "[21:41:07] WARNING: /Users/travis/build/dmlc/xgboost/src/learner.cc:1061: Starting in XGBoost 1.3.0, the default evaluation metric used with the objective 'binary:logistic' was changed from 'error' to 'logloss'. Explicitly set eval_metric if you'd like to restore the old behavior.\n",
      "[21:41:07] WARNING: /Users/travis/build/dmlc/xgboost/src/learner.cc:1061: Starting in XGBoost 1.3.0, the default evaluation metric used with the objective 'binary:logistic' was changed from 'error' to 'logloss'. Explicitly set eval_metric if you'd like to restore the old behavior.\n",
      "[21:41:07] WARNING: /Users/travis/build/dmlc/xgboost/src/learner.cc:1061: Starting in XGBoost 1.3.0, the default evaluation metric used with the objective 'binary:logistic' was changed from 'error' to 'logloss'. Explicitly set eval_metric if you'd like to restore the old behavior.\n"
     ]
    },
    {
     "name": "stderr",
     "output_type": "stream",
     "text": [
      "\u001b[32m[I 2021-01-03 21:41:07,255]\u001b[0m Trial 69 finished with value: 0.8370727863685611 and parameters: {'min_child_weight': 1, 'gamma': 0.9, 'subsample': 0.8, 'colsample_bytree': 0.5, 'max_depth': 4}. Best is trial 50 with value: 0.8427065891854625.\u001b[0m\n",
      "/Users/t/.pyenv/versions/3.8.5/lib/python3.8/site-packages/xgboost/sklearn.py:888: UserWarning: The use of label encoder in XGBClassifier is deprecated and will be removed in a future release. To remove this warning, do the following: 1) Pass option use_label_encoder=False when constructing XGBClassifier object; and 2) Encode your labels (y) as integers starting with 0, i.e. 0, 1, 2, ..., [num_class - 1].\n",
      "  warnings.warn(label_encoder_deprecation_msg, UserWarning)\n"
     ]
    },
    {
     "name": "stdout",
     "output_type": "stream",
     "text": [
      "[21:41:07] WARNING: /Users/travis/build/dmlc/xgboost/src/learner.cc:1061: Starting in XGBoost 1.3.0, the default evaluation metric used with the objective 'binary:logistic' was changed from 'error' to 'logloss'. Explicitly set eval_metric if you'd like to restore the old behavior.\n",
      "[21:41:07] WARNING: /Users/travis/build/dmlc/xgboost/src/learner.cc:1061: Starting in XGBoost 1.3.0, the default evaluation metric used with the objective 'binary:logistic' was changed from 'error' to 'logloss'. Explicitly set eval_metric if you'd like to restore the old behavior.\n",
      "[21:41:07] WARNING: /Users/travis/build/dmlc/xgboost/src/learner.cc:1061: Starting in XGBoost 1.3.0, the default evaluation metric used with the objective 'binary:logistic' was changed from 'error' to 'logloss'. Explicitly set eval_metric if you'd like to restore the old behavior.\n",
      "[21:41:07] WARNING: /Users/travis/build/dmlc/xgboost/src/learner.cc:1061: Starting in XGBoost 1.3.0, the default evaluation metric used with the objective 'binary:logistic' was changed from 'error' to 'logloss'. Explicitly set eval_metric if you'd like to restore the old behavior.\n"
     ]
    },
    {
     "name": "stderr",
     "output_type": "stream",
     "text": [
      "\u001b[32m[I 2021-01-03 21:41:07,564]\u001b[0m Trial 70 finished with value: 0.8301093272924259 and parameters: {'min_child_weight': 1, 'gamma': 0.8, 'subsample': 0.9, 'colsample_bytree': 0.5, 'max_depth': 3}. Best is trial 50 with value: 0.8427065891854625.\u001b[0m\n"
     ]
    },
    {
     "name": "stdout",
     "output_type": "stream",
     "text": [
      "[21:41:07] WARNING: /Users/travis/build/dmlc/xgboost/src/learner.cc:1061: Starting in XGBoost 1.3.0, the default evaluation metric used with the objective 'binary:logistic' was changed from 'error' to 'logloss'. Explicitly set eval_metric if you'd like to restore the old behavior.\n",
      "[21:41:07] WARNING: /Users/travis/build/dmlc/xgboost/src/learner.cc:1061: Starting in XGBoost 1.3.0, the default evaluation metric used with the objective 'binary:logistic' was changed from 'error' to 'logloss'. Explicitly set eval_metric if you'd like to restore the old behavior.\n"
     ]
    },
    {
     "name": "stderr",
     "output_type": "stream",
     "text": [
      "/Users/t/.pyenv/versions/3.8.5/lib/python3.8/site-packages/xgboost/sklearn.py:888: UserWarning: The use of label encoder in XGBClassifier is deprecated and will be removed in a future release. To remove this warning, do the following: 1) Pass option use_label_encoder=False when constructing XGBClassifier object; and 2) Encode your labels (y) as integers starting with 0, i.e. 0, 1, 2, ..., [num_class - 1].\n",
      "  warnings.warn(label_encoder_deprecation_msg, UserWarning)\n"
     ]
    },
    {
     "name": "stdout",
     "output_type": "stream",
     "text": [
      "[21:41:07] WARNING: /Users/travis/build/dmlc/xgboost/src/learner.cc:1061: Starting in XGBoost 1.3.0, the default evaluation metric used with the objective 'binary:logistic' was changed from 'error' to 'logloss'. Explicitly set eval_metric if you'd like to restore the old behavior.\n",
      "[21:41:07] WARNING: /Users/travis/build/dmlc/xgboost/src/learner.cc:1061: Starting in XGBoost 1.3.0, the default evaluation metric used with the objective 'binary:logistic' was changed from 'error' to 'logloss'. Explicitly set eval_metric if you'd like to restore the old behavior.\n",
      "[21:41:07] WARNING: /Users/travis/build/dmlc/xgboost/src/learner.cc:1061: Starting in XGBoost 1.3.0, the default evaluation metric used with the objective 'binary:logistic' was changed from 'error' to 'logloss'. Explicitly set eval_metric if you'd like to restore the old behavior.\n",
      "[21:41:07] WARNING: /Users/travis/build/dmlc/xgboost/src/learner.cc:1061: Starting in XGBoost 1.3.0, the default evaluation metric used with the objective 'binary:logistic' was changed from 'error' to 'logloss'. Explicitly set eval_metric if you'd like to restore the old behavior.\n"
     ]
    },
    {
     "name": "stderr",
     "output_type": "stream",
     "text": [
      "\u001b[32m[I 2021-01-03 21:41:07,927]\u001b[0m Trial 71 finished with value: 0.8427065891854625 and parameters: {'min_child_weight': 1, 'gamma': 0.9, 'subsample': 0.8, 'colsample_bytree': 0.5, 'max_depth': 3}. Best is trial 50 with value: 0.8427065891854625.\u001b[0m\n",
      "/Users/t/.pyenv/versions/3.8.5/lib/python3.8/site-packages/xgboost/sklearn.py:888: UserWarning: The use of label encoder in XGBClassifier is deprecated and will be removed in a future release. To remove this warning, do the following: 1) Pass option use_label_encoder=False when constructing XGBClassifier object; and 2) Encode your labels (y) as integers starting with 0, i.e. 0, 1, 2, ..., [num_class - 1].\n",
      "  warnings.warn(label_encoder_deprecation_msg, UserWarning)\n"
     ]
    },
    {
     "name": "stdout",
     "output_type": "stream",
     "text": [
      "[21:41:07] WARNING: /Users/travis/build/dmlc/xgboost/src/learner.cc:1061: Starting in XGBoost 1.3.0, the default evaluation metric used with the objective 'binary:logistic' was changed from 'error' to 'logloss'. Explicitly set eval_metric if you'd like to restore the old behavior.\n",
      "[21:41:08] WARNING: /Users/travis/build/dmlc/xgboost/src/learner.cc:1061: Starting in XGBoost 1.3.0, the default evaluation metric used with the objective 'binary:logistic' was changed from 'error' to 'logloss'. Explicitly set eval_metric if you'd like to restore the old behavior.\n",
      "[21:41:08] WARNING: /Users/travis/build/dmlc/xgboost/src/learner.cc:1061: Starting in XGBoost 1.3.0, the default evaluation metric used with the objective 'binary:logistic' was changed from 'error' to 'logloss'. Explicitly set eval_metric if you'd like to restore the old behavior.\n",
      "[21:41:08] WARNING: /Users/travis/build/dmlc/xgboost/src/learner.cc:1061: Starting in XGBoost 1.3.0, the default evaluation metric used with the objective 'binary:logistic' was changed from 'error' to 'logloss'. Explicitly set eval_metric if you'd like to restore the old behavior.\n"
     ]
    },
    {
     "name": "stderr",
     "output_type": "stream",
     "text": [
      "\u001b[32m[I 2021-01-03 21:41:08,258]\u001b[0m Trial 72 finished with value: 0.8427065891854625 and parameters: {'min_child_weight': 1, 'gamma': 0.9, 'subsample': 0.8, 'colsample_bytree': 0.5, 'max_depth': 3}. Best is trial 50 with value: 0.8427065891854625.\u001b[0m\n"
     ]
    },
    {
     "name": "stdout",
     "output_type": "stream",
     "text": [
      "[21:41:08] WARNING: /Users/travis/build/dmlc/xgboost/src/learner.cc:1061: Starting in XGBoost 1.3.0, the default evaluation metric used with the objective 'binary:logistic' was changed from 'error' to 'logloss'. Explicitly set eval_metric if you'd like to restore the old behavior.\n",
      "[21:41:08] WARNING: /Users/travis/build/dmlc/xgboost/src/learner.cc:1061: Starting in XGBoost 1.3.0, the default evaluation metric used with the objective 'binary:logistic' was changed from 'error' to 'logloss'. Explicitly set eval_metric if you'd like to restore the old behavior.\n",
      "[21:41:08] WARNING: /Users/travis/build/dmlc/xgboost/src/learner.cc:1061: Starting in XGBoost 1.3.0, the default evaluation metric used with the objective 'binary:logistic' was changed from 'error' to 'logloss'. Explicitly set eval_metric if you'd like to restore the old behavior.\n"
     ]
    },
    {
     "name": "stderr",
     "output_type": "stream",
     "text": [
      "/Users/t/.pyenv/versions/3.8.5/lib/python3.8/site-packages/xgboost/sklearn.py:888: UserWarning: The use of label encoder in XGBClassifier is deprecated and will be removed in a future release. To remove this warning, do the following: 1) Pass option use_label_encoder=False when constructing XGBClassifier object; and 2) Encode your labels (y) as integers starting with 0, i.e. 0, 1, 2, ..., [num_class - 1].\n",
      "  warnings.warn(label_encoder_deprecation_msg, UserWarning)\n",
      "\u001b[32m[I 2021-01-03 21:41:08,580]\u001b[0m Trial 73 finished with value: 0.8314980793854033 and parameters: {'min_child_weight': 1, 'gamma': 1.0, 'subsample': 0.8, 'colsample_bytree': 0.5, 'max_depth': 3}. Best is trial 50 with value: 0.8427065891854625.\u001b[0m\n"
     ]
    },
    {
     "name": "stdout",
     "output_type": "stream",
     "text": [
      "[21:41:08] WARNING: /Users/travis/build/dmlc/xgboost/src/learner.cc:1061: Starting in XGBoost 1.3.0, the default evaluation metric used with the objective 'binary:logistic' was changed from 'error' to 'logloss'. Explicitly set eval_metric if you'd like to restore the old behavior.\n",
      "[21:41:08] WARNING: /Users/travis/build/dmlc/xgboost/src/learner.cc:1061: Starting in XGBoost 1.3.0, the default evaluation metric used with the objective 'binary:logistic' was changed from 'error' to 'logloss'. Explicitly set eval_metric if you'd like to restore the old behavior.\n",
      "[21:41:08] WARNING: /Users/travis/build/dmlc/xgboost/src/learner.cc:1061: Starting in XGBoost 1.3.0, the default evaluation metric used with the objective 'binary:logistic' was changed from 'error' to 'logloss'. Explicitly set eval_metric if you'd like to restore the old behavior.\n"
     ]
    },
    {
     "name": "stderr",
     "output_type": "stream",
     "text": [
      "/Users/t/.pyenv/versions/3.8.5/lib/python3.8/site-packages/xgboost/sklearn.py:888: UserWarning: The use of label encoder in XGBClassifier is deprecated and will be removed in a future release. To remove this warning, do the following: 1) Pass option use_label_encoder=False when constructing XGBClassifier object; and 2) Encode your labels (y) as integers starting with 0, i.e. 0, 1, 2, ..., [num_class - 1].\n",
      "  warnings.warn(label_encoder_deprecation_msg, UserWarning)\n"
     ]
    },
    {
     "name": "stdout",
     "output_type": "stream",
     "text": [
      "[21:41:08] WARNING: /Users/travis/build/dmlc/xgboost/src/learner.cc:1061: Starting in XGBoost 1.3.0, the default evaluation metric used with the objective 'binary:logistic' was changed from 'error' to 'logloss'. Explicitly set eval_metric if you'd like to restore the old behavior.\n",
      "[21:41:08] WARNING: /Users/travis/build/dmlc/xgboost/src/learner.cc:1061: Starting in XGBoost 1.3.0, the default evaluation metric used with the objective 'binary:logistic' was changed from 'error' to 'logloss'. Explicitly set eval_metric if you'd like to restore the old behavior.\n",
      "[21:41:08] WARNING: /Users/travis/build/dmlc/xgboost/src/learner.cc:1061: Starting in XGBoost 1.3.0, the default evaluation metric used with the objective 'binary:logistic' was changed from 'error' to 'logloss'. Explicitly set eval_metric if you'd like to restore the old behavior.\n",
      "[21:41:08] WARNING: /Users/travis/build/dmlc/xgboost/src/learner.cc:1061: Starting in XGBoost 1.3.0, the default evaluation metric used with the objective 'binary:logistic' was changed from 'error' to 'logloss'. Explicitly set eval_metric if you'd like to restore the old behavior.\n"
     ]
    },
    {
     "name": "stderr",
     "output_type": "stream",
     "text": [
      "\u001b[32m[I 2021-01-03 21:41:08,900]\u001b[0m Trial 74 finished with value: 0.8314882300797792 and parameters: {'min_child_weight': 1, 'gamma': 0.9, 'subsample': 0.8, 'colsample_bytree': 0.6, 'max_depth': 3}. Best is trial 50 with value: 0.8427065891854625.\u001b[0m\n"
     ]
    },
    {
     "name": "stdout",
     "output_type": "stream",
     "text": [
      "[21:41:08] WARNING: /Users/travis/build/dmlc/xgboost/src/learner.cc:1061: Starting in XGBoost 1.3.0, the default evaluation metric used with the objective 'binary:logistic' was changed from 'error' to 'logloss'. Explicitly set eval_metric if you'd like to restore the old behavior.\n",
      "[21:41:08] WARNING: /Users/travis/build/dmlc/xgboost/src/learner.cc:1061: Starting in XGBoost 1.3.0, the default evaluation metric used with the objective 'binary:logistic' was changed from 'error' to 'logloss'. Explicitly set eval_metric if you'd like to restore the old behavior.\n",
      "[21:41:09] WARNING: /Users/travis/build/dmlc/xgboost/src/learner.cc:1061: Starting in XGBoost 1.3.0, the default evaluation metric used with the objective 'binary:logistic' was changed from 'error' to 'logloss'. Explicitly set eval_metric if you'd like to restore the old behavior.\n"
     ]
    },
    {
     "name": "stderr",
     "output_type": "stream",
     "text": [
      "/Users/t/.pyenv/versions/3.8.5/lib/python3.8/site-packages/xgboost/sklearn.py:888: UserWarning: The use of label encoder in XGBClassifier is deprecated and will be removed in a future release. To remove this warning, do the following: 1) Pass option use_label_encoder=False when constructing XGBClassifier object; and 2) Encode your labels (y) as integers starting with 0, i.e. 0, 1, 2, ..., [num_class - 1].\n",
      "  warnings.warn(label_encoder_deprecation_msg, UserWarning)\n"
     ]
    },
    {
     "name": "stdout",
     "output_type": "stream",
     "text": [
      "[21:41:09] WARNING: /Users/travis/build/dmlc/xgboost/src/learner.cc:1061: Starting in XGBoost 1.3.0, the default evaluation metric used with the objective 'binary:logistic' was changed from 'error' to 'logloss'. Explicitly set eval_metric if you'd like to restore the old behavior.\n",
      "[21:41:09] WARNING: /Users/travis/build/dmlc/xgboost/src/learner.cc:1061: Starting in XGBoost 1.3.0, the default evaluation metric used with the objective 'binary:logistic' was changed from 'error' to 'logloss'. Explicitly set eval_metric if you'd like to restore the old behavior.\n",
      "[21:41:09] WARNING: /Users/travis/build/dmlc/xgboost/src/learner.cc:1061: Starting in XGBoost 1.3.0, the default evaluation metric used with the objective 'binary:logistic' was changed from 'error' to 'logloss'. Explicitly set eval_metric if you'd like to restore the old behavior.\n"
     ]
    },
    {
     "name": "stderr",
     "output_type": "stream",
     "text": [
      "\u001b[32m[I 2021-01-03 21:41:09,318]\u001b[0m Trial 75 finished with value: 0.8314192849404117 and parameters: {'min_child_weight': 1, 'gamma': 0.8, 'subsample': 0.8, 'colsample_bytree': 0.5, 'max_depth': 4}. Best is trial 50 with value: 0.8427065891854625.\u001b[0m\n",
      "/Users/t/.pyenv/versions/3.8.5/lib/python3.8/site-packages/xgboost/sklearn.py:888: UserWarning: The use of label encoder in XGBClassifier is deprecated and will be removed in a future release. To remove this warning, do the following: 1) Pass option use_label_encoder=False when constructing XGBClassifier object; and 2) Encode your labels (y) as integers starting with 0, i.e. 0, 1, 2, ..., [num_class - 1].\n",
      "  warnings.warn(label_encoder_deprecation_msg, UserWarning)\n"
     ]
    },
    {
     "name": "stdout",
     "output_type": "stream",
     "text": [
      "[21:41:09] WARNING: /Users/travis/build/dmlc/xgboost/src/learner.cc:1061: Starting in XGBoost 1.3.0, the default evaluation metric used with the objective 'binary:logistic' was changed from 'error' to 'logloss'. Explicitly set eval_metric if you'd like to restore the old behavior.\n",
      "[21:41:09] WARNING: /Users/travis/build/dmlc/xgboost/src/learner.cc:1061: Starting in XGBoost 1.3.0, the default evaluation metric used with the objective 'binary:logistic' was changed from 'error' to 'logloss'. Explicitly set eval_metric if you'd like to restore the old behavior.\n",
      "[21:41:09] WARNING: /Users/travis/build/dmlc/xgboost/src/learner.cc:1061: Starting in XGBoost 1.3.0, the default evaluation metric used with the objective 'binary:logistic' was changed from 'error' to 'logloss'. Explicitly set eval_metric if you'd like to restore the old behavior.\n",
      "[21:41:09] WARNING: /Users/travis/build/dmlc/xgboost/src/learner.cc:1061: Starting in XGBoost 1.3.0, the default evaluation metric used with the objective 'binary:logistic' was changed from 'error' to 'logloss'. Explicitly set eval_metric if you'd like to restore the old behavior.\n"
     ]
    },
    {
     "name": "stderr",
     "output_type": "stream",
     "text": [
      "\u001b[32m[I 2021-01-03 21:41:09,652]\u001b[0m Trial 76 finished with value: 0.8356643356643356 and parameters: {'min_child_weight': 1, 'gamma': 0.9, 'subsample': 0.7, 'colsample_bytree': 0.5, 'max_depth': 3}. Best is trial 50 with value: 0.8427065891854625.\u001b[0m\n"
     ]
    },
    {
     "name": "stdout",
     "output_type": "stream",
     "text": [
      "[21:41:09] WARNING: /Users/travis/build/dmlc/xgboost/src/learner.cc:1061: Starting in XGBoost 1.3.0, the default evaluation metric used with the objective 'binary:logistic' was changed from 'error' to 'logloss'. Explicitly set eval_metric if you'd like to restore the old behavior.\n",
      "[21:41:09] WARNING: /Users/travis/build/dmlc/xgboost/src/learner.cc:1061: Starting in XGBoost 1.3.0, the default evaluation metric used with the objective 'binary:logistic' was changed from 'error' to 'logloss'. Explicitly set eval_metric if you'd like to restore the old behavior.\n",
      "[21:41:09] WARNING: /Users/travis/build/dmlc/xgboost/src/learner.cc:1061: Starting in XGBoost 1.3.0, the default evaluation metric used with the objective 'binary:logistic' was changed from 'error' to 'logloss'. Explicitly set eval_metric if you'd like to restore the old behavior.\n"
     ]
    },
    {
     "name": "stderr",
     "output_type": "stream",
     "text": [
      "/Users/t/.pyenv/versions/3.8.5/lib/python3.8/site-packages/xgboost/sklearn.py:888: UserWarning: The use of label encoder in XGBClassifier is deprecated and will be removed in a future release. To remove this warning, do the following: 1) Pass option use_label_encoder=False when constructing XGBClassifier object; and 2) Encode your labels (y) as integers starting with 0, i.e. 0, 1, 2, ..., [num_class - 1].\n",
      "  warnings.warn(label_encoder_deprecation_msg, UserWarning)\n",
      "\u001b[32m[I 2021-01-03 21:41:10,037]\u001b[0m Trial 77 finished with value: 0.841288289175613 and parameters: {'min_child_weight': 1, 'gamma': 1.0, 'subsample': 0.9, 'colsample_bytree': 0.5, 'max_depth': 4}. Best is trial 50 with value: 0.8427065891854625.\u001b[0m\n"
     ]
    },
    {
     "name": "stdout",
     "output_type": "stream",
     "text": [
      "[21:41:09] WARNING: /Users/travis/build/dmlc/xgboost/src/learner.cc:1061: Starting in XGBoost 1.3.0, the default evaluation metric used with the objective 'binary:logistic' was changed from 'error' to 'logloss'. Explicitly set eval_metric if you'd like to restore the old behavior.\n",
      "[21:41:09] WARNING: /Users/travis/build/dmlc/xgboost/src/learner.cc:1061: Starting in XGBoost 1.3.0, the default evaluation metric used with the objective 'binary:logistic' was changed from 'error' to 'logloss'. Explicitly set eval_metric if you'd like to restore the old behavior.\n",
      "[21:41:09] WARNING: /Users/travis/build/dmlc/xgboost/src/learner.cc:1061: Starting in XGBoost 1.3.0, the default evaluation metric used with the objective 'binary:logistic' was changed from 'error' to 'logloss'. Explicitly set eval_metric if you'd like to restore the old behavior.\n"
     ]
    },
    {
     "name": "stderr",
     "output_type": "stream",
     "text": [
      "/Users/t/.pyenv/versions/3.8.5/lib/python3.8/site-packages/xgboost/sklearn.py:888: UserWarning: The use of label encoder in XGBClassifier is deprecated and will be removed in a future release. To remove this warning, do the following: 1) Pass option use_label_encoder=False when constructing XGBClassifier object; and 2) Encode your labels (y) as integers starting with 0, i.e. 0, 1, 2, ..., [num_class - 1].\n",
      "  warnings.warn(label_encoder_deprecation_msg, UserWarning)\n"
     ]
    },
    {
     "name": "stdout",
     "output_type": "stream",
     "text": [
      "[21:41:10] WARNING: /Users/travis/build/dmlc/xgboost/src/learner.cc:1061: Starting in XGBoost 1.3.0, the default evaluation metric used with the objective 'binary:logistic' was changed from 'error' to 'logloss'. Explicitly set eval_metric if you'd like to restore the old behavior.\n",
      "[21:41:10] WARNING: /Users/travis/build/dmlc/xgboost/src/learner.cc:1061: Starting in XGBoost 1.3.0, the default evaluation metric used with the objective 'binary:logistic' was changed from 'error' to 'logloss'. Explicitly set eval_metric if you'd like to restore the old behavior.\n",
      "[21:41:10] WARNING: /Users/travis/build/dmlc/xgboost/src/learner.cc:1061: Starting in XGBoost 1.3.0, the default evaluation metric used with the objective 'binary:logistic' was changed from 'error' to 'logloss'. Explicitly set eval_metric if you'd like to restore the old behavior.\n",
      "[21:41:10] WARNING: /Users/travis/build/dmlc/xgboost/src/learner.cc:1061: Starting in XGBoost 1.3.0, the default evaluation metric used with the objective 'binary:logistic' was changed from 'error' to 'logloss'. Explicitly set eval_metric if you'd like to restore the old behavior.\n"
     ]
    },
    {
     "name": "stderr",
     "output_type": "stream",
     "text": [
      "\u001b[32m[I 2021-01-03 21:41:10,412]\u001b[0m Trial 78 finished with value: 0.8314882300797792 and parameters: {'min_child_weight': 1, 'gamma': 0.9, 'subsample': 0.8, 'colsample_bytree': 0.6, 'max_depth': 3}. Best is trial 50 with value: 0.8427065891854625.\u001b[0m\n"
     ]
    },
    {
     "name": "stdout",
     "output_type": "stream",
     "text": [
      "[21:41:10] WARNING: /Users/travis/build/dmlc/xgboost/src/learner.cc:1061: Starting in XGBoost 1.3.0, the default evaluation metric used with the objective 'binary:logistic' was changed from 'error' to 'logloss'. Explicitly set eval_metric if you'd like to restore the old behavior.\n",
      "[21:41:10] WARNING: /Users/travis/build/dmlc/xgboost/src/learner.cc:1061: Starting in XGBoost 1.3.0, the default evaluation metric used with the objective 'binary:logistic' was changed from 'error' to 'logloss'. Explicitly set eval_metric if you'd like to restore the old behavior.\n",
      "[21:41:10] WARNING: /Users/travis/build/dmlc/xgboost/src/learner.cc:1061: Starting in XGBoost 1.3.0, the default evaluation metric used with the objective 'binary:logistic' was changed from 'error' to 'logloss'. Explicitly set eval_metric if you'd like to restore the old behavior.\n",
      "[21:41:10] WARNING: /Users/travis/build/dmlc/xgboost/src/learner.cc:1061: Starting in XGBoost 1.3.0, the default evaluation metric used with the objective 'binary:logistic' was changed from 'error' to 'logloss'. Explicitly set eval_metric if you'd like to restore the old behavior.\n"
     ]
    },
    {
     "name": "stderr",
     "output_type": "stream",
     "text": [
      "/Users/t/.pyenv/versions/3.8.5/lib/python3.8/site-packages/xgboost/sklearn.py:888: UserWarning: The use of label encoder in XGBClassifier is deprecated and will be removed in a future release. To remove this warning, do the following: 1) Pass option use_label_encoder=False when constructing XGBClassifier object; and 2) Encode your labels (y) as integers starting with 0, i.e. 0, 1, 2, ..., [num_class - 1].\n",
      "  warnings.warn(label_encoder_deprecation_msg, UserWarning)\n",
      "\u001b[32m[I 2021-01-03 21:41:10,715]\u001b[0m Trial 79 finished with value: 0.834324830099478 and parameters: {'min_child_weight': 2, 'gamma': 0.8, 'subsample': 0.9, 'colsample_bytree': 0.5, 'max_depth': 3}. Best is trial 50 with value: 0.8427065891854625.\u001b[0m\n"
     ]
    },
    {
     "name": "stdout",
     "output_type": "stream",
     "text": [
      "[21:41:10] WARNING: /Users/travis/build/dmlc/xgboost/src/learner.cc:1061: Starting in XGBoost 1.3.0, the default evaluation metric used with the objective 'binary:logistic' was changed from 'error' to 'logloss'. Explicitly set eval_metric if you'd like to restore the old behavior.\n",
      "[21:41:10] WARNING: /Users/travis/build/dmlc/xgboost/src/learner.cc:1061: Starting in XGBoost 1.3.0, the default evaluation metric used with the objective 'binary:logistic' was changed from 'error' to 'logloss'. Explicitly set eval_metric if you'd like to restore the old behavior.\n",
      "[21:41:10] WARNING: /Users/travis/build/dmlc/xgboost/src/learner.cc:1061: Starting in XGBoost 1.3.0, the default evaluation metric used with the objective 'binary:logistic' was changed from 'error' to 'logloss'. Explicitly set eval_metric if you'd like to restore the old behavior.\n",
      "[21:41:10] WARNING: /Users/travis/build/dmlc/xgboost/src/learner.cc:1061: Starting in XGBoost 1.3.0, the default evaluation metric used with the objective 'binary:logistic' was changed from 'error' to 'logloss'. Explicitly set eval_metric if you'd like to restore the old behavior.\n"
     ]
    },
    {
     "name": "stderr",
     "output_type": "stream",
     "text": [
      "/Users/t/.pyenv/versions/3.8.5/lib/python3.8/site-packages/xgboost/sklearn.py:888: UserWarning: The use of label encoder in XGBClassifier is deprecated and will be removed in a future release. To remove this warning, do the following: 1) Pass option use_label_encoder=False when constructing XGBClassifier object; and 2) Encode your labels (y) as integers starting with 0, i.e. 0, 1, 2, ..., [num_class - 1].\n",
      "  warnings.warn(label_encoder_deprecation_msg, UserWarning)\n",
      "\u001b[32m[I 2021-01-03 21:41:11,096]\u001b[0m Trial 80 finished with value: 0.8342657342657344 and parameters: {'min_child_weight': 1, 'gamma': 1.0, 'subsample': 0.8, 'colsample_bytree': 0.5, 'max_depth': 4}. Best is trial 50 with value: 0.8427065891854625.\u001b[0m\n"
     ]
    },
    {
     "name": "stdout",
     "output_type": "stream",
     "text": [
      "[21:41:10] WARNING: /Users/travis/build/dmlc/xgboost/src/learner.cc:1061: Starting in XGBoost 1.3.0, the default evaluation metric used with the objective 'binary:logistic' was changed from 'error' to 'logloss'. Explicitly set eval_metric if you'd like to restore the old behavior.\n",
      "[21:41:10] WARNING: /Users/travis/build/dmlc/xgboost/src/learner.cc:1061: Starting in XGBoost 1.3.0, the default evaluation metric used with the objective 'binary:logistic' was changed from 'error' to 'logloss'. Explicitly set eval_metric if you'd like to restore the old behavior.\n",
      "[21:41:11] WARNING: /Users/travis/build/dmlc/xgboost/src/learner.cc:1061: Starting in XGBoost 1.3.0, the default evaluation metric used with the objective 'binary:logistic' was changed from 'error' to 'logloss'. Explicitly set eval_metric if you'd like to restore the old behavior.\n"
     ]
    },
    {
     "name": "stderr",
     "output_type": "stream",
     "text": [
      "/Users/t/.pyenv/versions/3.8.5/lib/python3.8/site-packages/xgboost/sklearn.py:888: UserWarning: The use of label encoder in XGBClassifier is deprecated and will be removed in a future release. To remove this warning, do the following: 1) Pass option use_label_encoder=False when constructing XGBClassifier object; and 2) Encode your labels (y) as integers starting with 0, i.e. 0, 1, 2, ..., [num_class - 1].\n",
      "  warnings.warn(label_encoder_deprecation_msg, UserWarning)\n"
     ]
    },
    {
     "name": "stdout",
     "output_type": "stream",
     "text": [
      "[21:41:11] WARNING: /Users/travis/build/dmlc/xgboost/src/learner.cc:1061: Starting in XGBoost 1.3.0, the default evaluation metric used with the objective 'binary:logistic' was changed from 'error' to 'logloss'. Explicitly set eval_metric if you'd like to restore the old behavior.\n",
      "[21:41:11] WARNING: /Users/travis/build/dmlc/xgboost/src/learner.cc:1061: Starting in XGBoost 1.3.0, the default evaluation metric used with the objective 'binary:logistic' was changed from 'error' to 'logloss'. Explicitly set eval_metric if you'd like to restore the old behavior.\n",
      "[21:41:11] WARNING: /Users/travis/build/dmlc/xgboost/src/learner.cc:1061: Starting in XGBoost 1.3.0, the default evaluation metric used with the objective 'binary:logistic' was changed from 'error' to 'logloss'. Explicitly set eval_metric if you'd like to restore the old behavior.\n",
      "[21:41:11] WARNING: /Users/travis/build/dmlc/xgboost/src/learner.cc:1061: Starting in XGBoost 1.3.0, the default evaluation metric used with the objective 'binary:logistic' was changed from 'error' to 'logloss'. Explicitly set eval_metric if you'd like to restore the old behavior.\n"
     ]
    },
    {
     "name": "stderr",
     "output_type": "stream",
     "text": [
      "\u001b[32m[I 2021-01-03 21:41:11,421]\u001b[0m Trial 81 finished with value: 0.8427065891854625 and parameters: {'min_child_weight': 1, 'gamma': 0.9, 'subsample': 0.8, 'colsample_bytree': 0.5, 'max_depth': 3}. Best is trial 50 with value: 0.8427065891854625.\u001b[0m\n"
     ]
    },
    {
     "name": "stdout",
     "output_type": "stream",
     "text": [
      "[21:41:11] WARNING: /Users/travis/build/dmlc/xgboost/src/learner.cc:1061: Starting in XGBoost 1.3.0, the default evaluation metric used with the objective 'binary:logistic' was changed from 'error' to 'logloss'. Explicitly set eval_metric if you'd like to restore the old behavior.\n",
      "[21:41:11] WARNING: /Users/travis/build/dmlc/xgboost/src/learner.cc:1061: Starting in XGBoost 1.3.0, the default evaluation metric used with the objective 'binary:logistic' was changed from 'error' to 'logloss'. Explicitly set eval_metric if you'd like to restore the old behavior.\n",
      "[21:41:11] WARNING: /Users/travis/build/dmlc/xgboost/src/learner.cc:1061: Starting in XGBoost 1.3.0, the default evaluation metric used with the objective 'binary:logistic' was changed from 'error' to 'logloss'. Explicitly set eval_metric if you'd like to restore the old behavior.\n"
     ]
    },
    {
     "name": "stderr",
     "output_type": "stream",
     "text": [
      "/Users/t/.pyenv/versions/3.8.5/lib/python3.8/site-packages/xgboost/sklearn.py:888: UserWarning: The use of label encoder in XGBClassifier is deprecated and will be removed in a future release. To remove this warning, do the following: 1) Pass option use_label_encoder=False when constructing XGBClassifier object; and 2) Encode your labels (y) as integers starting with 0, i.e. 0, 1, 2, ..., [num_class - 1].\n",
      "  warnings.warn(label_encoder_deprecation_msg, UserWarning)\n",
      "\u001b[32m[I 2021-01-03 21:41:11,728]\u001b[0m Trial 82 finished with value: 0.8427065891854625 and parameters: {'min_child_weight': 1, 'gamma': 0.9, 'subsample': 0.8, 'colsample_bytree': 0.5, 'max_depth': 3}. Best is trial 50 with value: 0.8427065891854625.\u001b[0m\n"
     ]
    },
    {
     "name": "stdout",
     "output_type": "stream",
     "text": [
      "[21:41:11] WARNING: /Users/travis/build/dmlc/xgboost/src/learner.cc:1061: Starting in XGBoost 1.3.0, the default evaluation metric used with the objective 'binary:logistic' was changed from 'error' to 'logloss'. Explicitly set eval_metric if you'd like to restore the old behavior.\n",
      "[21:41:11] WARNING: /Users/travis/build/dmlc/xgboost/src/learner.cc:1061: Starting in XGBoost 1.3.0, the default evaluation metric used with the objective 'binary:logistic' was changed from 'error' to 'logloss'. Explicitly set eval_metric if you'd like to restore the old behavior.\n",
      "[21:41:11] WARNING: /Users/travis/build/dmlc/xgboost/src/learner.cc:1061: Starting in XGBoost 1.3.0, the default evaluation metric used with the objective 'binary:logistic' was changed from 'error' to 'logloss'. Explicitly set eval_metric if you'd like to restore the old behavior.\n",
      "[21:41:11] WARNING: /Users/travis/build/dmlc/xgboost/src/learner.cc:1061: Starting in XGBoost 1.3.0, the default evaluation metric used with the objective 'binary:logistic' was changed from 'error' to 'logloss'. Explicitly set eval_metric if you'd like to restore the old behavior.\n"
     ]
    },
    {
     "name": "stderr",
     "output_type": "stream",
     "text": [
      "/Users/t/.pyenv/versions/3.8.5/lib/python3.8/site-packages/xgboost/sklearn.py:888: UserWarning: The use of label encoder in XGBClassifier is deprecated and will be removed in a future release. To remove this warning, do the following: 1) Pass option use_label_encoder=False when constructing XGBClassifier object; and 2) Encode your labels (y) as integers starting with 0, i.e. 0, 1, 2, ..., [num_class - 1].\n",
      "  warnings.warn(label_encoder_deprecation_msg, UserWarning)\n"
     ]
    },
    {
     "name": "stdout",
     "output_type": "stream",
     "text": [
      "[21:41:11] WARNING: /Users/travis/build/dmlc/xgboost/src/learner.cc:1061: Starting in XGBoost 1.3.0, the default evaluation metric used with the objective 'binary:logistic' was changed from 'error' to 'logloss'. Explicitly set eval_metric if you'd like to restore the old behavior.\n",
      "[21:41:11] WARNING: /Users/travis/build/dmlc/xgboost/src/learner.cc:1061: Starting in XGBoost 1.3.0, the default evaluation metric used with the objective 'binary:logistic' was changed from 'error' to 'logloss'. Explicitly set eval_metric if you'd like to restore the old behavior.\n",
      "[21:41:11] WARNING: /Users/travis/build/dmlc/xgboost/src/learner.cc:1061: Starting in XGBoost 1.3.0, the default evaluation metric used with the objective 'binary:logistic' was changed from 'error' to 'logloss'. Explicitly set eval_metric if you'd like to restore the old behavior.\n",
      "[21:41:12] WARNING: /Users/travis/build/dmlc/xgboost/src/learner.cc:1061: Starting in XGBoost 1.3.0, the default evaluation metric used with the objective 'binary:logistic' was changed from 'error' to 'logloss'. Explicitly set eval_metric if you'd like to restore the old behavior.\n"
     ]
    },
    {
     "name": "stderr",
     "output_type": "stream",
     "text": [
      "\u001b[32m[I 2021-01-03 21:41:12,058]\u001b[0m Trial 83 finished with value: 0.8427065891854625 and parameters: {'min_child_weight': 1, 'gamma': 0.9, 'subsample': 0.8, 'colsample_bytree': 0.5, 'max_depth': 3}. Best is trial 50 with value: 0.8427065891854625.\u001b[0m\n",
      "/Users/t/.pyenv/versions/3.8.5/lib/python3.8/site-packages/xgboost/sklearn.py:888: UserWarning: The use of label encoder in XGBClassifier is deprecated and will be removed in a future release. To remove this warning, do the following: 1) Pass option use_label_encoder=False when constructing XGBClassifier object; and 2) Encode your labels (y) as integers starting with 0, i.e. 0, 1, 2, ..., [num_class - 1].\n",
      "  warnings.warn(label_encoder_deprecation_msg, UserWarning)\n"
     ]
    },
    {
     "name": "stdout",
     "output_type": "stream",
     "text": [
      "[21:41:12] WARNING: /Users/travis/build/dmlc/xgboost/src/learner.cc:1061: Starting in XGBoost 1.3.0, the default evaluation metric used with the objective 'binary:logistic' was changed from 'error' to 'logloss'. Explicitly set eval_metric if you'd like to restore the old behavior.\n",
      "[21:41:12] WARNING: /Users/travis/build/dmlc/xgboost/src/learner.cc:1061: Starting in XGBoost 1.3.0, the default evaluation metric used with the objective 'binary:logistic' was changed from 'error' to 'logloss'. Explicitly set eval_metric if you'd like to restore the old behavior.\n",
      "[21:41:12] WARNING: /Users/travis/build/dmlc/xgboost/src/learner.cc:1061: Starting in XGBoost 1.3.0, the default evaluation metric used with the objective 'binary:logistic' was changed from 'error' to 'logloss'. Explicitly set eval_metric if you'd like to restore the old behavior.\n",
      "[21:41:12] WARNING: /Users/travis/build/dmlc/xgboost/src/learner.cc:1061: Starting in XGBoost 1.3.0, the default evaluation metric used with the objective 'binary:logistic' was changed from 'error' to 'logloss'. Explicitly set eval_metric if you'd like to restore the old behavior.\n"
     ]
    },
    {
     "name": "stderr",
     "output_type": "stream",
     "text": [
      "\u001b[32m[I 2021-01-03 21:41:12,397]\u001b[0m Trial 84 finished with value: 0.8314980793854033 and parameters: {'min_child_weight': 1, 'gamma': 0.8, 'subsample': 0.8, 'colsample_bytree': 0.6, 'max_depth': 3}. Best is trial 50 with value: 0.8427065891854625.\u001b[0m\n"
     ]
    },
    {
     "name": "stdout",
     "output_type": "stream",
     "text": [
      "[21:41:12] WARNING: /Users/travis/build/dmlc/xgboost/src/learner.cc:1061: Starting in XGBoost 1.3.0, the default evaluation metric used with the objective 'binary:logistic' was changed from 'error' to 'logloss'. Explicitly set eval_metric if you'd like to restore the old behavior.\n",
      "[21:41:12] WARNING: /Users/travis/build/dmlc/xgboost/src/learner.cc:1061: Starting in XGBoost 1.3.0, the default evaluation metric used with the objective 'binary:logistic' was changed from 'error' to 'logloss'. Explicitly set eval_metric if you'd like to restore the old behavior.\n",
      "[21:41:12] WARNING: /Users/travis/build/dmlc/xgboost/src/learner.cc:1061: Starting in XGBoost 1.3.0, the default evaluation metric used with the objective 'binary:logistic' was changed from 'error' to 'logloss'. Explicitly set eval_metric if you'd like to restore the old behavior.\n",
      "[21:41:12] WARNING: /Users/travis/build/dmlc/xgboost/src/learner.cc:1061: Starting in XGBoost 1.3.0, the default evaluation metric used with the objective 'binary:logistic' was changed from 'error' to 'logloss'. Explicitly set eval_metric if you'd like to restore the old behavior.\n"
     ]
    },
    {
     "name": "stderr",
     "output_type": "stream",
     "text": [
      "/Users/t/.pyenv/versions/3.8.5/lib/python3.8/site-packages/xgboost/sklearn.py:888: UserWarning: The use of label encoder in XGBClassifier is deprecated and will be removed in a future release. To remove this warning, do the following: 1) Pass option use_label_encoder=False when constructing XGBClassifier object; and 2) Encode your labels (y) as integers starting with 0, i.e. 0, 1, 2, ..., [num_class - 1].\n",
      "  warnings.warn(label_encoder_deprecation_msg, UserWarning)\n",
      "\u001b[32m[I 2021-01-03 21:41:12,701]\u001b[0m Trial 85 finished with value: 0.8427065891854625 and parameters: {'min_child_weight': 1, 'gamma': 0.9, 'subsample': 0.8, 'colsample_bytree': 0.5, 'max_depth': 3}. Best is trial 50 with value: 0.8427065891854625.\u001b[0m\n"
     ]
    },
    {
     "name": "stdout",
     "output_type": "stream",
     "text": [
      "[21:41:12] WARNING: /Users/travis/build/dmlc/xgboost/src/learner.cc:1061: Starting in XGBoost 1.3.0, the default evaluation metric used with the objective 'binary:logistic' was changed from 'error' to 'logloss'. Explicitly set eval_metric if you'd like to restore the old behavior.\n",
      "[21:41:12] WARNING: /Users/travis/build/dmlc/xgboost/src/learner.cc:1061: Starting in XGBoost 1.3.0, the default evaluation metric used with the objective 'binary:logistic' was changed from 'error' to 'logloss'. Explicitly set eval_metric if you'd like to restore the old behavior.\n",
      "[21:41:12] WARNING: /Users/travis/build/dmlc/xgboost/src/learner.cc:1061: Starting in XGBoost 1.3.0, the default evaluation metric used with the objective 'binary:logistic' was changed from 'error' to 'logloss'. Explicitly set eval_metric if you'd like to restore the old behavior.\n",
      "[21:41:12] WARNING: /Users/travis/build/dmlc/xgboost/src/learner.cc:1061: Starting in XGBoost 1.3.0, the default evaluation metric used with the objective 'binary:logistic' was changed from 'error' to 'logloss'. Explicitly set eval_metric if you'd like to restore the old behavior.\n"
     ]
    },
    {
     "name": "stderr",
     "output_type": "stream",
     "text": [
      "/Users/t/.pyenv/versions/3.8.5/lib/python3.8/site-packages/xgboost/sklearn.py:888: UserWarning: The use of label encoder in XGBClassifier is deprecated and will be removed in a future release. To remove this warning, do the following: 1) Pass option use_label_encoder=False when constructing XGBClassifier object; and 2) Encode your labels (y) as integers starting with 0, i.e. 0, 1, 2, ..., [num_class - 1].\n",
      "  warnings.warn(label_encoder_deprecation_msg, UserWarning)\n",
      "\u001b[32m[I 2021-01-03 21:41:13,021]\u001b[0m Trial 86 finished with value: 0.8314980793854033 and parameters: {'min_child_weight': 1, 'gamma': 1.0, 'subsample': 0.8, 'colsample_bytree': 0.5, 'max_depth': 3}. Best is trial 50 with value: 0.8427065891854625.\u001b[0m\n"
     ]
    },
    {
     "name": "stdout",
     "output_type": "stream",
     "text": [
      "[21:41:12] WARNING: /Users/travis/build/dmlc/xgboost/src/learner.cc:1061: Starting in XGBoost 1.3.0, the default evaluation metric used with the objective 'binary:logistic' was changed from 'error' to 'logloss'. Explicitly set eval_metric if you'd like to restore the old behavior.\n",
      "[21:41:12] WARNING: /Users/travis/build/dmlc/xgboost/src/learner.cc:1061: Starting in XGBoost 1.3.0, the default evaluation metric used with the objective 'binary:logistic' was changed from 'error' to 'logloss'. Explicitly set eval_metric if you'd like to restore the old behavior.\n",
      "[21:41:12] WARNING: /Users/travis/build/dmlc/xgboost/src/learner.cc:1061: Starting in XGBoost 1.3.0, the default evaluation metric used with the objective 'binary:logistic' was changed from 'error' to 'logloss'. Explicitly set eval_metric if you'd like to restore the old behavior.\n"
     ]
    },
    {
     "name": "stderr",
     "output_type": "stream",
     "text": [
      "/Users/t/.pyenv/versions/3.8.5/lib/python3.8/site-packages/xgboost/sklearn.py:888: UserWarning: The use of label encoder in XGBClassifier is deprecated and will be removed in a future release. To remove this warning, do the following: 1) Pass option use_label_encoder=False when constructing XGBClassifier object; and 2) Encode your labels (y) as integers starting with 0, i.e. 0, 1, 2, ..., [num_class - 1].\n",
      "  warnings.warn(label_encoder_deprecation_msg, UserWarning)\n"
     ]
    },
    {
     "name": "stdout",
     "output_type": "stream",
     "text": [
      "[21:41:13] WARNING: /Users/travis/build/dmlc/xgboost/src/learner.cc:1061: Starting in XGBoost 1.3.0, the default evaluation metric used with the objective 'binary:logistic' was changed from 'error' to 'logloss'. Explicitly set eval_metric if you'd like to restore the old behavior.\n",
      "[21:41:13] WARNING: /Users/travis/build/dmlc/xgboost/src/learner.cc:1061: Starting in XGBoost 1.3.0, the default evaluation metric used with the objective 'binary:logistic' was changed from 'error' to 'logloss'. Explicitly set eval_metric if you'd like to restore the old behavior.\n",
      "[21:41:13] WARNING: /Users/travis/build/dmlc/xgboost/src/learner.cc:1061: Starting in XGBoost 1.3.0, the default evaluation metric used with the objective 'binary:logistic' was changed from 'error' to 'logloss'. Explicitly set eval_metric if you'd like to restore the old behavior.\n",
      "[21:41:13] WARNING: /Users/travis/build/dmlc/xgboost/src/learner.cc:1061: Starting in XGBoost 1.3.0, the default evaluation metric used with the objective 'binary:logistic' was changed from 'error' to 'logloss'. Explicitly set eval_metric if you'd like to restore the old behavior.\n"
     ]
    },
    {
     "name": "stderr",
     "output_type": "stream",
     "text": [
      "\u001b[32m[I 2021-01-03 21:41:13,365]\u001b[0m Trial 87 finished with value: 0.8286417807544568 and parameters: {'min_child_weight': 1, 'gamma': 0.8, 'subsample': 0.7, 'colsample_bytree': 0.5, 'max_depth': 4}. Best is trial 50 with value: 0.8427065891854625.\u001b[0m\n"
     ]
    },
    {
     "name": "stdout",
     "output_type": "stream",
     "text": [
      "[21:41:13] WARNING: /Users/travis/build/dmlc/xgboost/src/learner.cc:1061: Starting in XGBoost 1.3.0, the default evaluation metric used with the objective 'binary:logistic' was changed from 'error' to 'logloss'. Explicitly set eval_metric if you'd like to restore the old behavior.\n",
      "[21:41:13] WARNING: /Users/travis/build/dmlc/xgboost/src/learner.cc:1061: Starting in XGBoost 1.3.0, the default evaluation metric used with the objective 'binary:logistic' was changed from 'error' to 'logloss'. Explicitly set eval_metric if you'd like to restore the old behavior.\n",
      "[21:41:13] WARNING: /Users/travis/build/dmlc/xgboost/src/learner.cc:1061: Starting in XGBoost 1.3.0, the default evaluation metric used with the objective 'binary:logistic' was changed from 'error' to 'logloss'. Explicitly set eval_metric if you'd like to restore the old behavior.\n"
     ]
    },
    {
     "name": "stderr",
     "output_type": "stream",
     "text": [
      "/Users/t/.pyenv/versions/3.8.5/lib/python3.8/site-packages/xgboost/sklearn.py:888: UserWarning: The use of label encoder in XGBClassifier is deprecated and will be removed in a future release. To remove this warning, do the following: 1) Pass option use_label_encoder=False when constructing XGBClassifier object; and 2) Encode your labels (y) as integers starting with 0, i.e. 0, 1, 2, ..., [num_class - 1].\n",
      "  warnings.warn(label_encoder_deprecation_msg, UserWarning)\n",
      "\u001b[32m[I 2021-01-03 21:41:13,673]\u001b[0m Trial 88 finished with value: 0.8427065891854625 and parameters: {'min_child_weight': 1, 'gamma': 0.9, 'subsample': 0.8, 'colsample_bytree': 0.5, 'max_depth': 3}. Best is trial 50 with value: 0.8427065891854625.\u001b[0m\n"
     ]
    },
    {
     "name": "stdout",
     "output_type": "stream",
     "text": [
      "[21:41:13] WARNING: /Users/travis/build/dmlc/xgboost/src/learner.cc:1061: Starting in XGBoost 1.3.0, the default evaluation metric used with the objective 'binary:logistic' was changed from 'error' to 'logloss'. Explicitly set eval_metric if you'd like to restore the old behavior.\n",
      "[21:41:13] WARNING: /Users/travis/build/dmlc/xgboost/src/learner.cc:1061: Starting in XGBoost 1.3.0, the default evaluation metric used with the objective 'binary:logistic' was changed from 'error' to 'logloss'. Explicitly set eval_metric if you'd like to restore the old behavior.\n",
      "[21:41:13] WARNING: /Users/travis/build/dmlc/xgboost/src/learner.cc:1061: Starting in XGBoost 1.3.0, the default evaluation metric used with the objective 'binary:logistic' was changed from 'error' to 'logloss'. Explicitly set eval_metric if you'd like to restore the old behavior.\n",
      "[21:41:13] WARNING: /Users/travis/build/dmlc/xgboost/src/learner.cc:1061: Starting in XGBoost 1.3.0, the default evaluation metric used with the objective 'binary:logistic' was changed from 'error' to 'logloss'. Explicitly set eval_metric if you'd like to restore the old behavior.\n"
     ]
    },
    {
     "name": "stderr",
     "output_type": "stream",
     "text": [
      "/Users/t/.pyenv/versions/3.8.5/lib/python3.8/site-packages/xgboost/sklearn.py:888: UserWarning: The use of label encoder in XGBClassifier is deprecated and will be removed in a future release. To remove this warning, do the following: 1) Pass option use_label_encoder=False when constructing XGBClassifier object; and 2) Encode your labels (y) as integers starting with 0, i.e. 0, 1, 2, ..., [num_class - 1].\n",
      "  warnings.warn(label_encoder_deprecation_msg, UserWarning)\n"
     ]
    },
    {
     "name": "stdout",
     "output_type": "stream",
     "text": [
      "[21:41:13] WARNING: /Users/travis/build/dmlc/xgboost/src/learner.cc:1061: Starting in XGBoost 1.3.0, the default evaluation metric used with the objective 'binary:logistic' was changed from 'error' to 'logloss'. Explicitly set eval_metric if you'd like to restore the old behavior.\n",
      "[21:41:13] WARNING: /Users/travis/build/dmlc/xgboost/src/learner.cc:1061: Starting in XGBoost 1.3.0, the default evaluation metric used with the objective 'binary:logistic' was changed from 'error' to 'logloss'. Explicitly set eval_metric if you'd like to restore the old behavior.\n",
      "[21:41:13] WARNING: /Users/travis/build/dmlc/xgboost/src/learner.cc:1061: Starting in XGBoost 1.3.0, the default evaluation metric used with the objective 'binary:logistic' was changed from 'error' to 'logloss'. Explicitly set eval_metric if you'd like to restore the old behavior.\n",
      "[21:41:13] WARNING: /Users/travis/build/dmlc/xgboost/src/learner.cc:1061: Starting in XGBoost 1.3.0, the default evaluation metric used with the objective 'binary:logistic' was changed from 'error' to 'logloss'. Explicitly set eval_metric if you'd like to restore the old behavior.\n"
     ]
    },
    {
     "name": "stderr",
     "output_type": "stream",
     "text": [
      "\u001b[32m[I 2021-01-03 21:41:13,961]\u001b[0m Trial 89 finished with value: 0.8231261696050429 and parameters: {'min_child_weight': 2, 'gamma': 1.0, 'subsample': 0.9, 'colsample_bytree': 0.6, 'max_depth': 3}. Best is trial 50 with value: 0.8427065891854625.\u001b[0m\n",
      "/Users/t/.pyenv/versions/3.8.5/lib/python3.8/site-packages/xgboost/sklearn.py:888: UserWarning: The use of label encoder in XGBClassifier is deprecated and will be removed in a future release. To remove this warning, do the following: 1) Pass option use_label_encoder=False when constructing XGBClassifier object; and 2) Encode your labels (y) as integers starting with 0, i.e. 0, 1, 2, ..., [num_class - 1].\n",
      "  warnings.warn(label_encoder_deprecation_msg, UserWarning)\n"
     ]
    },
    {
     "name": "stdout",
     "output_type": "stream",
     "text": [
      "[21:41:13] WARNING: /Users/travis/build/dmlc/xgboost/src/learner.cc:1061: Starting in XGBoost 1.3.0, the default evaluation metric used with the objective 'binary:logistic' was changed from 'error' to 'logloss'. Explicitly set eval_metric if you'd like to restore the old behavior.\n",
      "[21:41:14] WARNING: /Users/travis/build/dmlc/xgboost/src/learner.cc:1061: Starting in XGBoost 1.3.0, the default evaluation metric used with the objective 'binary:logistic' was changed from 'error' to 'logloss'. Explicitly set eval_metric if you'd like to restore the old behavior.\n",
      "[21:41:14] WARNING: /Users/travis/build/dmlc/xgboost/src/learner.cc:1061: Starting in XGBoost 1.3.0, the default evaluation metric used with the objective 'binary:logistic' was changed from 'error' to 'logloss'. Explicitly set eval_metric if you'd like to restore the old behavior.\n"
     ]
    },
    {
     "name": "stderr",
     "output_type": "stream",
     "text": [
      "\u001b[32m[I 2021-01-03 21:41:14,320]\u001b[0m Trial 90 finished with value: 0.8370727863685611 and parameters: {'min_child_weight': 1, 'gamma': 0.9, 'subsample': 0.8, 'colsample_bytree': 0.5, 'max_depth': 4}. Best is trial 50 with value: 0.8427065891854625.\u001b[0m\n"
     ]
    },
    {
     "name": "stdout",
     "output_type": "stream",
     "text": [
      "[21:41:14] WARNING: /Users/travis/build/dmlc/xgboost/src/learner.cc:1061: Starting in XGBoost 1.3.0, the default evaluation metric used with the objective 'binary:logistic' was changed from 'error' to 'logloss'. Explicitly set eval_metric if you'd like to restore the old behavior.\n",
      "[21:41:14] WARNING: /Users/travis/build/dmlc/xgboost/src/learner.cc:1061: Starting in XGBoost 1.3.0, the default evaluation metric used with the objective 'binary:logistic' was changed from 'error' to 'logloss'. Explicitly set eval_metric if you'd like to restore the old behavior.\n",
      "[21:41:14] WARNING: /Users/travis/build/dmlc/xgboost/src/learner.cc:1061: Starting in XGBoost 1.3.0, the default evaluation metric used with the objective 'binary:logistic' was changed from 'error' to 'logloss'. Explicitly set eval_metric if you'd like to restore the old behavior.\n",
      "[21:41:14] WARNING: /Users/travis/build/dmlc/xgboost/src/learner.cc:1061: Starting in XGBoost 1.3.0, the default evaluation metric used with the objective 'binary:logistic' was changed from 'error' to 'logloss'. Explicitly set eval_metric if you'd like to restore the old behavior.\n"
     ]
    },
    {
     "name": "stderr",
     "output_type": "stream",
     "text": [
      "/Users/t/.pyenv/versions/3.8.5/lib/python3.8/site-packages/xgboost/sklearn.py:888: UserWarning: The use of label encoder in XGBClassifier is deprecated and will be removed in a future release. To remove this warning, do the following: 1) Pass option use_label_encoder=False when constructing XGBClassifier object; and 2) Encode your labels (y) as integers starting with 0, i.e. 0, 1, 2, ..., [num_class - 1].\n",
      "  warnings.warn(label_encoder_deprecation_msg, UserWarning)\n",
      "\u001b[32m[I 2021-01-03 21:41:14,654]\u001b[0m Trial 91 finished with value: 0.8427065891854625 and parameters: {'min_child_weight': 1, 'gamma': 0.9, 'subsample': 0.8, 'colsample_bytree': 0.5, 'max_depth': 3}. Best is trial 50 with value: 0.8427065891854625.\u001b[0m\n"
     ]
    },
    {
     "name": "stdout",
     "output_type": "stream",
     "text": [
      "[21:41:14] WARNING: /Users/travis/build/dmlc/xgboost/src/learner.cc:1061: Starting in XGBoost 1.3.0, the default evaluation metric used with the objective 'binary:logistic' was changed from 'error' to 'logloss'. Explicitly set eval_metric if you'd like to restore the old behavior.\n",
      "[21:41:14] WARNING: /Users/travis/build/dmlc/xgboost/src/learner.cc:1061: Starting in XGBoost 1.3.0, the default evaluation metric used with the objective 'binary:logistic' was changed from 'error' to 'logloss'. Explicitly set eval_metric if you'd like to restore the old behavior.\n",
      "[21:41:14] WARNING: /Users/travis/build/dmlc/xgboost/src/learner.cc:1061: Starting in XGBoost 1.3.0, the default evaluation metric used with the objective 'binary:logistic' was changed from 'error' to 'logloss'. Explicitly set eval_metric if you'd like to restore the old behavior.\n"
     ]
    },
    {
     "name": "stderr",
     "output_type": "stream",
     "text": [
      "/Users/t/.pyenv/versions/3.8.5/lib/python3.8/site-packages/xgboost/sklearn.py:888: UserWarning: The use of label encoder in XGBClassifier is deprecated and will be removed in a future release. To remove this warning, do the following: 1) Pass option use_label_encoder=False when constructing XGBClassifier object; and 2) Encode your labels (y) as integers starting with 0, i.e. 0, 1, 2, ..., [num_class - 1].\n",
      "  warnings.warn(label_encoder_deprecation_msg, UserWarning)\n"
     ]
    },
    {
     "name": "stdout",
     "output_type": "stream",
     "text": [
      "[21:41:14] WARNING: /Users/travis/build/dmlc/xgboost/src/learner.cc:1061: Starting in XGBoost 1.3.0, the default evaluation metric used with the objective 'binary:logistic' was changed from 'error' to 'logloss'. Explicitly set eval_metric if you'd like to restore the old behavior.\n",
      "[21:41:14] WARNING: /Users/travis/build/dmlc/xgboost/src/learner.cc:1061: Starting in XGBoost 1.3.0, the default evaluation metric used with the objective 'binary:logistic' was changed from 'error' to 'logloss'. Explicitly set eval_metric if you'd like to restore the old behavior.\n",
      "[21:41:14] WARNING: /Users/travis/build/dmlc/xgboost/src/learner.cc:1061: Starting in XGBoost 1.3.0, the default evaluation metric used with the objective 'binary:logistic' was changed from 'error' to 'logloss'. Explicitly set eval_metric if you'd like to restore the old behavior.\n",
      "[21:41:14] WARNING: /Users/travis/build/dmlc/xgboost/src/learner.cc:1061: Starting in XGBoost 1.3.0, the default evaluation metric used with the objective 'binary:logistic' was changed from 'error' to 'logloss'. Explicitly set eval_metric if you'd like to restore the old behavior.\n"
     ]
    },
    {
     "name": "stderr",
     "output_type": "stream",
     "text": [
      "\u001b[32m[I 2021-01-03 21:41:14,937]\u001b[0m Trial 92 finished with value: 0.8427065891854625 and parameters: {'min_child_weight': 1, 'gamma': 0.9, 'subsample': 0.8, 'colsample_bytree': 0.5, 'max_depth': 3}. Best is trial 50 with value: 0.8427065891854625.\u001b[0m\n"
     ]
    },
    {
     "name": "stdout",
     "output_type": "stream",
     "text": [
      "[21:41:14] WARNING: /Users/travis/build/dmlc/xgboost/src/learner.cc:1061: Starting in XGBoost 1.3.0, the default evaluation metric used with the objective 'binary:logistic' was changed from 'error' to 'logloss'. Explicitly set eval_metric if you'd like to restore the old behavior.\n",
      "[21:41:14] WARNING: /Users/travis/build/dmlc/xgboost/src/learner.cc:1061: Starting in XGBoost 1.3.0, the default evaluation metric used with the objective 'binary:logistic' was changed from 'error' to 'logloss'. Explicitly set eval_metric if you'd like to restore the old behavior.\n",
      "[21:41:15] WARNING: /Users/travis/build/dmlc/xgboost/src/learner.cc:1061: Starting in XGBoost 1.3.0, the default evaluation metric used with the objective 'binary:logistic' was changed from 'error' to 'logloss'. Explicitly set eval_metric if you'd like to restore the old behavior.\n"
     ]
    },
    {
     "name": "stderr",
     "output_type": "stream",
     "text": [
      "/Users/t/.pyenv/versions/3.8.5/lib/python3.8/site-packages/xgboost/sklearn.py:888: UserWarning: The use of label encoder in XGBClassifier is deprecated and will be removed in a future release. To remove this warning, do the following: 1) Pass option use_label_encoder=False when constructing XGBClassifier object; and 2) Encode your labels (y) as integers starting with 0, i.e. 0, 1, 2, ..., [num_class - 1].\n",
      "  warnings.warn(label_encoder_deprecation_msg, UserWarning)\n",
      "\u001b[32m[I 2021-01-03 21:41:15,309]\u001b[0m Trial 93 finished with value: 0.8427065891854625 and parameters: {'min_child_weight': 1, 'gamma': 0.9, 'subsample': 0.8, 'colsample_bytree': 0.5, 'max_depth': 3}. Best is trial 50 with value: 0.8427065891854625.\u001b[0m\n"
     ]
    },
    {
     "name": "stdout",
     "output_type": "stream",
     "text": [
      "[21:41:15] WARNING: /Users/travis/build/dmlc/xgboost/src/learner.cc:1061: Starting in XGBoost 1.3.0, the default evaluation metric used with the objective 'binary:logistic' was changed from 'error' to 'logloss'. Explicitly set eval_metric if you'd like to restore the old behavior.\n",
      "[21:41:15] WARNING: /Users/travis/build/dmlc/xgboost/src/learner.cc:1061: Starting in XGBoost 1.3.0, the default evaluation metric used with the objective 'binary:logistic' was changed from 'error' to 'logloss'. Explicitly set eval_metric if you'd like to restore the old behavior.\n",
      "[21:41:15] WARNING: /Users/travis/build/dmlc/xgboost/src/learner.cc:1061: Starting in XGBoost 1.3.0, the default evaluation metric used with the objective 'binary:logistic' was changed from 'error' to 'logloss'. Explicitly set eval_metric if you'd like to restore the old behavior.\n",
      "[21:41:15] WARNING: /Users/travis/build/dmlc/xgboost/src/learner.cc:1061: Starting in XGBoost 1.3.0, the default evaluation metric used with the objective 'binary:logistic' was changed from 'error' to 'logloss'. Explicitly set eval_metric if you'd like to restore the old behavior.\n"
     ]
    },
    {
     "name": "stderr",
     "output_type": "stream",
     "text": [
      "/Users/t/.pyenv/versions/3.8.5/lib/python3.8/site-packages/xgboost/sklearn.py:888: UserWarning: The use of label encoder in XGBClassifier is deprecated and will be removed in a future release. To remove this warning, do the following: 1) Pass option use_label_encoder=False when constructing XGBClassifier object; and 2) Encode your labels (y) as integers starting with 0, i.e. 0, 1, 2, ..., [num_class - 1].\n",
      "  warnings.warn(label_encoder_deprecation_msg, UserWarning)\n"
     ]
    },
    {
     "name": "stdout",
     "output_type": "stream",
     "text": [
      "[21:41:15] WARNING: /Users/travis/build/dmlc/xgboost/src/learner.cc:1061: Starting in XGBoost 1.3.0, the default evaluation metric used with the objective 'binary:logistic' was changed from 'error' to 'logloss'. Explicitly set eval_metric if you'd like to restore the old behavior.\n",
      "[21:41:15] WARNING: /Users/travis/build/dmlc/xgboost/src/learner.cc:1061: Starting in XGBoost 1.3.0, the default evaluation metric used with the objective 'binary:logistic' was changed from 'error' to 'logloss'. Explicitly set eval_metric if you'd like to restore the old behavior.\n",
      "[21:41:15] WARNING: /Users/travis/build/dmlc/xgboost/src/learner.cc:1061: Starting in XGBoost 1.3.0, the default evaluation metric used with the objective 'binary:logistic' was changed from 'error' to 'logloss'. Explicitly set eval_metric if you'd like to restore the old behavior.\n",
      "[21:41:15] WARNING: /Users/travis/build/dmlc/xgboost/src/learner.cc:1061: Starting in XGBoost 1.3.0, the default evaluation metric used with the objective 'binary:logistic' was changed from 'error' to 'logloss'. Explicitly set eval_metric if you'd like to restore the old behavior.\n"
     ]
    },
    {
     "name": "stderr",
     "output_type": "stream",
     "text": [
      "\u001b[32m[I 2021-01-03 21:41:15,647]\u001b[0m Trial 94 finished with value: 0.8315079286910272 and parameters: {'min_child_weight': 1, 'gamma': 0.8, 'subsample': 0.8, 'colsample_bytree': 0.5, 'max_depth': 3}. Best is trial 50 with value: 0.8427065891854625.\u001b[0m\n",
      "/Users/t/.pyenv/versions/3.8.5/lib/python3.8/site-packages/xgboost/sklearn.py:888: UserWarning: The use of label encoder in XGBClassifier is deprecated and will be removed in a future release. To remove this warning, do the following: 1) Pass option use_label_encoder=False when constructing XGBClassifier object; and 2) Encode your labels (y) as integers starting with 0, i.e. 0, 1, 2, ..., [num_class - 1].\n",
      "  warnings.warn(label_encoder_deprecation_msg, UserWarning)\n"
     ]
    },
    {
     "name": "stdout",
     "output_type": "stream",
     "text": [
      "[21:41:15] WARNING: /Users/travis/build/dmlc/xgboost/src/learner.cc:1061: Starting in XGBoost 1.3.0, the default evaluation metric used with the objective 'binary:logistic' was changed from 'error' to 'logloss'. Explicitly set eval_metric if you'd like to restore the old behavior.\n",
      "[21:41:15] WARNING: /Users/travis/build/dmlc/xgboost/src/learner.cc:1061: Starting in XGBoost 1.3.0, the default evaluation metric used with the objective 'binary:logistic' was changed from 'error' to 'logloss'. Explicitly set eval_metric if you'd like to restore the old behavior.\n",
      "[21:41:15] WARNING: /Users/travis/build/dmlc/xgboost/src/learner.cc:1061: Starting in XGBoost 1.3.0, the default evaluation metric used with the objective 'binary:logistic' was changed from 'error' to 'logloss'. Explicitly set eval_metric if you'd like to restore the old behavior.\n",
      "[21:41:15] WARNING: /Users/travis/build/dmlc/xgboost/src/learner.cc:1061: Starting in XGBoost 1.3.0, the default evaluation metric used with the objective 'binary:logistic' was changed from 'error' to 'logloss'. Explicitly set eval_metric if you'd like to restore the old behavior.\n"
     ]
    },
    {
     "name": "stderr",
     "output_type": "stream",
     "text": [
      "\u001b[32m[I 2021-01-03 21:41:15,946]\u001b[0m Trial 95 finished with value: 0.8427065891854625 and parameters: {'min_child_weight': 1, 'gamma': 0.9, 'subsample': 0.8, 'colsample_bytree': 0.5, 'max_depth': 3}. Best is trial 50 with value: 0.8427065891854625.\u001b[0m\n"
     ]
    },
    {
     "name": "stdout",
     "output_type": "stream",
     "text": [
      "[21:41:15] WARNING: /Users/travis/build/dmlc/xgboost/src/learner.cc:1061: Starting in XGBoost 1.3.0, the default evaluation metric used with the objective 'binary:logistic' was changed from 'error' to 'logloss'. Explicitly set eval_metric if you'd like to restore the old behavior.\n",
      "[21:41:15] WARNING: /Users/travis/build/dmlc/xgboost/src/learner.cc:1061: Starting in XGBoost 1.3.0, the default evaluation metric used with the objective 'binary:logistic' was changed from 'error' to 'logloss'. Explicitly set eval_metric if you'd like to restore the old behavior.\n",
      "[21:41:16] WARNING: /Users/travis/build/dmlc/xgboost/src/learner.cc:1061: Starting in XGBoost 1.3.0, the default evaluation metric used with the objective 'binary:logistic' was changed from 'error' to 'logloss'. Explicitly set eval_metric if you'd like to restore the old behavior.\n"
     ]
    },
    {
     "name": "stderr",
     "output_type": "stream",
     "text": [
      "/Users/t/.pyenv/versions/3.8.5/lib/python3.8/site-packages/xgboost/sklearn.py:888: UserWarning: The use of label encoder in XGBClassifier is deprecated and will be removed in a future release. To remove this warning, do the following: 1) Pass option use_label_encoder=False when constructing XGBClassifier object; and 2) Encode your labels (y) as integers starting with 0, i.e. 0, 1, 2, ..., [num_class - 1].\n",
      "  warnings.warn(label_encoder_deprecation_msg, UserWarning)\n"
     ]
    },
    {
     "name": "stdout",
     "output_type": "stream",
     "text": [
      "[21:41:16] WARNING: /Users/travis/build/dmlc/xgboost/src/learner.cc:1061: Starting in XGBoost 1.3.0, the default evaluation metric used with the objective 'binary:logistic' was changed from 'error' to 'logloss'. Explicitly set eval_metric if you'd like to restore the old behavior.\n",
      "[21:41:16] WARNING: /Users/travis/build/dmlc/xgboost/src/learner.cc:1061: Starting in XGBoost 1.3.0, the default evaluation metric used with the objective 'binary:logistic' was changed from 'error' to 'logloss'. Explicitly set eval_metric if you'd like to restore the old behavior.\n",
      "[21:41:16] WARNING: /Users/travis/build/dmlc/xgboost/src/learner.cc:1061: Starting in XGBoost 1.3.0, the default evaluation metric used with the objective 'binary:logistic' was changed from 'error' to 'logloss'. Explicitly set eval_metric if you'd like to restore the old behavior.\n"
     ]
    },
    {
     "name": "stderr",
     "output_type": "stream",
     "text": [
      "\u001b[32m[I 2021-01-03 21:41:16,322]\u001b[0m Trial 96 finished with value: 0.8342657342657344 and parameters: {'min_child_weight': 1, 'gamma': 1.0, 'subsample': 0.8, 'colsample_bytree': 0.5, 'max_depth': 4}. Best is trial 50 with value: 0.8427065891854625.\u001b[0m\n",
      "/Users/t/.pyenv/versions/3.8.5/lib/python3.8/site-packages/xgboost/sklearn.py:888: UserWarning: The use of label encoder in XGBClassifier is deprecated and will be removed in a future release. To remove this warning, do the following: 1) Pass option use_label_encoder=False when constructing XGBClassifier object; and 2) Encode your labels (y) as integers starting with 0, i.e. 0, 1, 2, ..., [num_class - 1].\n",
      "  warnings.warn(label_encoder_deprecation_msg, UserWarning)\n"
     ]
    },
    {
     "name": "stdout",
     "output_type": "stream",
     "text": [
      "[21:41:16] WARNING: /Users/travis/build/dmlc/xgboost/src/learner.cc:1061: Starting in XGBoost 1.3.0, the default evaluation metric used with the objective 'binary:logistic' was changed from 'error' to 'logloss'. Explicitly set eval_metric if you'd like to restore the old behavior.\n",
      "[21:41:16] WARNING: /Users/travis/build/dmlc/xgboost/src/learner.cc:1061: Starting in XGBoost 1.3.0, the default evaluation metric used with the objective 'binary:logistic' was changed from 'error' to 'logloss'. Explicitly set eval_metric if you'd like to restore the old behavior.\n",
      "[21:41:16] WARNING: /Users/travis/build/dmlc/xgboost/src/learner.cc:1061: Starting in XGBoost 1.3.0, the default evaluation metric used with the objective 'binary:logistic' was changed from 'error' to 'logloss'. Explicitly set eval_metric if you'd like to restore the old behavior.\n",
      "[21:41:16] WARNING: /Users/travis/build/dmlc/xgboost/src/learner.cc:1061: Starting in XGBoost 1.3.0, the default evaluation metric used with the objective 'binary:logistic' was changed from 'error' to 'logloss'. Explicitly set eval_metric if you'd like to restore the old behavior.\n"
     ]
    },
    {
     "name": "stderr",
     "output_type": "stream",
     "text": [
      "\u001b[32m[I 2021-01-03 21:41:16,631]\u001b[0m Trial 97 finished with value: 0.8427065891854625 and parameters: {'min_child_weight': 1, 'gamma': 0.9, 'subsample': 0.8, 'colsample_bytree': 0.5, 'max_depth': 3}. Best is trial 50 with value: 0.8427065891854625.\u001b[0m\n"
     ]
    },
    {
     "name": "stdout",
     "output_type": "stream",
     "text": [
      "[21:41:16] WARNING: /Users/travis/build/dmlc/xgboost/src/learner.cc:1061: Starting in XGBoost 1.3.0, the default evaluation metric used with the objective 'binary:logistic' was changed from 'error' to 'logloss'. Explicitly set eval_metric if you'd like to restore the old behavior.\n",
      "[21:41:16] WARNING: /Users/travis/build/dmlc/xgboost/src/learner.cc:1061: Starting in XGBoost 1.3.0, the default evaluation metric used with the objective 'binary:logistic' was changed from 'error' to 'logloss'. Explicitly set eval_metric if you'd like to restore the old behavior.\n",
      "[21:41:16] WARNING: /Users/travis/build/dmlc/xgboost/src/learner.cc:1061: Starting in XGBoost 1.3.0, the default evaluation metric used with the objective 'binary:logistic' was changed from 'error' to 'logloss'. Explicitly set eval_metric if you'd like to restore the old behavior.\n"
     ]
    },
    {
     "name": "stderr",
     "output_type": "stream",
     "text": [
      "/Users/t/.pyenv/versions/3.8.5/lib/python3.8/site-packages/xgboost/sklearn.py:888: UserWarning: The use of label encoder in XGBClassifier is deprecated and will be removed in a future release. To remove this warning, do the following: 1) Pass option use_label_encoder=False when constructing XGBClassifier object; and 2) Encode your labels (y) as integers starting with 0, i.e. 0, 1, 2, ..., [num_class - 1].\n",
      "  warnings.warn(label_encoder_deprecation_msg, UserWarning)\n",
      "\u001b[32m[I 2021-01-03 21:41:16,950]\u001b[0m Trial 98 finished with value: 0.8314586821629076 and parameters: {'min_child_weight': 1, 'gamma': 0.8, 'subsample': 0.7, 'colsample_bytree': 0.6, 'max_depth': 3}. Best is trial 50 with value: 0.8427065891854625.\u001b[0m\n"
     ]
    },
    {
     "name": "stdout",
     "output_type": "stream",
     "text": [
      "[21:41:16] WARNING: /Users/travis/build/dmlc/xgboost/src/learner.cc:1061: Starting in XGBoost 1.3.0, the default evaluation metric used with the objective 'binary:logistic' was changed from 'error' to 'logloss'. Explicitly set eval_metric if you'd like to restore the old behavior.\n",
      "[21:41:16] WARNING: /Users/travis/build/dmlc/xgboost/src/learner.cc:1061: Starting in XGBoost 1.3.0, the default evaluation metric used with the objective 'binary:logistic' was changed from 'error' to 'logloss'. Explicitly set eval_metric if you'd like to restore the old behavior.\n",
      "[21:41:16] WARNING: /Users/travis/build/dmlc/xgboost/src/learner.cc:1061: Starting in XGBoost 1.3.0, the default evaluation metric used with the objective 'binary:logistic' was changed from 'error' to 'logloss'. Explicitly set eval_metric if you'd like to restore the old behavior.\n",
      "[21:41:16] WARNING: /Users/travis/build/dmlc/xgboost/src/learner.cc:1061: Starting in XGBoost 1.3.0, the default evaluation metric used with the objective 'binary:logistic' was changed from 'error' to 'logloss'. Explicitly set eval_metric if you'd like to restore the old behavior.\n"
     ]
    },
    {
     "name": "stderr",
     "output_type": "stream",
     "text": [
      "/Users/t/.pyenv/versions/3.8.5/lib/python3.8/site-packages/xgboost/sklearn.py:888: UserWarning: The use of label encoder in XGBClassifier is deprecated and will be removed in a future release. To remove this warning, do the following: 1) Pass option use_label_encoder=False when constructing XGBClassifier object; and 2) Encode your labels (y) as integers starting with 0, i.e. 0, 1, 2, ..., [num_class - 1].\n",
      "  warnings.warn(label_encoder_deprecation_msg, UserWarning)\n"
     ]
    },
    {
     "name": "stdout",
     "output_type": "stream",
     "text": [
      "[21:41:17] WARNING: /Users/travis/build/dmlc/xgboost/src/learner.cc:1061: Starting in XGBoost 1.3.0, the default evaluation metric used with the objective 'binary:logistic' was changed from 'error' to 'logloss'. Explicitly set eval_metric if you'd like to restore the old behavior.\n",
      "[21:41:17] WARNING: /Users/travis/build/dmlc/xgboost/src/learner.cc:1061: Starting in XGBoost 1.3.0, the default evaluation metric used with the objective 'binary:logistic' was changed from 'error' to 'logloss'. Explicitly set eval_metric if you'd like to restore the old behavior.\n",
      "[21:41:17] WARNING: /Users/travis/build/dmlc/xgboost/src/learner.cc:1061: Starting in XGBoost 1.3.0, the default evaluation metric used with the objective 'binary:logistic' was changed from 'error' to 'logloss'. Explicitly set eval_metric if you'd like to restore the old behavior.\n"
     ]
    },
    {
     "name": "stderr",
     "output_type": "stream",
     "text": [
      "\u001b[32m[I 2021-01-03 21:41:17,317]\u001b[0m Trial 99 finished with value: 0.8244558258642766 and parameters: {'min_child_weight': 2, 'gamma': 1.0, 'subsample': 0.8, 'colsample_bytree': 0.5, 'max_depth': 4}. Best is trial 50 with value: 0.8427065891854625.\u001b[0m\n"
     ]
    },
    {
     "name": "stdout",
     "output_type": "stream",
     "text": [
      "[21:41:17] WARNING: /Users/travis/build/dmlc/xgboost/src/learner.cc:1061: Starting in XGBoost 1.3.0, the default evaluation metric used with the objective 'binary:logistic' was changed from 'error' to 'logloss'. Explicitly set eval_metric if you'd like to restore the old behavior.\n",
      "{'min_child_weight': 1, 'gamma': 0.9, 'subsample': 0.8, 'colsample_bytree': 0.5, 'max_depth': 3}\n",
      "0.8427065891854625\n"
     ]
    }
   ],
   "source": [
    "def objective(trial):\n",
    "    \n",
    "    param_grid_xgb = {\n",
    "        'min_child_weight': trial.suggest_int(\"min_child_weight\", 1, 5),\n",
    "        'gamma': trial.suggest_discrete_uniform(\"gamma\", 0.1, 1.0, 0.1),\n",
    "        'subsample': trial.suggest_discrete_uniform(\"subsample\", 0.5, 1.0, 0.1),\n",
    "        'colsample_bytree': trial.suggest_discrete_uniform(\"colsample_bytree\", 0.5, 1.0, 0.1),\n",
    "        'max_depth': trial.suggest_int(\"max_depth\", 3, 10),\n",
    "        \"random_state\": 0\n",
    "    }\n",
    "\n",
    "    model = XGBClassifier(**param_grid_xgb)\n",
    "    \n",
    "    # 5-Fold CV / Accuracy でモデルを評価する\n",
    "    kf = StratifiedKFold(n_splits=5, shuffle=True, random_state=0)\n",
    "    scores = cross_validate(model, X=X_train, y=y_train, cv=kf)\n",
    "    # 最小化なので 1.0 からスコアを引く\n",
    "    return scores['test_score'].mean()\n",
    "\n",
    "study = optuna.create_study(direction='maximize')\n",
    "study.optimize(objective, n_trials=100)\n",
    "print(study.best_params)\n",
    "print(study.best_value)\n",
    "xgb_best_param = study.best_params"
   ]
  },
  {
   "cell_type": "markdown",
   "metadata": {},
   "source": [
    "#### ・ LightGBM"
   ]
  },
  {
   "cell_type": "code",
   "execution_count": 27,
   "metadata": {},
   "outputs": [
    {
     "name": "stderr",
     "output_type": "stream",
     "text": [
      "\u001b[32m[I 2021-01-03 21:46:13,842]\u001b[0m A new study created in memory with name: no-name-09bb5cc4-227d-47e4-a0c5-016c6151da54\u001b[0m\n",
      "\u001b[32m[I 2021-01-03 21:46:14,074]\u001b[0m Trial 0 finished with value: 0.8217078695951935 and parameters: {'num_leaves': 3, 'learning_rate': 0.1985881992770371, 'max_depth': 8}. Best is trial 0 with value: 0.8217078695951935.\u001b[0m\n",
      "\u001b[32m[I 2021-01-03 21:46:14,264]\u001b[0m Trial 1 finished with value: 0.7780458977642077 and parameters: {'num_leaves': 10, 'learning_rate': 0.002847060106271885, 'max_depth': 5}. Best is trial 0 with value: 0.8217078695951935.\u001b[0m\n",
      "\u001b[32m[I 2021-01-03 21:46:14,393]\u001b[0m Trial 2 finished with value: 0.6165763813651137 and parameters: {'num_leaves': 6, 'learning_rate': 1.1925724306712266e-06, 'max_depth': 6}. Best is trial 0 with value: 0.8217078695951935.\u001b[0m\n",
      "\u001b[32m[I 2021-01-03 21:46:14,549]\u001b[0m Trial 3 finished with value: 0.8202501723628485 and parameters: {'num_leaves': 6, 'learning_rate': 0.2717385998493675, 'max_depth': 5}. Best is trial 0 with value: 0.8217078695951935.\u001b[0m\n",
      "\u001b[32m[I 2021-01-03 21:46:14,753]\u001b[0m Trial 4 finished with value: 0.6165763813651137 and parameters: {'num_leaves': 6, 'learning_rate': 5.454056906764525e-05, 'max_depth': 3}. Best is trial 0 with value: 0.8217078695951935.\u001b[0m\n",
      "\u001b[32m[I 2021-01-03 21:46:14,881]\u001b[0m Trial 5 finished with value: 0.6165763813651137 and parameters: {'num_leaves': 5, 'learning_rate': 5.5366557718410705e-05, 'max_depth': 6}. Best is trial 0 with value: 0.8217078695951935.\u001b[0m\n",
      "\u001b[32m[I 2021-01-03 21:46:15,011]\u001b[0m Trial 6 finished with value: 0.8272825765783512 and parameters: {'num_leaves': 6, 'learning_rate': 0.08819719799938629, 'max_depth': 10}. Best is trial 6 with value: 0.8272825765783512.\u001b[0m\n",
      "\u001b[32m[I 2021-01-03 21:46:15,132]\u001b[0m Trial 7 finished with value: 0.6165763813651137 and parameters: {'num_leaves': 4, 'learning_rate': 0.00038937237752476603, 'max_depth': 3}. Best is trial 6 with value: 0.8272825765783512.\u001b[0m\n",
      "\u001b[32m[I 2021-01-03 21:46:15,296]\u001b[0m Trial 8 finished with value: 0.830089628681178 and parameters: {'num_leaves': 9, 'learning_rate': 0.04155010372979408, 'max_depth': 8}. Best is trial 8 with value: 0.830089628681178.\u001b[0m\n",
      "\u001b[32m[I 2021-01-03 21:46:15,427]\u001b[0m Trial 9 finished with value: 0.6165763813651137 and parameters: {'num_leaves': 7, 'learning_rate': 2.0584866630019103e-06, 'max_depth': 5}. Best is trial 8 with value: 0.830089628681178.\u001b[0m\n",
      "\u001b[32m[I 2021-01-03 21:46:15,591]\u001b[0m Trial 10 finished with value: 0.6165763813651137 and parameters: {'num_leaves': 10, 'learning_rate': 1.4230433141861197e-08, 'max_depth': 9}. Best is trial 8 with value: 0.830089628681178.\u001b[0m\n",
      "\u001b[32m[I 2021-01-03 21:46:15,752]\u001b[0m Trial 11 finished with value: 0.8343149807938539 and parameters: {'num_leaves': 8, 'learning_rate': 0.01590102043486528, 'max_depth': 10}. Best is trial 11 with value: 0.8343149807938539.\u001b[0m\n",
      "\u001b[32m[I 2021-01-03 21:46:15,904]\u001b[0m Trial 12 finished with value: 0.8090121146459175 and parameters: {'num_leaves': 8, 'learning_rate': 0.008647191978349287, 'max_depth': 8}. Best is trial 11 with value: 0.8343149807938539.\u001b[0m\n",
      "\u001b[32m[I 2021-01-03 21:46:16,050]\u001b[0m Trial 13 finished with value: 0.8328966807840047 and parameters: {'num_leaves': 9, 'learning_rate': 0.013438703013695997, 'max_depth': 10}. Best is trial 11 with value: 0.8343149807938539.\u001b[0m\n",
      "\u001b[32m[I 2021-01-03 21:46:16,189]\u001b[0m Trial 14 finished with value: 0.6165763813651137 and parameters: {'num_leaves': 8, 'learning_rate': 0.0015748609210148108, 'max_depth': 10}. Best is trial 11 with value: 0.8343149807938539.\u001b[0m\n",
      "\u001b[32m[I 2021-01-03 21:46:16,353]\u001b[0m Trial 15 finished with value: 0.8188417216586231 and parameters: {'num_leaves': 9, 'learning_rate': 0.6574253209459353, 'max_depth': 10}. Best is trial 11 with value: 0.8343149807938539.\u001b[0m\n",
      "\u001b[32m[I 2021-01-03 21:46:16,567]\u001b[0m Trial 16 finished with value: 0.8329065300896286 and parameters: {'num_leaves': 8, 'learning_rate': 0.016125441634286922, 'max_depth': 9}. Best is trial 11 with value: 0.8343149807938539.\u001b[0m\n",
      "\u001b[32m[I 2021-01-03 21:46:16,848]\u001b[0m Trial 17 finished with value: 0.6165763813651137 and parameters: {'num_leaves': 8, 'learning_rate': 0.0004857441249732006, 'max_depth': 9}. Best is trial 11 with value: 0.8343149807938539.\u001b[0m\n",
      "\u001b[32m[I 2021-01-03 21:46:17,143]\u001b[0m Trial 18 finished with value: 0.6165763813651137 and parameters: {'num_leaves': 7, 'learning_rate': 1.003817668514799e-05, 'max_depth': 9}. Best is trial 11 with value: 0.8343149807938539.\u001b[0m\n",
      "\u001b[32m[I 2021-01-03 21:46:17,330]\u001b[0m Trial 19 finished with value: 0.8314783807741554 and parameters: {'num_leaves': 8, 'learning_rate': 0.017568553958631602, 'max_depth': 7}. Best is trial 11 with value: 0.8343149807938539.\u001b[0m\n",
      "\u001b[32m[I 2021-01-03 21:46:17,494]\u001b[0m Trial 20 finished with value: 0.814616369545947 and parameters: {'num_leaves': 7, 'learning_rate': 0.9545761556039652, 'max_depth': 9}. Best is trial 11 with value: 0.8343149807938539.\u001b[0m\n",
      "\u001b[32m[I 2021-01-03 21:46:17,673]\u001b[0m Trial 21 finished with value: 0.8090121146459175 and parameters: {'num_leaves': 9, 'learning_rate': 0.0085910367481481, 'max_depth': 10}. Best is trial 11 with value: 0.8343149807938539.\u001b[0m\n",
      "\u001b[32m[I 2021-01-03 21:46:17,836]\u001b[0m Trial 22 finished with value: 0.8315079286910274 and parameters: {'num_leaves': 9, 'learning_rate': 0.04292272973888023, 'max_depth': 10}. Best is trial 11 with value: 0.8343149807938539.\u001b[0m\n",
      "\u001b[32m[I 2021-01-03 21:46:18,001]\u001b[0m Trial 23 finished with value: 0.6165763813651137 and parameters: {'num_leaves': 10, 'learning_rate': 0.0018347034977587264, 'max_depth': 9}. Best is trial 11 with value: 0.8343149807938539.\u001b[0m\n",
      "\u001b[32m[I 2021-01-03 21:46:18,173]\u001b[0m Trial 24 finished with value: 0.6165763813651137 and parameters: {'num_leaves': 8, 'learning_rate': 0.00028279087614737426, 'max_depth': 8}. Best is trial 11 with value: 0.8343149807938539.\u001b[0m\n",
      "\u001b[32m[I 2021-01-03 21:46:18,343]\u001b[0m Trial 25 finished with value: 0.8005909583374372 and parameters: {'num_leaves': 9, 'learning_rate': 0.006447446958845956, 'max_depth': 10}. Best is trial 11 with value: 0.8343149807938539.\u001b[0m\n",
      "\u001b[32m[I 2021-01-03 21:46:18,522]\u001b[0m Trial 26 finished with value: 0.8258642765685019 and parameters: {'num_leaves': 7, 'learning_rate': 0.09639152716944091, 'max_depth': 7}. Best is trial 11 with value: 0.8343149807938539.\u001b[0m\n",
      "\u001b[32m[I 2021-01-03 21:46:18,812]\u001b[0m Trial 27 finished with value: 0.8160248202501723 and parameters: {'num_leaves': 10, 'learning_rate': 0.9412873165311161, 'max_depth': 9}. Best is trial 11 with value: 0.8343149807938539.\u001b[0m\n",
      "\u001b[32m[I 2021-01-03 21:46:18,955]\u001b[0m Trial 28 finished with value: 0.8258642765685019 and parameters: {'num_leaves': 8, 'learning_rate': 0.029853239501825942, 'max_depth': 10}. Best is trial 11 with value: 0.8343149807938539.\u001b[0m\n",
      "\u001b[32m[I 2021-01-03 21:46:19,128]\u001b[0m Trial 29 finished with value: 0.8159854230276764 and parameters: {'num_leaves': 9, 'learning_rate': 0.34006708977132044, 'max_depth': 8}. Best is trial 11 with value: 0.8343149807938539.\u001b[0m\n",
      "\u001b[32m[I 2021-01-03 21:46:19,249]\u001b[0m Trial 30 finished with value: 0.6165763813651137 and parameters: {'num_leaves': 3, 'learning_rate': 0.0009060346406666058, 'max_depth': 7}. Best is trial 11 with value: 0.8343149807938539.\u001b[0m\n",
      "\u001b[32m[I 2021-01-03 21:46:19,779]\u001b[0m Trial 31 finished with value: 0.8272727272727274 and parameters: {'num_leaves': 9, 'learning_rate': 0.09869666029047638, 'max_depth': 10}. Best is trial 11 with value: 0.8343149807938539.\u001b[0m\n",
      "\u001b[32m[I 2021-01-03 21:46:19,941]\u001b[0m Trial 32 finished with value: 0.7850980005909584 and parameters: {'num_leaves': 10, 'learning_rate': 0.003931807935450061, 'max_depth': 10}. Best is trial 11 with value: 0.8343149807938539.\u001b[0m\n",
      "\u001b[32m[I 2021-01-03 21:46:20,098]\u001b[0m Trial 33 finished with value: 0.83006993006993 and parameters: {'num_leaves': 9, 'learning_rate': 0.02205355803899001, 'max_depth': 9}. Best is trial 11 with value: 0.8343149807938539.\u001b[0m\n",
      "\u001b[32m[I 2021-01-03 21:46:20,257]\u001b[0m Trial 34 finished with value: 0.8188121737417513 and parameters: {'num_leaves': 8, 'learning_rate': 0.21617529145749015, 'max_depth': 10}. Best is trial 11 with value: 0.8343149807938539.\u001b[0m\n",
      "\u001b[32m[I 2021-01-03 21:46:20,429]\u001b[0m Trial 35 finished with value: 0.8286811779769525 and parameters: {'num_leaves': 7, 'learning_rate': 0.0555401571693745, 'max_depth': 9}. Best is trial 11 with value: 0.8343149807938539.\u001b[0m\n",
      "\u001b[32m[I 2021-01-03 21:46:20,589]\u001b[0m Trial 36 finished with value: 0.825844577957254 and parameters: {'num_leaves': 10, 'learning_rate': 0.011044250864022252, 'max_depth': 4}. Best is trial 11 with value: 0.8343149807938539.\u001b[0m\n",
      "\u001b[32m[I 2021-01-03 21:46:21,181]\u001b[0m Trial 37 finished with value: 0.6165763813651137 and parameters: {'num_leaves': 9, 'learning_rate': 2.2279139447618e-08, 'max_depth': 10}. Best is trial 11 with value: 0.8343149807938539.\u001b[0m\n",
      "\u001b[32m[I 2021-01-03 21:46:21,620]\u001b[0m Trial 38 finished with value: 0.6165763813651137 and parameters: {'num_leaves': 8, 'learning_rate': 0.00018155373851416095, 'max_depth': 8}. Best is trial 11 with value: 0.8343149807938539.\u001b[0m\n",
      "\u001b[32m[I 2021-01-03 21:46:21,993]\u001b[0m Trial 39 finished with value: 0.8300797793755539 and parameters: {'num_leaves': 6, 'learning_rate': 0.17978584665663044, 'max_depth': 9}. Best is trial 11 with value: 0.8343149807938539.\u001b[0m\n",
      "\u001b[32m[I 2021-01-03 21:46:22,346]\u001b[0m Trial 40 finished with value: 0.783709248497981 and parameters: {'num_leaves': 5, 'learning_rate': 0.0036776928325544522, 'max_depth': 10}. Best is trial 11 with value: 0.8343149807938539.\u001b[0m\n",
      "\u001b[32m[I 2021-01-03 21:46:22,520]\u001b[0m Trial 41 finished with value: 0.8314783807741554 and parameters: {'num_leaves': 8, 'learning_rate': 0.0207382777738436, 'max_depth': 6}. Best is trial 11 with value: 0.8343149807938539.\u001b[0m\n",
      "\u001b[32m[I 2021-01-03 21:46:23,093]\u001b[0m Trial 42 finished with value: 0.8258938244853737 and parameters: {'num_leaves': 9, 'learning_rate': 0.030862133249794865, 'max_depth': 6}. Best is trial 11 with value: 0.8343149807938539.\u001b[0m\n",
      "\u001b[32m[I 2021-01-03 21:46:23,470]\u001b[0m Trial 43 finished with value: 0.8328966807840048 and parameters: {'num_leaves': 8, 'learning_rate': 0.05304244611772628, 'max_depth': 6}. Best is trial 11 with value: 0.8343149807938539.\u001b[0m\n",
      "\u001b[32m[I 2021-01-03 21:46:23,670]\u001b[0m Trial 44 finished with value: 0.8244558258642766 and parameters: {'num_leaves': 7, 'learning_rate': 0.0720854265728743, 'max_depth': 5}. Best is trial 11 with value: 0.8343149807938539.\u001b[0m\n",
      "\u001b[32m[I 2021-01-03 21:46:23,845]\u001b[0m Trial 45 finished with value: 0.8118388653599921 and parameters: {'num_leaves': 8, 'learning_rate': 0.3519931711324902, 'max_depth': 5}. Best is trial 11 with value: 0.8343149807938539.\u001b[0m\n",
      "\u001b[32m[I 2021-01-03 21:46:24,290]\u001b[0m Trial 46 finished with value: 0.6165763813651137 and parameters: {'num_leaves': 9, 'learning_rate': 0.002144396720923317, 'max_depth': 7}. Best is trial 11 with value: 0.8343149807938539.\u001b[0m\n",
      "\u001b[32m[I 2021-01-03 21:46:24,489]\u001b[0m Trial 47 finished with value: 0.6165763813651137 and parameters: {'num_leaves': 10, 'learning_rate': 0.0008964648459344972, 'max_depth': 6}. Best is trial 11 with value: 0.8343149807938539.\u001b[0m\n",
      "\u001b[32m[I 2021-01-03 21:46:24,728]\u001b[0m Trial 48 finished with value: 0.6165763813651137 and parameters: {'num_leaves': 8, 'learning_rate': 5.405285589533013e-05, 'max_depth': 4}. Best is trial 11 with value: 0.8343149807938539.\u001b[0m\n",
      "\u001b[32m[I 2021-01-03 21:46:24,890]\u001b[0m Trial 49 finished with value: 0.7977740569289865 and parameters: {'num_leaves': 7, 'learning_rate': 0.006801826199507804, 'max_depth': 8}. Best is trial 11 with value: 0.8343149807938539.\u001b[0m\n",
      "\u001b[32m[I 2021-01-03 21:46:25,073]\u001b[0m Trial 50 finished with value: 0.8230473751600511 and parameters: {'num_leaves': 9, 'learning_rate': 0.16982976114087253, 'max_depth': 10}. Best is trial 11 with value: 0.8343149807938539.\u001b[0m\n",
      "\u001b[32m[I 2021-01-03 21:46:25,252]\u001b[0m Trial 51 finished with value: 0.8314783807741554 and parameters: {'num_leaves': 8, 'learning_rate': 0.02020180323496603, 'max_depth': 7}. Best is trial 11 with value: 0.8343149807938539.\u001b[0m\n",
      "\u001b[32m[I 2021-01-03 21:46:25,425]\u001b[0m Trial 52 finished with value: 0.8343149807938539 and parameters: {'num_leaves': 8, 'learning_rate': 0.014919233542268212, 'max_depth': 6}. Best is trial 11 with value: 0.8343149807938539.\u001b[0m\n",
      "\u001b[32m[I 2021-01-03 21:46:25,597]\u001b[0m Trial 53 finished with value: 0.8259036737909978 and parameters: {'num_leaves': 8, 'learning_rate': 0.04055345565437875, 'max_depth': 6}. Best is trial 11 with value: 0.8343149807938539.\u001b[0m\n",
      "\u001b[32m[I 2021-01-03 21:46:25,773]\u001b[0m Trial 54 finished with value: 0.8357037328868315 and parameters: {'num_leaves': 7, 'learning_rate': 0.012067987850801055, 'max_depth': 6}. Best is trial 54 with value: 0.8357037328868315.\u001b[0m\n",
      "\u001b[32m[I 2021-01-03 21:46:25,941]\u001b[0m Trial 55 finished with value: 0.7907318034078598 and parameters: {'num_leaves': 7, 'learning_rate': 0.005320885794652744, 'max_depth': 6}. Best is trial 54 with value: 0.8357037328868315.\u001b[0m\n",
      "\u001b[32m[I 2021-01-03 21:46:26,102]\u001b[0m Trial 56 finished with value: 0.8357037328868315 and parameters: {'num_leaves': 6, 'learning_rate': 0.012058393487871282, 'max_depth': 5}. Best is trial 54 with value: 0.8357037328868315.\u001b[0m\n",
      "\u001b[32m[I 2021-01-03 21:46:26,263]\u001b[0m Trial 57 finished with value: 0.8357037328868315 and parameters: {'num_leaves': 6, 'learning_rate': 0.012144534043806554, 'max_depth': 5}. Best is trial 54 with value: 0.8357037328868315.\u001b[0m\n",
      "\u001b[32m[I 2021-01-03 21:46:26,428]\u001b[0m Trial 58 finished with value: 0.6165763813651137 and parameters: {'num_leaves': 5, 'learning_rate': 0.001685382228270556, 'max_depth': 4}. Best is trial 54 with value: 0.8357037328868315.\u001b[0m\n",
      "\u001b[32m[I 2021-01-03 21:46:26,606]\u001b[0m Trial 59 finished with value: 0.6165763813651137 and parameters: {'num_leaves': 6, 'learning_rate': 0.0007198204350347304, 'max_depth': 5}. Best is trial 54 with value: 0.8357037328868315.\u001b[0m\n",
      "\u001b[32m[I 2021-01-03 21:46:26,829]\u001b[0m Trial 60 finished with value: 0.825844577957254 and parameters: {'num_leaves': 6, 'learning_rate': 0.009223677384506183, 'max_depth': 5}. Best is trial 54 with value: 0.8357037328868315.\u001b[0m\n",
      "\u001b[32m[I 2021-01-03 21:46:26,998]\u001b[0m Trial 61 finished with value: 0.83430513148823 and parameters: {'num_leaves': 6, 'learning_rate': 0.013995391991232784, 'max_depth': 6}. Best is trial 54 with value: 0.8357037328868315.\u001b[0m\n",
      "\u001b[32m[I 2021-01-03 21:46:27,172]\u001b[0m Trial 62 finished with value: 0.8357037328868315 and parameters: {'num_leaves': 6, 'learning_rate': 0.012732465764335114, 'max_depth': 5}. Best is trial 54 with value: 0.8357037328868315.\u001b[0m\n",
      "\u001b[32m[I 2021-01-03 21:46:27,341]\u001b[0m Trial 63 finished with value: 0.7780458977642077 and parameters: {'num_leaves': 6, 'learning_rate': 0.003217232172630073, 'max_depth': 5}. Best is trial 54 with value: 0.8357037328868315.\u001b[0m\n",
      "\u001b[32m[I 2021-01-03 21:46:27,512]\u001b[0m Trial 64 finished with value: 0.8188220230473752 and parameters: {'num_leaves': 5, 'learning_rate': 0.01193158462451083, 'max_depth': 5}. Best is trial 54 with value: 0.8357037328868315.\u001b[0m\n",
      "\u001b[32m[I 2021-01-03 21:46:28,029]\u001b[0m Trial 65 finished with value: 0.7893135033980105 and parameters: {'num_leaves': 6, 'learning_rate': 0.005581662952428564, 'max_depth': 4}. Best is trial 54 with value: 0.8357037328868315.\u001b[0m\n",
      "\u001b[32m[I 2021-01-03 21:46:28,194]\u001b[0m Trial 66 finished with value: 0.7738500935684034 and parameters: {'num_leaves': 5, 'learning_rate': 0.002825121964896327, 'max_depth': 5}. Best is trial 54 with value: 0.8357037328868315.\u001b[0m\n",
      "\u001b[32m[I 2021-01-03 21:46:28,456]\u001b[0m Trial 67 finished with value: 0.83430513148823 and parameters: {'num_leaves': 6, 'learning_rate': 0.013914846823743252, 'max_depth': 6}. Best is trial 54 with value: 0.8357037328868315.\u001b[0m\n",
      "\u001b[32m[I 2021-01-03 21:46:28,613]\u001b[0m Trial 68 finished with value: 0.8245050723923963 and parameters: {'num_leaves': 4, 'learning_rate': 0.09581508866294547, 'max_depth': 6}. Best is trial 54 with value: 0.8357037328868315.\u001b[0m\n",
      "\u001b[32m[I 2021-01-03 21:46:28,821]\u001b[0m Trial 69 finished with value: 0.8300600807643062 and parameters: {'num_leaves': 6, 'learning_rate': 0.031730105564662194, 'max_depth': 5}. Best is trial 54 with value: 0.8357037328868315.\u001b[0m\n",
      "\u001b[32m[I 2021-01-03 21:46:28,989]\u001b[0m Trial 70 finished with value: 0.6165763813651137 and parameters: {'num_leaves': 7, 'learning_rate': 0.0011019968135963577, 'max_depth': 4}. Best is trial 54 with value: 0.8357037328868315.\u001b[0m\n",
      "\u001b[32m[I 2021-01-03 21:46:29,155]\u001b[0m Trial 71 finished with value: 0.8357037328868315 and parameters: {'num_leaves': 6, 'learning_rate': 0.013595791725105751, 'max_depth': 6}. Best is trial 54 with value: 0.8357037328868315.\u001b[0m\n",
      "\u001b[32m[I 2021-01-03 21:46:29,324]\u001b[0m Trial 72 finished with value: 0.7977445090121147 and parameters: {'num_leaves': 6, 'learning_rate': 0.007698494625055116, 'max_depth': 6}. Best is trial 54 with value: 0.8357037328868315.\u001b[0m\n",
      "\u001b[32m[I 2021-01-03 21:46:29,520]\u001b[0m Trial 73 finished with value: 0.8188712695754947 and parameters: {'num_leaves': 5, 'learning_rate': 0.0179518799080668, 'max_depth': 7}. Best is trial 54 with value: 0.8357037328868315.\u001b[0m\n",
      "\u001b[32m[I 2021-01-03 21:46:29,698]\u001b[0m Trial 74 finished with value: 0.8244656751699004 and parameters: {'num_leaves': 7, 'learning_rate': 0.11790440230411002, 'max_depth': 5}. Best is trial 54 with value: 0.8357037328868315.\u001b[0m\n",
      "\u001b[32m[I 2021-01-03 21:46:29,871]\u001b[0m Trial 75 finished with value: 0.7879050526937852 and parameters: {'num_leaves': 6, 'learning_rate': 0.003945851642029518, 'max_depth': 6}. Best is trial 54 with value: 0.8357037328868315.\u001b[0m\n",
      "\u001b[32m[I 2021-01-03 21:46:30,068]\u001b[0m Trial 76 finished with value: 0.8328868314783808 and parameters: {'num_leaves': 6, 'learning_rate': 0.024775640804205957, 'max_depth': 6}. Best is trial 54 with value: 0.8357037328868315.\u001b[0m\n",
      "\u001b[32m[I 2021-01-03 21:46:30,223]\u001b[0m Trial 77 finished with value: 0.8314783807741556 and parameters: {'num_leaves': 5, 'learning_rate': 0.4711663568083574, 'max_depth': 5}. Best is trial 54 with value: 0.8357037328868315.\u001b[0m\n",
      "\u001b[32m[I 2021-01-03 21:46:30,400]\u001b[0m Trial 78 finished with value: 0.8300797793755541 and parameters: {'num_leaves': 7, 'learning_rate': 0.0588776030392751, 'max_depth': 7}. Best is trial 54 with value: 0.8357037328868315.\u001b[0m\n",
      "\u001b[32m[I 2021-01-03 21:46:30,561]\u001b[0m Trial 79 finished with value: 0.6165763813651137 and parameters: {'num_leaves': 6, 'learning_rate': 3.0554800441436666e-07, 'max_depth': 3}. Best is trial 54 with value: 0.8357037328868315.\u001b[0m\n",
      "\u001b[32m[I 2021-01-03 21:46:30,807]\u001b[0m Trial 80 finished with value: 0.8371121835910568 and parameters: {'num_leaves': 7, 'learning_rate': 0.012428483677791534, 'max_depth': 5}. Best is trial 80 with value: 0.8371121835910568.\u001b[0m\n",
      "\u001b[32m[I 2021-01-03 21:46:30,979]\u001b[0m Trial 81 finished with value: 0.8357037328868315 and parameters: {'num_leaves': 7, 'learning_rate': 0.012006961144694529, 'max_depth': 5}. Best is trial 80 with value: 0.8371121835910568.\u001b[0m\n",
      "\u001b[32m[I 2021-01-03 21:46:31,155]\u001b[0m Trial 82 finished with value: 0.7907318034078598 and parameters: {'num_leaves': 7, 'learning_rate': 0.004907864692574518, 'max_depth': 5}. Best is trial 80 with value: 0.8371121835910568.\u001b[0m\n",
      "\u001b[32m[I 2021-01-03 21:46:31,323]\u001b[0m Trial 83 finished with value: 0.8244164286417808 and parameters: {'num_leaves': 7, 'learning_rate': 0.009524667798912331, 'max_depth': 4}. Best is trial 80 with value: 0.8371121835910568.\u001b[0m\n",
      "\u001b[32m[I 2021-01-03 21:46:31,492]\u001b[0m Trial 84 finished with value: 0.7738500935684034 and parameters: {'num_leaves': 7, 'learning_rate': 0.0025433706389917927, 'max_depth': 5}. Best is trial 80 with value: 0.8371121835910568.\u001b[0m\n",
      "\u001b[32m[I 2021-01-03 21:46:31,665]\u001b[0m Trial 85 finished with value: 0.8216487737614496 and parameters: {'num_leaves': 7, 'learning_rate': 0.03523630090910657, 'max_depth': 4}. Best is trial 80 with value: 0.8371121835910568.\u001b[0m\n",
      "\u001b[32m[I 2021-01-03 21:46:31,831]\u001b[0m Trial 86 finished with value: 0.6165763813651137 and parameters: {'num_leaves': 7, 'learning_rate': 0.0004971224496530267, 'max_depth': 5}. Best is trial 80 with value: 0.8371121835910568.\u001b[0m\n",
      "\u001b[32m[I 2021-01-03 21:46:31,995]\u001b[0m Trial 87 finished with value: 0.6165763813651137 and parameters: {'num_leaves': 6, 'learning_rate': 0.0014011953292942796, 'max_depth': 5}. Best is trial 80 with value: 0.8371121835910568.\u001b[0m\n",
      "\u001b[32m[I 2021-01-03 21:46:32,166]\u001b[0m Trial 88 finished with value: 0.8272825765783512 and parameters: {'num_leaves': 7, 'learning_rate': 0.05279265259167309, 'max_depth': 5}. Best is trial 80 with value: 0.8371121835910568.\u001b[0m\n",
      "\u001b[32m[I 2021-01-03 21:46:32,334]\u001b[0m Trial 89 finished with value: 0.8300994779868021 and parameters: {'num_leaves': 6, 'learning_rate': 0.14254739102343353, 'max_depth': 6}. Best is trial 80 with value: 0.8371121835910568.\u001b[0m\n",
      "\u001b[32m[I 2021-01-03 21:46:32,503]\u001b[0m Trial 90 finished with value: 0.8258544272628778 and parameters: {'num_leaves': 7, 'learning_rate': 0.023755480508059874, 'max_depth': 4}. Best is trial 80 with value: 0.8371121835910568.\u001b[0m\n",
      "\u001b[32m[I 2021-01-03 21:46:32,740]\u001b[0m Trial 91 finished with value: 0.8286713286713286 and parameters: {'num_leaves': 6, 'learning_rate': 0.014559115690500411, 'max_depth': 6}. Best is trial 80 with value: 0.8371121835910568.\u001b[0m\n",
      "\u001b[32m[I 2021-01-03 21:46:32,905]\u001b[0m Trial 92 finished with value: 0.8357037328868315 and parameters: {'num_leaves': 6, 'learning_rate': 0.012612580774598753, 'max_depth': 6}. Best is trial 80 with value: 0.8371121835910568.\u001b[0m\n",
      "\u001b[32m[I 2021-01-03 21:46:33,076]\u001b[0m Trial 93 finished with value: 0.807593814636068 and parameters: {'num_leaves': 6, 'learning_rate': 0.008468567967557504, 'max_depth': 5}. Best is trial 80 with value: 0.8371121835910568.\u001b[0m\n",
      "\u001b[32m[I 2021-01-03 21:46:33,237]\u001b[0m Trial 94 finished with value: 0.7851078498965823 and parameters: {'num_leaves': 5, 'learning_rate': 0.005993577822049591, 'max_depth': 6}. Best is trial 80 with value: 0.8371121835910568.\u001b[0m\n",
      "\u001b[32m[I 2021-01-03 21:46:33,399]\u001b[0m Trial 95 finished with value: 0.830089628681178 and parameters: {'num_leaves': 6, 'learning_rate': 0.0766717996413257, 'max_depth': 5}. Best is trial 80 with value: 0.8371121835910568.\u001b[0m\n",
      "\u001b[32m[I 2021-01-03 21:46:33,568]\u001b[0m Trial 96 finished with value: 0.8357037328868315 and parameters: {'num_leaves': 7, 'learning_rate': 0.011456097197526981, 'max_depth': 6}. Best is trial 80 with value: 0.8371121835910568.\u001b[0m\n",
      "\u001b[32m[I 2021-01-03 21:46:33,747]\u001b[0m Trial 97 finished with value: 0.8216487737614498 and parameters: {'num_leaves': 7, 'learning_rate': 0.03681831102763222, 'max_depth': 6}. Best is trial 80 with value: 0.8371121835910568.\u001b[0m\n",
      "\u001b[32m[I 2021-01-03 21:46:33,911]\u001b[0m Trial 98 finished with value: 0.8357037328868315 and parameters: {'num_leaves': 6, 'learning_rate': 0.011787416296569845, 'max_depth': 7}. Best is trial 80 with value: 0.8371121835910568.\u001b[0m\n",
      "\u001b[32m[I 2021-01-03 21:46:34,079]\u001b[0m Trial 99 finished with value: 0.7879050526937852 and parameters: {'num_leaves': 6, 'learning_rate': 0.004005207107988369, 'max_depth': 7}. Best is trial 80 with value: 0.8371121835910568.\u001b[0m\n"
     ]
    },
    {
     "name": "stdout",
     "output_type": "stream",
     "text": [
      "{'num_leaves': 7, 'learning_rate': 0.012428483677791534, 'max_depth': 5}\n",
      "0.8371121835910568\n"
     ]
    }
   ],
   "source": [
    "def objective(trial):\n",
    "    \n",
    "    param_grid_lgb = {\n",
    "        'num_leaves': trial.suggest_int(\"num_leaves\", 3, 10),\n",
    "        'learning_rate': trial.suggest_loguniform(\"learning_rate\", 1e-8, 1.0),\n",
    "        'max_depth': trial.suggest_int(\"max_depth\", 3, 10),\n",
    "        \"random_state\": 0\n",
    "    }\n",
    "\n",
    "    model = LGBMClassifier(**param_grid_lgb)\n",
    "    \n",
    "    # 5-Fold CV / Accuracy でモデルを評価する\n",
    "    kf = StratifiedKFold(n_splits=5, shuffle=True, random_state=0)\n",
    "    scores = cross_validate(model, X=X_train, y=y_train, cv=kf)\n",
    "    # 最小化なので 1.0 からスコアを引く\n",
    "    return scores['test_score'].mean()\n",
    "\n",
    "study = optuna.create_study(direction='maximize')\n",
    "study.optimize(objective, n_trials=100)\n",
    "print(study.best_params)\n",
    "print(study.best_value)\n",
    "lgb_best_param = study.best_params"
   ]
  },
  {
   "cell_type": "markdown",
   "metadata": {},
   "source": [
    "#### ・ LogisticRegression"
   ]
  },
  {
   "cell_type": "code",
   "execution_count": 28,
   "metadata": {},
   "outputs": [
    {
     "name": "stderr",
     "output_type": "stream",
     "text": [
      "\u001b[32m[I 2021-01-03 21:47:29,163]\u001b[0m A new study created in memory with name: no-name-2dbecf1e-36a6-42c1-8d13-a0b4ca7da468\u001b[0m\n",
      "\u001b[32m[I 2021-01-03 21:47:29,372]\u001b[0m Trial 0 finished with value: 0.8244361272530287 and parameters: {'C': 38}. Best is trial 0 with value: 0.8244361272530287.\u001b[0m\n",
      "\u001b[32m[I 2021-01-03 21:47:29,506]\u001b[0m Trial 1 finished with value: 0.8286614793657048 and parameters: {'C': 1}. Best is trial 1 with value: 0.8286614793657048.\u001b[0m\n",
      "\u001b[32m[I 2021-01-03 21:47:29,652]\u001b[0m Trial 2 finished with value: 0.8230375258544272 and parameters: {'C': 82}. Best is trial 1 with value: 0.8286614793657048.\u001b[0m\n",
      "\u001b[32m[I 2021-01-03 21:47:29,792]\u001b[0m Trial 3 finished with value: 0.8244558258642766 and parameters: {'C': 25}. Best is trial 1 with value: 0.8286614793657048.\u001b[0m\n",
      "\u001b[32m[I 2021-01-03 21:47:29,930]\u001b[0m Trial 4 finished with value: 0.8244558258642766 and parameters: {'C': 25}. Best is trial 1 with value: 0.8286614793657048.\u001b[0m\n",
      "\u001b[32m[I 2021-01-03 21:47:30,067]\u001b[0m Trial 5 finished with value: 0.8244459765586527 and parameters: {'C': 36}. Best is trial 1 with value: 0.8286614793657048.\u001b[0m\n",
      "\u001b[32m[I 2021-01-03 21:47:30,205]\u001b[0m Trial 6 finished with value: 0.8230375258544272 and parameters: {'C': 73}. Best is trial 1 with value: 0.8286614793657048.\u001b[0m\n",
      "\u001b[32m[I 2021-01-03 21:47:30,341]\u001b[0m Trial 7 finished with value: 0.8244361272530287 and parameters: {'C': 43}. Best is trial 1 with value: 0.8286614793657048.\u001b[0m\n",
      "\u001b[32m[I 2021-01-03 21:47:30,480]\u001b[0m Trial 8 finished with value: 0.8244459765586527 and parameters: {'C': 79}. Best is trial 1 with value: 0.8286614793657048.\u001b[0m\n",
      "\u001b[32m[I 2021-01-03 21:47:30,619]\u001b[0m Trial 9 finished with value: 0.8230375258544272 and parameters: {'C': 80}. Best is trial 1 with value: 0.8286614793657048.\u001b[0m\n"
     ]
    },
    {
     "name": "stdout",
     "output_type": "stream",
     "text": [
      "{'C': 1}\n",
      "0.8286614793657048\n"
     ]
    }
   ],
   "source": [
    "import warnings\n",
    "warnings.filterwarnings('ignore')\n",
    "\n",
    "def objective(trial):\n",
    "    \n",
    "    param_grid_lr = {\n",
    "        'C' : trial.suggest_int(\"C\", 1, 100),\n",
    "        \"random_state\": 0\n",
    "    }\n",
    "\n",
    "    model = LogisticRegression(**param_grid_lr)\n",
    "    \n",
    "    # 5-Fold CV / Accuracy でモデルを評価する\n",
    "    kf = StratifiedKFold(n_splits=5, shuffle=True, random_state=0)\n",
    "    scores = cross_validate(model, X=X_train, y=y_train, cv=kf)\n",
    "    # 最小化なので 1.0 からスコアを引く\n",
    "    return scores['test_score'].mean()\n",
    "\n",
    "study = optuna.create_study(direction='maximize')\n",
    "study.optimize(objective, n_trials=10)\n",
    "print(study.best_params)\n",
    "print(study.best_value)\n",
    "lr_best_param = study.best_params"
   ]
  },
  {
   "cell_type": "markdown",
   "metadata": {},
   "source": [
    "#### ・ SVC"
   ]
  },
  {
   "cell_type": "code",
   "execution_count": 29,
   "metadata": {},
   "outputs": [
    {
     "name": "stderr",
     "output_type": "stream",
     "text": [
      "\u001b[32m[I 2021-01-03 21:47:38,183]\u001b[0m A new study created in memory with name: no-name-e9ae5380-92c3-4dc5-b67d-5486b07554bc\u001b[0m\n",
      "\u001b[32m[I 2021-01-03 21:47:38,321]\u001b[0m Trial 0 finished with value: 0.8342854328769821 and parameters: {'C': 90, 'gamma': 0.02122463917423607}. Best is trial 0 with value: 0.8342854328769821.\u001b[0m\n",
      "\u001b[32m[I 2021-01-03 21:47:38,457]\u001b[0m Trial 1 finished with value: 0.8371023342854329 and parameters: {'C': 176, 'gamma': 0.00022120606768893459}. Best is trial 1 with value: 0.8371023342854329.\u001b[0m\n",
      "\u001b[32m[I 2021-01-03 21:47:38,579]\u001b[0m Trial 2 finished with value: 0.8427361371023345 and parameters: {'C': 83, 'gamma': 0.015183597281370736}. Best is trial 2 with value: 0.8427361371023345.\u001b[0m\n",
      "\u001b[32m[I 2021-01-03 21:47:38,707]\u001b[0m Trial 3 finished with value: 0.8300896286811781 and parameters: {'C': 194, 'gamma': 0.0015389201018484863}. Best is trial 2 with value: 0.8427361371023345.\u001b[0m\n",
      "\u001b[32m[I 2021-01-03 21:47:38,806]\u001b[0m Trial 4 finished with value: 0.8244459765586527 and parameters: {'C': 183, 'gamma': 0.4845169006647052}. Best is trial 2 with value: 0.8427361371023345.\u001b[0m\n",
      "\u001b[32m[I 2021-01-03 21:47:38,901]\u001b[0m Trial 5 finished with value: 0.8160642174726682 and parameters: {'C': 182, 'gamma': 0.09662337856836622}. Best is trial 2 with value: 0.8427361371023345.\u001b[0m\n",
      "\u001b[32m[I 2021-01-03 21:47:39,013]\u001b[0m Trial 6 finished with value: 0.8427459864079584 and parameters: {'C': 175, 'gamma': 0.007849918311192377}. Best is trial 6 with value: 0.8427459864079584.\u001b[0m\n",
      "\u001b[32m[I 2021-01-03 21:47:39,102]\u001b[0m Trial 7 finished with value: 0.8174529695656456 and parameters: {'C': 199, 'gamma': 0.15774508366145143}. Best is trial 6 with value: 0.8427459864079584.\u001b[0m\n",
      "\u001b[32m[I 2021-01-03 21:47:39,192]\u001b[0m Trial 8 finished with value: 0.8314882300797795 and parameters: {'C': 85, 'gamma': 0.0006471105499470095}. Best is trial 6 with value: 0.8427459864079584.\u001b[0m\n",
      "\u001b[32m[I 2021-01-03 21:47:39,290]\u001b[0m Trial 9 finished with value: 0.8314980793854033 and parameters: {'C': 159, 'gamma': 0.0008204502878655152}. Best is trial 6 with value: 0.8427459864079584.\u001b[0m\n"
     ]
    },
    {
     "name": "stdout",
     "output_type": "stream",
     "text": [
      "{'C': 175, 'gamma': 0.007849918311192377}\n",
      "0.8427459864079584\n"
     ]
    }
   ],
   "source": [
    "import warnings\n",
    "warnings.filterwarnings('ignore')\n",
    "\n",
    "def objective(trial):\n",
    "    \n",
    "    param_grid_svc = {\n",
    "        'C' : trial.suggest_int(\"C\", 50, 200),\n",
    "        'gamma': trial.suggest_loguniform(\"gamma\", 1e-4, 1.0),\n",
    "        \"random_state\": 0,\n",
    "        'kernel': 'rbf'\n",
    "    }\n",
    "\n",
    "    model = SVC(**param_grid_svc)\n",
    "    \n",
    "    # 5-Fold CV / Accuracy でモデルを評価する\n",
    "    kf = StratifiedKFold(n_splits=5, shuffle=True, random_state=0)\n",
    "    scores = cross_validate(model, X=X_train, y=y_train, cv=kf)\n",
    "    # 最小化なので 1.0 からスコアを引く\n",
    "    return scores['test_score'].mean()\n",
    "\n",
    "study = optuna.create_study(direction='maximize')\n",
    "study.optimize(objective, n_trials=10)\n",
    "print(study.best_params)\n",
    "print(study.best_value)\n",
    "svc_best_param = study.best_params"
   ]
  },
  {
   "cell_type": "markdown",
   "metadata": {},
   "source": [
    "## - 汎化性能検証"
   ]
  },
  {
   "cell_type": "code",
   "execution_count": 31,
   "metadata": {},
   "outputs": [
    {
     "name": "stdout",
     "output_type": "stream",
     "text": [
      "■ RandomForestClassifier\n",
      "mean:0.8271420500910175, std:0.01170254590643617\n",
      "====================\n",
      "■ XGBClassifier\n",
      "[21:49:57] WARNING: /Users/travis/build/dmlc/xgboost/src/learner.cc:1061: Starting in XGBoost 1.3.0, the default evaluation metric used with the objective 'binary:logistic' was changed from 'error' to 'logloss'. Explicitly set eval_metric if you'd like to restore the old behavior.\n",
      "[21:49:57] WARNING: /Users/travis/build/dmlc/xgboost/src/learner.cc:1061: Starting in XGBoost 1.3.0, the default evaluation metric used with the objective 'binary:logistic' was changed from 'error' to 'logloss'. Explicitly set eval_metric if you'd like to restore the old behavior.\n",
      "[21:49:57] WARNING: /Users/travis/build/dmlc/xgboost/src/learner.cc:1061: Starting in XGBoost 1.3.0, the default evaluation metric used with the objective 'binary:logistic' was changed from 'error' to 'logloss'. Explicitly set eval_metric if you'd like to restore the old behavior.\n",
      "[21:49:57] WARNING: /Users/travis/build/dmlc/xgboost/src/learner.cc:1061: Starting in XGBoost 1.3.0, the default evaluation metric used with the objective 'binary:logistic' was changed from 'error' to 'logloss'. Explicitly set eval_metric if you'd like to restore the old behavior.\n",
      "[21:49:57] WARNING: /Users/travis/build/dmlc/xgboost/src/learner.cc:1061: Starting in XGBoost 1.3.0, the default evaluation metric used with the objective 'binary:logistic' was changed from 'error' to 'logloss'. Explicitly set eval_metric if you'd like to restore the old behavior.\n",
      "mean:0.8136902893729208, std:0.010922866328636162\n",
      "====================\n",
      "■ LGBMClassifier\n",
      "mean:0.8192706044818279, std:0.03411615247033993\n",
      "====================\n",
      "■ LogisticRegression\n",
      "mean:0.8204067541271733, std:0.018289612975143935\n",
      "====================\n",
      "■ SVC\n",
      "mean:0.8125290314481199, std:0.02742458504271426\n",
      "====================\n"
     ]
    }
   ],
   "source": [
    "# 5-Fold CV / Accuracy でモデルを評価する\n",
    "kf = StratifiedKFold(n_splits=5, shuffle=True, random_state=0)\n",
    "\n",
    "rfc_best = RandomForestClassifier(**rfc_best_param)\n",
    "print('■ RandomForestClassifier')\n",
    "scores = cross_validate(rfc_best, X=train_feature, y=train_tagert, cv=kf)\n",
    "print(f'mean:{scores[\"test_score\"].mean()}, std:{scores[\"test_score\"].std()}')\n",
    "print('='*20)\n",
    "\n",
    "xgb_best = XGBClassifier(**xgb_best_param)\n",
    "print('■ XGBClassifier')\n",
    "scores = cross_validate(xgb_best, X=train_feature, y=train_tagert, cv=kf)\n",
    "print(f'mean:{scores[\"test_score\"].mean()}, std:{scores[\"test_score\"].std()}')\n",
    "print('='*20)\n",
    "\n",
    "lgb_best = LGBMClassifier(**lgb_best_param)\n",
    "print('■ LGBMClassifier')\n",
    "scores = cross_validate(lgb_best, X=train_feature, y=train_tagert, cv=kf)\n",
    "print(f'mean:{scores[\"test_score\"].mean()}, std:{scores[\"test_score\"].std()}')\n",
    "print('='*20)\n",
    "\n",
    "lr_best = LogisticRegression(**lr_best_param)\n",
    "print('■ LogisticRegression')\n",
    "scores = cross_validate(lr_best, X=train_feature, y=train_tagert, cv=kf)\n",
    "print(f'mean:{scores[\"test_score\"].mean()}, std:{scores[\"test_score\"].std()}')\n",
    "print('='*20)\n",
    "\n",
    "svc_best = SVC(**svc_best_param)\n",
    "print('■ SVC')\n",
    "scores = cross_validate(svc_best, X=train_feature, y=train_tagert, cv=kf)\n",
    "print(f'mean:{scores[\"test_score\"].mean()}, std:{scores[\"test_score\"].std()}')\n",
    "print('='*20)"
   ]
  },
  {
   "cell_type": "markdown",
   "metadata": {},
   "source": [
    "### ・ VotingClassifer\n",
    "多数決モデルを試しに実行"
   ]
  },
  {
   "cell_type": "code",
   "execution_count": 33,
   "metadata": {},
   "outputs": [
    {
     "name": "stdout",
     "output_type": "stream",
     "text": [
      "■ VotingClassifier\n",
      "[21:50:24] WARNING: /Users/travis/build/dmlc/xgboost/src/learner.cc:1061: Starting in XGBoost 1.3.0, the default evaluation metric used with the objective 'binary:logistic' was changed from 'error' to 'logloss'. Explicitly set eval_metric if you'd like to restore the old behavior.\n",
      "[21:50:24] WARNING: /Users/travis/build/dmlc/xgboost/src/learner.cc:1061: Starting in XGBoost 1.3.0, the default evaluation metric used with the objective 'binary:logistic' was changed from 'error' to 'logloss'. Explicitly set eval_metric if you'd like to restore the old behavior.\n",
      "[21:50:25] WARNING: /Users/travis/build/dmlc/xgboost/src/learner.cc:1061: Starting in XGBoost 1.3.0, the default evaluation metric used with the objective 'binary:logistic' was changed from 'error' to 'logloss'. Explicitly set eval_metric if you'd like to restore the old behavior.\n",
      "[21:50:25] WARNING: /Users/travis/build/dmlc/xgboost/src/learner.cc:1061: Starting in XGBoost 1.3.0, the default evaluation metric used with the objective 'binary:logistic' was changed from 'error' to 'logloss'. Explicitly set eval_metric if you'd like to restore the old behavior.\n",
      "[21:50:25] WARNING: /Users/travis/build/dmlc/xgboost/src/learner.cc:1061: Starting in XGBoost 1.3.0, the default evaluation metric used with the objective 'binary:logistic' was changed from 'error' to 'logloss'. Explicitly set eval_metric if you'd like to restore the old behavior.\n",
      "mean:0.8293829640323895, std:0.02222389825956032\n"
     ]
    }
   ],
   "source": [
    "from sklearn.ensemble import VotingClassifier\n",
    "\n",
    "# voting に使う分類器を用意する\n",
    "estimators = [\n",
    "    ('rfc', RandomForestClassifier(**rfc_best_param)),\n",
    "    ('xgb', XGBClassifier(**xgb_best_param)),\n",
    "    ('lgb', LGBMClassifier(**lgb_best_param)),\n",
    "    ('lr', LogisticRegression(**lr_best_param)),\n",
    "    ('svc', SVC(**lr_best_param))\n",
    "]\n",
    "voting = VotingClassifier(estimators)\n",
    "\n",
    "print('■ VotingClassifier')\n",
    "scores = cross_validate(voting, X=train_feature, y=train_tagert, cv=kf)\n",
    "print(f'mean:{scores[\"test_score\"].mean()}, std:{scores[\"test_score\"].std()}')"
   ]
  },
  {
   "cell_type": "markdown",
   "metadata": {},
   "source": [
    "## 🚢 推論"
   ]
  },
  {
   "cell_type": "code",
   "execution_count": 34,
   "metadata": {},
   "outputs": [
    {
     "name": "stdout",
     "output_type": "stream",
     "text": [
      "[22:57:37] WARNING: /Users/travis/build/dmlc/xgboost/src/learner.cc:1061: Starting in XGBoost 1.3.0, the default evaluation metric used with the objective 'binary:logistic' was changed from 'error' to 'logloss'. Explicitly set eval_metric if you'd like to restore the old behavior.\n"
     ]
    }
   ],
   "source": [
    "# RandomForest\n",
    "rfc_best = RandomForestClassifier(**rfc_best_param)\n",
    "rfc_best.fit(train_feature, train_tagert)\n",
    "# XGBoost\n",
    "xgb_best = XGBClassifier(**xgb_best_param)\n",
    "xgb_best.fit(train_feature, train_tagert)\n",
    "# LightGBM\n",
    "lgb_best = LGBMClassifier(**lgb_best_param)\n",
    "lgb_best.fit(train_feature, train_tagert)\n",
    "# LogisticRegression\n",
    "lr_best = LogisticRegression(**lr_best_param)\n",
    "lr_best.fit(train_feature, train_tagert)\n",
    "# SVC\n",
    "svc_best = SVC(**svc_best_param)\n",
    "svc_best.fit(train_feature, train_tagert)\n",
    "# 推論\n",
    "pred = {\n",
    "    'rfc': rfc_best.predict(test_feature),\n",
    "    'xgb': xgb_best.predict(test_feature),\n",
    "    'lgb': lgb_best.predict(test_feature),\n",
    "    'lr': lr_best.predict(test_feature),\n",
    "    'svc': svc_best.predict(test_feature)\n",
    "}\n",
    "# ファイル出力\n",
    "for key, value in pred.items():\n",
    "    pd.concat(\n",
    "        [\n",
    "            pd.DataFrame(test.PassengerId, columns=['PassengerId']).reset_index(drop=True),\n",
    "            pd.DataFrame(value, columns=['Survived'])\n",
    "        ],\n",
    "        axis=1\n",
    "    ).to_csv(f'output_{key}.csv', index=False)"
   ]
  },
  {
   "cell_type": "code",
   "execution_count": null,
   "metadata": {},
   "outputs": [],
   "source": []
  }
 ],
 "metadata": {
  "kernelspec": {
   "display_name": "Python 3",
   "language": "python",
   "name": "python3"
  },
  "language_info": {
   "codemirror_mode": {
    "name": "ipython",
    "version": 3
   },
   "file_extension": ".py",
   "mimetype": "text/x-python",
   "name": "python",
   "nbconvert_exporter": "python",
   "pygments_lexer": "ipython3",
   "version": "3.8.5"
  }
 },
 "nbformat": 4,
 "nbformat_minor": 4
}
